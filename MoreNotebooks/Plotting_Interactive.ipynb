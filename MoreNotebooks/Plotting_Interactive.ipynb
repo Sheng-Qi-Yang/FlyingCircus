{
 "cells": [
  {
   "cell_type": "markdown",
   "metadata": {},
   "source": [
    "# Interactive Plotting with Jupyter\n",
    "\n",
    "There are several ways to interactively plot. In this tutorial I will show how to interact with 2D and 1D data.  There are other ways to interact with large tables of data using either [Bokeh](https://docs.bokeh.org/en/latest/index.html) (shown the Skyfit notebook) or [Glue](http://docs.glueviz.org/en/stable). A non-python based solution that also works with large tables of data is Topcat. \n",
    "\n",
    "Most of the methods here will work on the command line.  In order to make this work within Jupyter you will need the following modules.\n",
    "\n",
    "```\n",
    "conda install -c conda-forge ipympl\n",
    "conda install -c conda-forge ipywidgets\n",
    "```\n",
    "\n",
    "https://ipywidgets.readthedocs.io/\n"
   ]
  },
  {
   "cell_type": "code",
   "execution_count": null,
   "metadata": {
    "ExecuteTime": {
     "end_time": "2021-06-17T18:09:39.045884Z",
     "start_time": "2021-06-17T18:09:38.983302Z"
    }
   },
   "outputs": [],
   "source": [
    "import sys\n",
    "import astropy\n",
    "import astroquery\n",
    "import ipywidgets\n",
    "import matplotlib\n",
    "\n",
    "print('\\n Python version: ', sys.version)\n",
    "print('\\n Astropy version: ', astropy.__version__)\n",
    "print('\\n Matplotlib version: ', matplotlib.__version__)\n",
    "print('\\n Astroquery version: ', astroquery.__version__)\n",
    "print('\\n ipywidgets version: ', ipywidgets.__version__)"
   ]
  },
  {
   "cell_type": "code",
   "execution_count": null,
   "metadata": {
    "ExecuteTime": {
     "end_time": "2021-06-17T18:12:22.036510Z",
     "start_time": "2021-06-17T18:12:20.687481Z"
    }
   },
   "outputs": [],
   "source": [
    "import glob,os,sys\n",
    "\n",
    "import numpy as np\n",
    "import matplotlib.pyplot as plt \n",
    "\n",
    "import astropy.io.fits as pyfits\n",
    "import astropy.units as u\n",
    "from astroquery.skyview import SkyView\n",
    "\n",
    "import ipywidgets as widgets"
   ]
  },
  {
   "cell_type": "markdown",
   "metadata": {},
   "source": [
    "Here we need an image to play with, we can either download it via SkyView or load one from our machine."
   ]
  },
  {
   "cell_type": "code",
   "execution_count": null,
   "metadata": {
    "ExecuteTime": {
     "end_time": "2021-06-17T18:12:26.270510Z",
     "start_time": "2021-06-17T18:12:24.608677Z"
    },
    "scrolled": true
   },
   "outputs": [],
   "source": [
    "ext = 0\n",
    "\n",
    "# download an image\n",
    "pflist = SkyView.get_images(position='M82', survey=['SDSSr'], radius=10 * u.arcmin)\n",
    "pf = pflist[0] # first element of the list, might need a loop if multiple images\n",
    "\n",
    "# or load an image\n",
    "#pf = pyfits.open('m82.fits')\n",
    "\n",
    "image = pf[ext].data"
   ]
  },
  {
   "cell_type": "markdown",
   "metadata": {},
   "source": [
    "Next we need to turn on the interactive plotting.  "
   ]
  },
  {
   "cell_type": "code",
   "execution_count": null,
   "metadata": {
    "ExecuteTime": {
     "end_time": "2021-06-17T18:12:30.928415Z",
     "start_time": "2021-06-17T18:12:30.919600Z"
    }
   },
   "outputs": [],
   "source": [
    "# turn-on interactive plots\n",
    "%matplotlib widget "
   ]
  },
  {
   "cell_type": "markdown",
   "metadata": {},
   "source": [
    "# Display an image (2D data)\n",
    "\n",
    "We plot a 2D image using imshow, we can set the scale of the image as well as the colormap."
   ]
  },
  {
   "cell_type": "code",
   "execution_count": null,
   "metadata": {
    "ExecuteTime": {
     "end_time": "2021-06-17T18:12:34.121007Z",
     "start_time": "2021-06-17T18:12:34.077289Z"
    },
    "scrolled": true
   },
   "outputs": [],
   "source": [
    "#plt.ioff()\n",
    "fig = plt.figure(figsize=[6,6])\n",
    "plt.ion()\n",
    "\n",
    "p = fig.add_subplot(111)\n",
    "p.imshow(image, interpolation='Nearest', origin='lower', vmin=-10, vmax=20, cmap='viridis')\n",
    "\n",
    "plt.show()"
   ]
  },
  {
   "cell_type": "markdown",
   "metadata": {},
   "source": [
    "# Add an event to the display\n",
    "\n",
    "There are several types of matplotlib events that you can use to interact with a figure. \n",
    "\n",
    "A few useful events are the following:\n",
    "\n",
    "`button_press_event` \t\n",
    "`button_release_event` \t\n",
    "`key_press_event`  \n",
    "`key_release_event`  \n",
    "\n",
    "For more information on event handling and examples check out the following website: \n",
    "https://matplotlib.org/stable/users/event_handling.html\n",
    "\n",
    "Here we add a python function linking to link to the `key_press_event`. The function checks for the which key being pressed and if the condition is met runs its code, in this case plotting a red point on the image.  We can easily add more keys adding more functionaly to our interactive figure."
   ]
  },
  {
   "cell_type": "code",
   "execution_count": null,
   "metadata": {
    "ExecuteTime": {
     "end_time": "2021-06-17T18:12:55.175795Z",
     "start_time": "2021-06-17T18:12:55.134500Z"
    },
    "scrolled": true
   },
   "outputs": [],
   "source": [
    "#plt.ioff()\n",
    "fig = plt.figure(figsize=[6,6])\n",
    "plt.ion()\n",
    "\n",
    "p = fig.add_subplot(111)\n",
    "p.imshow(image, interpolation='Nearest', origin='lower', vmin=-10, vmax=20, cmap='viridis')\n",
    "\n",
    "def on_key_press(event):\n",
    "    xc, yc = event.xdata, event.ydata\n",
    "\n",
    "    if event.key == 'm':\n",
    "        p.plot(xc,yc,'ro', markersize=5)\n",
    "        fig.canvas.draw_idle\n",
    "\n",
    "fig.canvas.mpl_connect('key_press_event', on_key_press)\n",
    "\n",
    "plt.show()"
   ]
  },
  {
   "cell_type": "markdown",
   "metadata": {},
   "source": [
    "# Add output to the display with the event\n",
    "\n",
    "If we want to display the coordinate of the points we mark, we need to use the Output widget."
   ]
  },
  {
   "cell_type": "code",
   "execution_count": null,
   "metadata": {
    "ExecuteTime": {
     "end_time": "2021-06-17T18:13:17.056879Z",
     "start_time": "2021-06-17T18:13:17.010340Z"
    }
   },
   "outputs": [],
   "source": [
    "#plt.ioff()\n",
    "fig = plt.figure(figsize=[6,6])\n",
    "plt.ion()\n",
    "\n",
    "p = fig.add_subplot(111)\n",
    "p.imshow(image, interpolation='Nearest', origin='lower', vmin=-10, vmax=20, cmap='viridis')\n",
    "\n",
    "out = widgets.Output()\n",
    "@out.capture()\n",
    "def on_key_press(event):\n",
    "    xc, yc = event.xdata, event.ydata\n",
    "\n",
    "    if event.key == 'm':\n",
    "        p.plot(xc,yc,'ro', markersize=5)\n",
    "        fig.canvas.draw_idle\n",
    "        \n",
    "        print(\"[%.1f, %.1f] = %.4f\" % (xc, yc, image[int(yc),int(xc)]))\n",
    "\n",
    "fig.canvas.mpl_connect('key_press_event', on_key_press)\n",
    "\n",
    "display(out)\n"
   ]
  },
  {
   "cell_type": "markdown",
   "metadata": {},
   "source": [
    "We can also write a Python class, this makes it more convient for dealing with multiple interactive events (i.e. keypress, mouse clicking, dragging, etc)."
   ]
  },
  {
   "cell_type": "code",
   "execution_count": null,
   "metadata": {
    "ExecuteTime": {
     "end_time": "2021-06-17T18:14:04.867228Z",
     "start_time": "2021-06-17T18:14:04.861026Z"
    }
   },
   "outputs": [],
   "source": [
    "class GUI_inter:\n",
    "\n",
    "    def __init__(self,fig,img):\n",
    "        self.fig = fig\n",
    "        self.p = self.fig.gca()\n",
    "\n",
    "        self.img = img\n",
    "\n",
    "        self.display()\n",
    "\n",
    "    def display(self,sigma=20.0):\n",
    "        plt.clf()\n",
    "\n",
    "        self.v0 = np.mean(self.img) - sigma * np.std(self.img)\n",
    "        self.v1 = np.mean(self.img) + sigma * np.std(self.img)\n",
    "\n",
    "        self.p = self.fig.add_subplot(111)\n",
    "        self.p.imshow(self.img, interpolation='Nearest', origin='lower', \n",
    "                      vmin=self.v0, vmax=self.v1, cmap='viridis')\n",
    "        plt.draw()\n",
    "\n",
    "    def on_key_press(self, event):\n",
    "        xc, yc = event.xdata, event.ydata\n",
    "\n",
    "        if event.key == 'm':\n",
    "            self.p.plot(xc,yc,'ro', markersize=5)\n",
    "            fig.canvas.draw_idle\n",
    "\n",
    "            print(\"[%.2f, %.2f]\" % (xc,yc))"
   ]
  },
  {
   "cell_type": "code",
   "execution_count": null,
   "metadata": {
    "ExecuteTime": {
     "end_time": "2021-06-17T18:14:07.056290Z",
     "start_time": "2021-06-17T18:14:06.975632Z"
    }
   },
   "outputs": [],
   "source": [
    "fig = plt.figure(figsize=[6,6])\n",
    "G = GUI_inter(fig, image)\n",
    "fig.canvas.mpl_connect('key_press_event', G.on_key_press)\n",
    "#display(fig)"
   ]
  },
  {
   "cell_type": "markdown",
   "metadata": {},
   "source": [
    "# Interactive 1D data"
   ]
  },
  {
   "cell_type": "code",
   "execution_count": null,
   "metadata": {
    "ExecuteTime": {
     "end_time": "2021-06-17T18:14:31.877089Z",
     "start_time": "2021-06-17T18:14:31.836518Z"
    }
   },
   "outputs": [],
   "source": [
    "slice = image[150,:]\n",
    "\n",
    "fig = plt.figure(figsize=[6,6])\n",
    "p = fig.add_subplot(111)\n",
    "p.plot(slice)\n",
    "plt.show()"
   ]
  },
  {
   "cell_type": "code",
   "execution_count": null,
   "metadata": {
    "ExecuteTime": {
     "end_time": "2021-06-17T18:14:44.689802Z",
     "start_time": "2021-06-17T18:14:44.642588Z"
    }
   },
   "outputs": [],
   "source": [
    "zl,xl = image.shape\n",
    "\n",
    "fig = plt.figure(figsize=[6,6])\n",
    "p = fig.add_subplot(111)\n",
    "#p.set_yscale('log')\n",
    "\n",
    "slice = image[150,:]\n",
    "line, = p.plot(slice)\n",
    "\n",
    "def update(change):\n",
    "    line.set_ydata(image[change.new,:])\n",
    "    fig.canvas.draw()\n",
    "\n",
    "int_slider = widgets.IntSlider(\n",
    "    value=150,\n",
    "    min=0,\n",
    "    max=zl,\n",
    "    step=1,\n",
    "    description='Z-axis:',\n",
    "    continuous_update=False\n",
    ")\n",
    "int_slider.observe(update, 'value')\n",
    "int_slider"
   ]
  },
  {
   "cell_type": "code",
   "execution_count": null,
   "metadata": {
    "ExecuteTime": {
     "end_time": "2021-06-17T18:15:11.526778Z",
     "start_time": "2021-06-17T18:15:11.502909Z"
    }
   },
   "outputs": [],
   "source": [
    "from astroquery.sdss import SDSS\n",
    "from astropy import coordinates"
   ]
  },
  {
   "cell_type": "code",
   "execution_count": null,
   "metadata": {
    "ExecuteTime": {
     "end_time": "2021-06-17T18:15:12.352727Z",
     "start_time": "2021-06-17T18:15:12.350169Z"
    }
   },
   "outputs": [],
   "source": [
    "ra, dec = 148.969687, 69.679383"
   ]
  },
  {
   "cell_type": "code",
   "execution_count": null,
   "metadata": {
    "ExecuteTime": {
     "end_time": "2021-06-17T18:15:13.340683Z",
     "start_time": "2021-06-17T18:15:13.336406Z"
    }
   },
   "outputs": [],
   "source": [
    "co = coordinates.SkyCoord(ra=ra, dec=dec,unit=(u.deg, u.deg), frame='fk5')"
   ]
  },
  {
   "cell_type": "code",
   "execution_count": null,
   "metadata": {
    "ExecuteTime": {
     "end_time": "2021-06-17T18:20:30.625552Z",
     "start_time": "2021-06-17T18:20:12.628974Z"
    }
   },
   "outputs": [],
   "source": [
    "xid = SDSS.query_region(co, radius=20 * u.arcmin, spectro=True)\n",
    "sp = SDSS.get_spectra(matches=xid)\n",
    "print(\"N =\",len(sp))"
   ]
  },
  {
   "cell_type": "code",
   "execution_count": null,
   "metadata": {
    "ExecuteTime": {
     "end_time": "2021-06-17T18:15:16.248033Z",
     "start_time": "2021-06-17T18:15:16.199750Z"
    }
   },
   "outputs": [],
   "source": [
    "pf = sp[0]\n",
    "ext = 1\n",
    "pf[ext].header\n",
    "tab = pf[ext].data\n",
    "\n",
    "spec = tab['flux']\n",
    "wave = 10**tab['loglam']\n",
    "\n",
    "fig = plt.figure(figsize=(8,8))\n",
    "ax = fig.add_subplot(111)\n",
    "ax.plot(wave,spec)\n",
    "ax.set_xlabel('Wavelength [Angstroms]')\n",
    "ax.set_ylabel('Flux')"
   ]
  },
  {
   "cell_type": "code",
   "execution_count": null,
   "metadata": {
    "ExecuteTime": {
     "end_time": "2021-06-17T18:54:44.578363Z",
     "start_time": "2021-06-17T18:54:44.526575Z"
    }
   },
   "outputs": [],
   "source": [
    "ext = 1\n",
    "n_max = len(sp)-1 # total number of spectra - 1\n",
    "\n",
    "pf = sp[0]\n",
    "pf[ext].header\n",
    "tab = pf[ext].data\n",
    "\n",
    "spec = tab['flux']\n",
    "wave = 10**tab['loglam']\n",
    "\n",
    "fig = plt.figure(figsize=(6,6))\n",
    "ax = fig.add_subplot(111)\n",
    "line, = ax.plot(wave,spec)\n",
    "ax.set_xlabel('Wavelength [Angstroms]')\n",
    "ax.set_ylabel('Flux')\n",
    "\n",
    "def new_spec(change):\n",
    "    pf = sp[change.new]\n",
    "   \n",
    "    pf[ext].header\n",
    "    tab = pf[ext].data\n",
    "\n",
    "    spec = tab['flux']\n",
    "    wave = 10**tab['loglam']\n",
    "    \n",
    "    line.set_xdata(wave)\n",
    "    line.set_ydata(spec)\n",
    "    fig.canvas.draw()\n",
    "\n",
    "int_slider = widgets.IntSlider(\n",
    "    value=0,\n",
    "    min=0,\n",
    "    max=n_max,\n",
    "    step=1,\n",
    "    description='Spectrum:',\n",
    "    continuous_update=False\n",
    ")\n",
    "int_slider.observe(new_spec, 'value')\n",
    "int_slider"
   ]
  },
  {
   "cell_type": "code",
   "execution_count": null,
   "metadata": {
    "ExecuteTime": {
     "end_time": "2021-06-17T18:53:41.859848Z",
     "start_time": "2021-06-17T18:53:41.799235Z"
    }
   },
   "outputs": [],
   "source": [
    "ext = 1\n",
    "n_max = len(sp)-1 # total number of spectra - 1\n",
    "\n",
    "pf = sp[0]\n",
    "pf[ext].header\n",
    "tab = pf[ext].data\n",
    "\n",
    "spec = tab['flux']\n",
    "wave = 10**tab['loglam']\n",
    "\n",
    "fig = plt.figure(figsize=(6,6))\n",
    "ax = fig.add_subplot(111)\n",
    "line, = ax.plot(wave,spec)\n",
    "ax.set_xlabel('Wavelength [Angstroms]')\n",
    "ax.set_ylabel('Flux')\n",
    "\n",
    "line2, = ax.plot([6563,6563],[0,20],\"--\",c=\"r\")\n",
    "line2.set_visible(False)\n",
    "\n",
    "def new_spec(change):\n",
    "    pf = sp[change.new]\n",
    "   \n",
    "    pf[ext].header\n",
    "    tab = pf[ext].data\n",
    "\n",
    "    spec = tab['flux']\n",
    "    wave = 10**tab['loglam']\n",
    "    \n",
    "    line.set_xdata(wave)\n",
    "    line.set_ydata(spec)\n",
    "    fig.canvas.draw()\n",
    "    \n",
    "    \n",
    "def display_lines(change):\n",
    "    if change.new: line2.set_visible(True)\n",
    "    else: line2.set_visible(False)\n",
    "    fig.canvas.draw()\n",
    "\n",
    "int_slider = widgets.IntSlider(\n",
    "    value=0,\n",
    "    min=0,\n",
    "    max=n_max,\n",
    "    step=1,\n",
    "    description='Spectrum:',\n",
    "    continuous_update=False\n",
    ")\n",
    "int_slider.observe(new_spec, 'value')\n",
    "display(int_slider)\n",
    "\n",
    "\n",
    "    \n",
    "chk_box = widgets.Checkbox(\n",
    "    value=False,\n",
    "    description='Line list',\n",
    ")\n",
    "\n",
    "chk_box.observe(display_lines, 'value')\n",
    "display(chk_box)"
   ]
  },
  {
   "cell_type": "code",
   "execution_count": null,
   "metadata": {
    "ExecuteTime": {
     "end_time": "2021-02-23T01:28:31.034839Z",
     "start_time": "2021-02-23T01:28:31.030460Z"
    }
   },
   "outputs": [],
   "source": [
    "# turn-off interactive plots\n",
    "%matplotlib inline "
   ]
  },
  {
   "cell_type": "markdown",
   "metadata": {},
   "source": [
    "# Resources\n",
    "\n",
    "https://ipywidgets.readthedocs.io/\n",
    "\n",
    "https://ipywidgets.readthedocs.io/en/stable/examples/Widget%20List.html\n",
    "\n",
    "https://ipywidgets.readthedocs.io/en/latest/examples/Output%20Widget.html\n",
    "\n",
    "https://kapernikov.com/ipywidgets-with-matplotlib/\n",
    "\n",
    "https://matplotlib.org/stable/users/event_handling.html\n",
    "\n",
    "https://docs.bokeh.org/en/latest/index.html\n",
    "\n",
    "http://docs.glueviz.org/en/stable"
   ]
  },
  {
   "cell_type": "code",
   "execution_count": null,
   "metadata": {},
   "outputs": [],
   "source": []
  }
 ],
 "metadata": {
  "kernelspec": {
   "display_name": "Python 3",
   "language": "python",
   "name": "python3"
  },
  "language_info": {
   "codemirror_mode": {
    "name": "ipython",
    "version": 3
   },
   "file_extension": ".py",
   "mimetype": "text/x-python",
   "name": "python",
   "nbconvert_exporter": "python",
   "pygments_lexer": "ipython3",
   "version": "3.7.0"
  }
 },
 "nbformat": 4,
 "nbformat_minor": 2
}

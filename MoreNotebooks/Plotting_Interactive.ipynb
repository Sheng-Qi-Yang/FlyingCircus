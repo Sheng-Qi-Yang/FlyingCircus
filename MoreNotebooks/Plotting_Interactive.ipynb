{
 "cells": [
  {
   "cell_type": "markdown",
   "metadata": {},
   "source": [
    "# Interactive Plotting with Jupyter\n",
    "\n",
    "There are several ways to interactively plot. In this tutorial I will show how to interact with 2D and 1D data.  There are other ways to interact with large tables of data using either [Bokeh](https://docs.bokeh.org/en/latest/index.html) (shown the Skyfit notebook) or [Glue](http://docs.glueviz.org/en/stable). A non-python based solution that also works with large tables of data is Topcat. \n",
    "\n",
    "Most of the methods here will work on the command line.  In order to make this work within Jupyter you will need the following modules.\n",
    "\n",
    "```\n",
    "conda install -c conda-forge ipympl\n",
    "\n",
    "conda install -c conda-forge ipywidgets\n",
    "```\n",
    "\n",
    "https://ipywidgets.readthedocs.io/\n"
   ]
  },
  {
   "cell_type": "code",
   "execution_count": 1,
   "metadata": {
    "ExecuteTime": {
     "end_time": "2021-06-16T07:19:17.618858Z",
     "start_time": "2021-06-16T07:19:15.496362Z"
    }
   },
   "outputs": [],
   "source": [
    "import glob,os,sys\n",
    "\n",
    "import numpy as np\n",
    "import matplotlib.pyplot as plt \n",
    "\n",
    "import astropy.io.fits as pyfits\n",
    "import astropy.units as u\n",
    "from astroquery.skyview import SkyView\n",
    "\n",
    "import ipywidgets as widgets"
   ]
  },
  {
   "cell_type": "markdown",
   "metadata": {},
   "source": [
    "Here we need an image to play with"
   ]
  },
  {
   "cell_type": "code",
   "execution_count": 2,
   "metadata": {
    "ExecuteTime": {
     "end_time": "2021-06-16T07:19:21.272726Z",
     "start_time": "2021-06-16T07:19:19.189606Z"
    },
    "scrolled": true
   },
   "outputs": [],
   "source": [
    "ext = 0\n",
    "\n",
    "# download an image\n",
    "pflist = SkyView.get_images(position='M82', survey=['SDSSr'], radius=10 * u.arcmin)\n",
    "pf = pflist[0] # first element of the list, might need a loop if multiple images\n",
    "\n",
    "# or load an image\n",
    "#pf = pyfits.open('m82.fits')\n",
    "\n",
    "image = pf[ext].data"
   ]
  },
  {
   "cell_type": "markdown",
   "metadata": {},
   "source": [
    "Next we need to turn on the interactive plotting."
   ]
  },
  {
   "cell_type": "code",
   "execution_count": 3,
   "metadata": {
    "ExecuteTime": {
     "end_time": "2021-06-16T07:19:23.793619Z",
     "start_time": "2021-06-16T07:19:23.783543Z"
    }
   },
   "outputs": [],
   "source": [
    "# turn-on interactive plots\n",
    "%matplotlib widget "
   ]
  },
  {
   "cell_type": "markdown",
   "metadata": {},
   "source": [
    "# Display an image (2D data)\n",
    "\n",
    "We plot a 2D image using imshow, we can set the scale of the image as well as the colormap."
   ]
  },
  {
   "cell_type": "code",
   "execution_count": 4,
   "metadata": {
    "ExecuteTime": {
     "end_time": "2021-06-16T07:19:27.413576Z",
     "start_time": "2021-06-16T07:19:27.376102Z"
    },
    "scrolled": true
   },
   "outputs": [
    {
     "data": {
      "application/vnd.jupyter.widget-view+json": {
       "model_id": "e73fd51ddb294e5bbf260542df0bc1fb",
       "version_major": 2,
       "version_minor": 0
      },
      "text/plain": [
       "Canvas(toolbar=Toolbar(toolitems=[('Home', 'Reset original view', 'home', 'home'), ('Back', 'Back to previous …"
      ]
     },
     "metadata": {},
     "output_type": "display_data"
    }
   ],
   "source": [
    "#plt.ioff()\n",
    "fig = plt.figure(figsize=[6,6])\n",
    "plt.ion()\n",
    "\n",
    "p = fig.add_subplot(111)\n",
    "p.imshow(image, interpolation='Nearest', origin='lower', vmin=-10, vmax=20, cmap='viridis')\n",
    "\n",
    "plt.show()"
   ]
  },
  {
   "cell_type": "markdown",
   "metadata": {},
   "source": [
    "# Add an event to the display\n",
    "\n",
    "There are several types of matplotlib events that you can use to interact with a figure. \n",
    "\n",
    "A few useful events are the following:\n",
    "\n",
    "'button_press_event' \t\n",
    "'button_release_event' \t\n",
    "'key_press_event'  \n",
    "'key_release_event'  \n",
    "\n",
    "For more information on event handling and examples check out the following website: \n",
    "https://matplotlib.org/stable/users/event_handling.html\n",
    "\n",
    "Here we add a python function linking to link to the 'key_press_event'. The function checks for the which key being pressed and if the condition is met runs its code, in this case plotting a red point on the image.  We can easily add more keys adding more functionaly to our interactive figure."
   ]
  },
  {
   "cell_type": "code",
   "execution_count": 5,
   "metadata": {
    "ExecuteTime": {
     "end_time": "2021-06-16T07:19:32.018536Z",
     "start_time": "2021-06-16T07:19:31.979198Z"
    },
    "scrolled": true
   },
   "outputs": [
    {
     "data": {
      "application/vnd.jupyter.widget-view+json": {
       "model_id": "da1b04a166aa4847a21a4085d5d925be",
       "version_major": 2,
       "version_minor": 0
      },
      "text/plain": [
       "Canvas(toolbar=Toolbar(toolitems=[('Home', 'Reset original view', 'home', 'home'), ('Back', 'Back to previous …"
      ]
     },
     "metadata": {},
     "output_type": "display_data"
    }
   ],
   "source": [
    "#plt.ioff()\n",
    "fig = plt.figure(figsize=[6,6])\n",
    "plt.ion()\n",
    "\n",
    "p = fig.add_subplot(111)\n",
    "p.imshow(image, interpolation='Nearest', origin='lower', vmin=-10, vmax=20, cmap='viridis')\n",
    "\n",
    "def on_key_press(event):\n",
    "    xc, yc = event.xdata, event.ydata\n",
    "\n",
    "    if event.key == 'm':\n",
    "        p.plot(xc,yc,'ro', markersize=5)\n",
    "        fig.canvas.draw_idle\n",
    "\n",
    "fig.canvas.mpl_connect('key_press_event', on_key_press)\n",
    "\n",
    "plt.show()"
   ]
  },
  {
   "cell_type": "markdown",
   "metadata": {},
   "source": [
    "# Add output to the display with the event\n",
    "\n",
    "If we want to display the coordinate of the points we mark, we need to use the Output widget."
   ]
  },
  {
   "cell_type": "code",
   "execution_count": 7,
   "metadata": {
    "ExecuteTime": {
     "end_time": "2021-06-16T07:19:55.622168Z",
     "start_time": "2021-06-16T07:19:55.572458Z"
    }
   },
   "outputs": [
    {
     "data": {
      "application/vnd.jupyter.widget-view+json": {
       "model_id": "114ee577edc24b59ac59af6550d5850b",
       "version_major": 2,
       "version_minor": 0
      },
      "text/plain": [
       "Canvas(toolbar=Toolbar(toolitems=[('Home', 'Reset original view', 'home', 'home'), ('Back', 'Back to previous …"
      ]
     },
     "metadata": {},
     "output_type": "display_data"
    },
    {
     "data": {
      "application/vnd.jupyter.widget-view+json": {
       "model_id": "b6dfa89422d6461bb0eadcb4730995ab",
       "version_major": 2,
       "version_minor": 0
      },
      "text/plain": [
       "Output()"
      ]
     },
     "metadata": {},
     "output_type": "display_data"
    }
   ],
   "source": [
    "#plt.ioff()\n",
    "fig = plt.figure(figsize=[6,6])\n",
    "plt.ion()\n",
    "\n",
    "p = fig.add_subplot(111)\n",
    "p.imshow(image, interpolation='Nearest', origin='lower', vmin=-10, vmax=20, cmap='viridis')\n",
    "\n",
    "out = widgets.Output()\n",
    "@out.capture()\n",
    "def on_key_press(event):\n",
    "    xc, yc = event.xdata, event.ydata\n",
    "\n",
    "    if event.key == 'm':\n",
    "        p.plot(xc,yc,'ro', markersize=5)\n",
    "        fig.canvas.draw_idle\n",
    "        \n",
    "        print(\"[%.2f, %.2f]\" % (xc,yc))\n",
    "\n",
    "fig.canvas.mpl_connect('key_press_event', on_key_press)\n",
    "\n",
    "display(out)\n"
   ]
  },
  {
   "cell_type": "markdown",
   "metadata": {},
   "source": [
    "We can also write a Python class, this makes it more convient for dealing with multiple interactive events (i.e. keypress, mouse clicking, dragging, etc)."
   ]
  },
  {
   "cell_type": "code",
   "execution_count": 10,
   "metadata": {
    "ExecuteTime": {
     "end_time": "2021-06-16T07:20:23.589400Z",
     "start_time": "2021-06-16T07:20:23.583449Z"
    }
   },
   "outputs": [],
   "source": [
    "class GUI_inter:\n",
    "\n",
    "    def __init__(self,fig,img):\n",
    "        self.fig = fig\n",
    "        self.p = self.fig.gca()\n",
    "\n",
    "        self.img = img\n",
    "\n",
    "        self.display()\n",
    "\n",
    "    def display(self,sigma=10.0):\n",
    "        plt.clf()\n",
    "\n",
    "        self.v0 = np.mean(self.img) - sigma * np.std(self.img)\n",
    "        self.v1 = np.mean(self.img) + sigma * np.std(self.img)\n",
    "\n",
    "        self.p = self.fig.add_subplot(111)\n",
    "        self.p.imshow(self.img, interpolation='Nearest', origin='lower', \n",
    "                      vmin=self.v0, vmax=self.v1, cmap='viridis')\n",
    "        plt.draw()\n",
    "\n",
    "    def on_key_press(self, event):\n",
    "        xc, yc = event.xdata, event.ydata\n",
    "\n",
    "        if event.key == 'm':\n",
    "            self.p.plot(xc,yc,'ro', markersize=5)\n",
    "            fig.canvas.draw_idle\n",
    "\n",
    "            #print(\"[%.2f, %.2f]\" % (xc,yc))"
   ]
  },
  {
   "cell_type": "code",
   "execution_count": 11,
   "metadata": {
    "ExecuteTime": {
     "end_time": "2021-06-16T07:20:24.348959Z",
     "start_time": "2021-06-16T07:20:24.262930Z"
    }
   },
   "outputs": [
    {
     "data": {
      "application/vnd.jupyter.widget-view+json": {
       "model_id": "5c41c581590b48daae8d8eadd8c87961",
       "version_major": 2,
       "version_minor": 0
      },
      "text/plain": [
       "Canvas(toolbar=Toolbar(toolitems=[('Home', 'Reset original view', 'home', 'home'), ('Back', 'Back to previous …"
      ]
     },
     "metadata": {},
     "output_type": "display_data"
    },
    {
     "data": {
      "text/plain": [
       "9"
      ]
     },
     "execution_count": 11,
     "metadata": {},
     "output_type": "execute_result"
    }
   ],
   "source": [
    "fig = plt.figure(figsize=[6,6])\n",
    "G = GUI_inter(fig, image)\n",
    "fig.canvas.mpl_connect('key_press_event', G.on_key_press)"
   ]
  },
  {
   "cell_type": "markdown",
   "metadata": {},
   "source": [
    "# 1D data"
   ]
  },
  {
   "cell_type": "code",
   "execution_count": 12,
   "metadata": {
    "ExecuteTime": {
     "end_time": "2021-06-16T07:20:32.434237Z",
     "start_time": "2021-06-16T07:20:32.398757Z"
    }
   },
   "outputs": [
    {
     "data": {
      "application/vnd.jupyter.widget-view+json": {
       "model_id": "b4a920c039594ee2a3ad689f195d4d1e",
       "version_major": 2,
       "version_minor": 0
      },
      "text/plain": [
       "Canvas(toolbar=Toolbar(toolitems=[('Home', 'Reset original view', 'home', 'home'), ('Back', 'Back to previous …"
      ]
     },
     "metadata": {},
     "output_type": "display_data"
    }
   ],
   "source": [
    "slice = image[150,:]\n",
    "\n",
    "fig = plt.figure(figsize=[6,6])\n",
    "p = fig.add_subplot(111)\n",
    "p.plot(slice)\n",
    "plt.show()"
   ]
  },
  {
   "cell_type": "code",
   "execution_count": 13,
   "metadata": {
    "ExecuteTime": {
     "end_time": "2021-06-16T07:20:36.553670Z",
     "start_time": "2021-06-16T07:20:36.510121Z"
    }
   },
   "outputs": [
    {
     "data": {
      "application/vnd.jupyter.widget-view+json": {
       "model_id": "6aaeb540ee604e6bafbc66bd0877f4b2",
       "version_major": 2,
       "version_minor": 0
      },
      "text/plain": [
       "Canvas(toolbar=Toolbar(toolitems=[('Home', 'Reset original view', 'home', 'home'), ('Back', 'Back to previous …"
      ]
     },
     "metadata": {},
     "output_type": "display_data"
    },
    {
     "data": {
      "application/vnd.jupyter.widget-view+json": {
       "model_id": "256ab6d2a0404719a0841ef41128f963",
       "version_major": 2,
       "version_minor": 0
      },
      "text/plain": [
       "IntSlider(value=150, continuous_update=False, description='Y-axis:', max=300)"
      ]
     },
     "metadata": {},
     "output_type": "display_data"
    }
   ],
   "source": [
    "xl,yl = image.shape\n",
    "\n",
    "fig = plt.figure(figsize=[6,6])\n",
    "p = fig.add_subplot(111)\n",
    "#p.set_yscale('log')\n",
    "\n",
    "slice = image[150,:]\n",
    "line, = p.plot(slice)\n",
    "\n",
    "def update(change):\n",
    "    line.set_ydata(image[change.new,:])\n",
    "    fig.canvas.draw()\n",
    "\n",
    "int_slider = widgets.IntSlider(\n",
    "    value=150,\n",
    "    min=0,\n",
    "    max=xl,\n",
    "    step=1,\n",
    "    description='Y-axis:',\n",
    "    continuous_update=False\n",
    ")\n",
    "int_slider.observe(update, 'value')\n",
    "int_slider"
   ]
  },
  {
   "cell_type": "code",
   "execution_count": null,
   "metadata": {
    "ExecuteTime": {
     "end_time": "2021-02-23T01:28:31.034839Z",
     "start_time": "2021-02-23T01:28:31.030460Z"
    }
   },
   "outputs": [],
   "source": [
    "# turn-off interactive plots\n",
    "%matplotlib inline "
   ]
  },
  {
   "cell_type": "markdown",
   "metadata": {},
   "source": [
    "# Resources\n",
    "\n",
    "https://ipywidgets.readthedocs.io/\n",
    "\n",
    "https://ipywidgets.readthedocs.io/en/stable/examples/Widget%20List.html\n",
    "\n",
    "https://ipywidgets.readthedocs.io/en/latest/examples/Output%20Widget.html\n",
    "\n",
    "https://kapernikov.com/ipywidgets-with-matplotlib/\n",
    "\n",
    "https://docs.bokeh.org/en/latest/index.html\n",
    "\n",
    "http://docs.glueviz.org/en/stable"
   ]
  },
  {
   "cell_type": "code",
   "execution_count": null,
   "metadata": {},
   "outputs": [],
   "source": []
  }
 ],
 "metadata": {
  "kernelspec": {
   "display_name": "Python 3",
   "language": "python",
   "name": "python3"
  },
  "language_info": {
   "codemirror_mode": {
    "name": "ipython",
    "version": 3
   },
   "file_extension": ".py",
   "mimetype": "text/x-python",
   "name": "python",
   "nbconvert_exporter": "python",
   "pygments_lexer": "ipython3",
   "version": "3.7.0"
  }
 },
 "nbformat": 4,
 "nbformat_minor": 2
}

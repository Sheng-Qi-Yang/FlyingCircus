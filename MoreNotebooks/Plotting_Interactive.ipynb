{
 "cells": [
  {
   "cell_type": "markdown",
   "metadata": {},
   "source": [
    "# Interactive Plotting with Jupyter\n",
    "\n",
    "There are several ways to interactively plot. In this tutorial I will show how to interact with imaging and spectral data.  There are other ways to interact with large tables of data using either [Bokeh](https://docs.bokeh.org/en/latest/index.html) (shown the Skyfit notebook) or [Glue](http://docs.glueviz.org/en/stable). A non-python based solution that also works with large tables of data is Topcat. \n",
    "\n",
    "Most of the methods here will work on the command line.  In order to make this work within Jupyter you will need the following modules.\n",
    "\n",
    "conda install -c conda-forge ipympl\n",
    "\n",
    "conda install -c conda-forge ipywidgets\n",
    "\n",
    "https://ipywidgets.readthedocs.io/\n"
   ]
  },
  {
   "cell_type": "code",
   "execution_count": 1,
   "metadata": {
    "ExecuteTime": {
     "end_time": "2021-06-16T06:04:01.964143Z",
     "start_time": "2021-06-16T06:04:00.228617Z"
    }
   },
   "outputs": [],
   "source": [
    "import glob,os,sys\n",
    "\n",
    "import numpy as np\n",
    "import matplotlib.pyplot as plt \n",
    "\n",
    "import astropy.io.fits as pyfits\n",
    "import astropy.units as u\n",
    "from astroquery.skyview import SkyView\n",
    "\n",
    "import ipywidgets as widgets\n",
    "\n",
    "# https://ipywidgets.readthedocs.io/en/latest/examples/Output%20Widget.html"
   ]
  },
  {
   "cell_type": "markdown",
   "metadata": {},
   "source": [
    "Here we need an image to play with"
   ]
  },
  {
   "cell_type": "code",
   "execution_count": 2,
   "metadata": {
    "ExecuteTime": {
     "end_time": "2021-06-16T06:04:13.957381Z",
     "start_time": "2021-06-16T06:04:11.481625Z"
    },
    "scrolled": true
   },
   "outputs": [],
   "source": [
    "ext = 0\n",
    "\n",
    "# download an image\n",
    "pflist = SkyView.get_images(position='M82', survey=['SDSSr'], radius=10 * u.arcmin)\n",
    "pf = pflist[0] # first element of the list, might need a loop if multiple images\n",
    "\n",
    "# or load an image\n",
    "#pf = pyfits.open('m82.fits')\n",
    "\n",
    "image = pf[ext].data"
   ]
  },
  {
   "cell_type": "markdown",
   "metadata": {},
   "source": [
    "Next we need to turn on the interactive plotting."
   ]
  },
  {
   "cell_type": "code",
   "execution_count": 3,
   "metadata": {
    "ExecuteTime": {
     "end_time": "2021-06-16T06:04:17.813331Z",
     "start_time": "2021-06-16T06:04:17.802870Z"
    }
   },
   "outputs": [],
   "source": [
    "# turn-on interactive plots\n",
    "%matplotlib widget "
   ]
  },
  {
   "cell_type": "markdown",
   "metadata": {},
   "source": [
    "# Display an image"
   ]
  },
  {
   "cell_type": "code",
   "execution_count": 4,
   "metadata": {
    "ExecuteTime": {
     "end_time": "2021-06-16T06:04:20.542219Z",
     "start_time": "2021-06-16T06:04:20.500058Z"
    },
    "scrolled": true
   },
   "outputs": [
    {
     "data": {
      "application/vnd.jupyter.widget-view+json": {
       "model_id": "cbc8f84767254294804e17ecbfaef5f7",
       "version_major": 2,
       "version_minor": 0
      },
      "text/plain": [
       "Canvas(toolbar=Toolbar(toolitems=[('Home', 'Reset original view', 'home', 'home'), ('Back', 'Back to previous …"
      ]
     },
     "metadata": {},
     "output_type": "display_data"
    }
   ],
   "source": [
    "#plt.ioff()\n",
    "fig = plt.figure(figsize=[6,6])\n",
    "plt.ion()\n",
    "\n",
    "p = fig.add_subplot(111)\n",
    "p.imshow(image, interpolation='Nearest', origin='lower', vmin=-10, vmax=20, cmap='viridis')\n",
    "\n",
    "plt.show()"
   ]
  },
  {
   "cell_type": "markdown",
   "metadata": {},
   "source": [
    "# Add an event to the display\n",
    "\n",
    "There are several types of matplotlib events that you can use to interact with a figure. \n",
    "\n",
    "A few useful events are the following:\n",
    "\n",
    "'button_press_event' \t\n",
    "'button_release_event' \t\n",
    "'key_press_event'  \n",
    "'key_release_event'  \n",
    "\n",
    "For more information on event handling and examples check out the following website: \n",
    "https://matplotlib.org/stable/users/event_handling.html"
   ]
  },
  {
   "cell_type": "code",
   "execution_count": 8,
   "metadata": {
    "ExecuteTime": {
     "end_time": "2021-06-16T06:11:48.279253Z",
     "start_time": "2021-06-16T06:11:48.241623Z"
    },
    "scrolled": true
   },
   "outputs": [
    {
     "data": {
      "application/vnd.jupyter.widget-view+json": {
       "model_id": "a865cfc6fba74c40b0af259e54dd345e",
       "version_major": 2,
       "version_minor": 0
      },
      "text/plain": [
       "Canvas(toolbar=Toolbar(toolitems=[('Home', 'Reset original view', 'home', 'home'), ('Back', 'Back to previous …"
      ]
     },
     "metadata": {},
     "output_type": "display_data"
    }
   ],
   "source": [
    "#plt.ioff()\n",
    "fig = plt.figure(figsize=[6,6])\n",
    "plt.ion()\n",
    "\n",
    "p = fig.add_subplot(111)\n",
    "p.imshow(image, interpolation='Nearest', origin='lower', vmin=-10, vmax=20, cmap='viridis')\n",
    "\n",
    "def on_key_press(event):\n",
    "    xc, yc = event.xdata, event.ydata\n",
    "\n",
    "    if event.key == 'm':\n",
    "        p.plot(xc,yc,'ro', markersize=5)\n",
    "        fig.canvas.draw_idle\n",
    "\n",
    "fig.canvas.mpl_connect('key_press_event', on_key_press)\n",
    "\n",
    "plt.show()"
   ]
  },
  {
   "cell_type": "markdown",
   "metadata": {},
   "source": [
    "# Add output to the display with the event"
   ]
  },
  {
   "cell_type": "code",
   "execution_count": 9,
   "metadata": {
    "ExecuteTime": {
     "end_time": "2021-06-16T06:11:59.005696Z",
     "start_time": "2021-06-16T06:11:58.963008Z"
    }
   },
   "outputs": [
    {
     "data": {
      "application/vnd.jupyter.widget-view+json": {
       "model_id": "ee81499df1994bdcaf0905abb654b58d",
       "version_major": 2,
       "version_minor": 0
      },
      "text/plain": [
       "Canvas(toolbar=Toolbar(toolitems=[('Home', 'Reset original view', 'home', 'home'), ('Back', 'Back to previous …"
      ]
     },
     "metadata": {},
     "output_type": "display_data"
    },
    {
     "data": {
      "application/vnd.jupyter.widget-view+json": {
       "model_id": "5b32f093d1e3483dbb37fcfb80afe110",
       "version_major": 2,
       "version_minor": 0
      },
      "text/plain": [
       "Output()"
      ]
     },
     "metadata": {},
     "output_type": "display_data"
    }
   ],
   "source": [
    "# https://ipywidgets.readthedocs.io/en/latest/examples/Output%20Widget.html\n",
    "\n",
    "#plt.ioff()\n",
    "fig = plt.figure(figsize=[6,6])\n",
    "plt.ion()\n",
    "\n",
    "p = fig.add_subplot(111)\n",
    "p.imshow(image, interpolation='Nearest', origin='lower', vmin=-10, vmax=20, cmap='viridis')\n",
    "\n",
    "out = widgets.Output()\n",
    "@out.capture()\n",
    "def on_key_press(event):\n",
    "    xc, yc = event.xdata, event.ydata\n",
    "\n",
    "    if event.key == 'm':\n",
    "        p.plot(xc,yc,'ro', markersize=5)\n",
    "        fig.canvas.draw_idle\n",
    "        \n",
    "        print(\"[%.2f, %.2f]\" % (xc,yc))\n",
    "\n",
    "fig.canvas.mpl_connect('key_press_event', on_key_press)\n",
    "\n",
    "display(out)\n"
   ]
  },
  {
   "cell_type": "code",
   "execution_count": 7,
   "metadata": {
    "ExecuteTime": {
     "end_time": "2021-06-16T06:05:23.789745Z",
     "start_time": "2021-06-16T06:05:23.729992Z"
    }
   },
   "outputs": [
    {
     "data": {
      "application/vnd.jupyter.widget-view+json": {
       "model_id": "73880e3ebcaf43d19e854c3506102bad",
       "version_major": 2,
       "version_minor": 0
      },
      "text/plain": [
       "AppLayout(children=(Button(icon='check', layout=Layout(grid_area='footer'), style=ButtonStyle()), Output(layou…"
      ]
     },
     "metadata": {},
     "output_type": "display_data"
    }
   ],
   "source": [
    "# ensure we are interactive mode \n",
    "# this is default but if this notebook is executed out of order it may have been turned off\n",
    "\n",
    "out = widgets.Output()\n",
    "with out:\n",
    "    fig = plt.figure()\n",
    "\n",
    "ax = fig.gca()\n",
    "ax.imshow(image)\n",
    "\n",
    "widgets.AppLayout(\n",
    "    center=out,\n",
    "    footer=widgets.Button(icon='check'),\n",
    "    pane_heights=[0, 6, 1]\n",
    ")"
   ]
  },
  {
   "cell_type": "markdown",
   "metadata": {},
   "source": [
    "We can also write a Python class, this makes it more convient for dealing with multiple interactive events (i.e. keypress, mouse clicking, dragging, etc)."
   ]
  },
  {
   "cell_type": "code",
   "execution_count": null,
   "metadata": {
    "ExecuteTime": {
     "end_time": "2021-06-16T04:49:42.719941Z",
     "start_time": "2021-06-16T04:49:42.714478Z"
    }
   },
   "outputs": [],
   "source": [
    "class GUI_inter:\n",
    "\n",
    "    def __init__(self,fig,img):\n",
    "        self.fig = fig\n",
    "        self.p = self.fig.gca()\n",
    "\n",
    "        self.img = img\n",
    "\n",
    "        self.display()\n",
    "\n",
    "    def display(self,sigma=10.0):\n",
    "        plt.clf()\n",
    "\n",
    "        self.v0 = np.mean(self.img) - sigma * np.std(self.img)\n",
    "        self.v1 = np.mean(self.img) + sigma * np.std(self.img)\n",
    "\n",
    "        self.p = self.fig.add_subplot(111)\n",
    "        self.p.imshow(self.img, interpolation='Nearest', origin='lower', \n",
    "                      vmin=self.v0, vmax=self.v1, cmap='viridis')\n",
    "        plt.draw()\n",
    "\n",
    "    def on_key_press(self, event):\n",
    "        xc, yc = event.xdata, event.ydata\n",
    "\n",
    "        if event.key == 'm':\n",
    "            self.p.plot(xc,yc,'bo', markersize=5)\n",
    "            fig.canvas.draw_idle\n",
    "\n",
    "            print(\"[%.2f, %.2f]\" % (xc,yc))"
   ]
  },
  {
   "cell_type": "code",
   "execution_count": null,
   "metadata": {
    "ExecuteTime": {
     "end_time": "2021-06-16T01:16:47.211997Z",
     "start_time": "2021-06-16T01:16:47.136470Z"
    }
   },
   "outputs": [],
   "source": [
    "fig = plt.figure(figsize=[6,6])\n",
    "G = GUI_inter(fig, image)\n",
    "fig.canvas.mpl_connect('key_press_event', G.on_key_press)"
   ]
  },
  {
   "cell_type": "code",
   "execution_count": null,
   "metadata": {
    "ExecuteTime": {
     "end_time": "2021-02-23T01:28:31.034839Z",
     "start_time": "2021-02-23T01:28:31.030460Z"
    }
   },
   "outputs": [],
   "source": [
    "# turn-off interactive plots\n",
    "%matplotlib inline "
   ]
  }
 ],
 "metadata": {
  "kernelspec": {
   "display_name": "Python 3",
   "language": "python",
   "name": "python3"
  },
  "language_info": {
   "codemirror_mode": {
    "name": "ipython",
    "version": 3
   },
   "file_extension": ".py",
   "mimetype": "text/x-python",
   "name": "python",
   "nbconvert_exporter": "python",
   "pygments_lexer": "ipython3",
   "version": "3.7.0"
  }
 },
 "nbformat": 4,
 "nbformat_minor": 2
}

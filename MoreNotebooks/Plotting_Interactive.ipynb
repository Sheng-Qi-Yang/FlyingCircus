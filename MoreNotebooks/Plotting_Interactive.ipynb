{
 "cells": [
  {
   "cell_type": "markdown",
   "metadata": {},
   "source": [
    "# Interactive Plotting with Jupyter\n",
    "\n",
    "There are several ways to interactively plot. In this tutorial I will show how to interact with 2D and 1D data.  There are other ways to interact with large tables of data using either [Bokeh](https://docs.bokeh.org/en/latest/index.html) (shown the Skyfit notebook) or [Glue](http://docs.glueviz.org/en/stable). A non-python based solution that also works with large tables of data is Topcat. \n",
    "\n",
    "Most of the methods here will work on the command line.  In order to make this work within Jupyter you will need to use the \"magic\" command `%matplotlib notebook`. Additionally, you may need to install the `ipywidgets` module using:\n",
    "\n",
    "    conda install ipywidgets\n",
    "\n",
    "More info about the ipywidgets (which we use below) is available here:\n",
    "\n",
    "https://ipywidgets.readthedocs.io/\n"
   ]
  },
  {
   "cell_type": "code",
   "execution_count": null,
   "metadata": {
    "ExecuteTime": {
     "end_time": "2021-06-17T18:09:39.045884Z",
     "start_time": "2021-06-17T18:09:38.983302Z"
    }
   },
   "outputs": [],
   "source": [
    "import sys\n",
    "import astropy\n",
    "import astroquery\n",
    "import ipywidgets\n",
    "import matplotlib\n",
    "\n",
    "print('\\n Python version: ', sys.version)\n",
    "print('\\n Astropy version: ', astropy.__version__)\n",
    "print('\\n Matplotlib version: ', matplotlib.__version__)\n",
    "print('\\n Astroquery version: ', astroquery.__version__)\n",
    "print('\\n ipywidgets version: ', ipywidgets.__version__)"
   ]
  },
  {
   "cell_type": "code",
   "execution_count": null,
   "metadata": {
    "ExecuteTime": {
     "end_time": "2021-06-17T18:12:22.036510Z",
     "start_time": "2021-06-17T18:12:20.687481Z"
    }
   },
   "outputs": [],
   "source": [
    "import glob,os,sys\n",
    "\n",
    "import numpy as np\n",
    "import matplotlib.pyplot as plt \n",
    "\n",
    "import astropy.io.fits as pyfits\n",
    "import astropy.units as u\n",
    "from astroquery.skyview import SkyView\n",
    "\n",
    "import ipywidgets as widgets"
   ]
  },
  {
   "cell_type": "markdown",
   "metadata": {},
   "source": [
    "Here we need an image to play with, we can either download it via SkyView or load one from our machine."
   ]
  },
  {
   "cell_type": "code",
   "execution_count": null,
   "metadata": {
    "ExecuteTime": {
     "end_time": "2021-06-17T18:12:26.270510Z",
     "start_time": "2021-06-17T18:12:24.608677Z"
    },
    "scrolled": true
   },
   "outputs": [],
   "source": [
    "ext = 0\n",
    "\n",
    "# download an image\n",
    "pflist = SkyView.get_images(position='M82', survey=['SDSSr'], radius=10 * u.arcmin)\n",
    "pf = pflist[0] # first element of the list, might need a loop if multiple images\n",
    "\n",
    "# or load an image\n",
    "#pf = pyfits.open('m82.fits')\n",
    "\n",
    "image = pf[ext].data"
   ]
  },
  {
   "cell_type": "markdown",
   "metadata": {},
   "source": [
    "Next we need to turn on the interactive plotting.  "
   ]
  },
  {
   "cell_type": "code",
   "execution_count": null,
   "metadata": {
    "ExecuteTime": {
     "end_time": "2021-06-17T18:12:30.928415Z",
     "start_time": "2021-06-17T18:12:30.919600Z"
    }
   },
   "outputs": [],
   "source": [
    "# turn-on interactive plots\n",
    "%matplotlib notebook"
   ]
  },
  {
   "cell_type": "markdown",
   "metadata": {},
   "source": [
    "# Display an image (2D data)\n",
    "\n",
    "We plot a 2D image using imshow, we can set the scale of the image as well as the colormap."
   ]
  },
  {
   "cell_type": "code",
   "execution_count": null,
   "metadata": {
    "ExecuteTime": {
     "end_time": "2021-06-17T18:12:34.121007Z",
     "start_time": "2021-06-17T18:12:34.077289Z"
    },
    "scrolled": true
   },
   "outputs": [],
   "source": [
    "fig = plt.figure()\n",
    "plt.ion()\n",
    "\n",
    "p = fig.add_subplot(111)\n",
    "p.imshow(image, interpolation='Nearest', origin='lower', vmin=-10, vmax=20, cmap='viridis')\n",
    "\n",
    "plt.show()"
   ]
  },
  {
   "cell_type": "markdown",
   "metadata": {},
   "source": [
    "# Add an event to the display\n",
    "\n",
    "There are several types of matplotlib events that you can use to interact with a figure. \n",
    "\n",
    "A few useful events are the following:\n",
    "\n",
    "`button_press_event` \t\n",
    "`button_release_event` \t\n",
    "`key_press_event`  \n",
    "`key_release_event`  \n",
    "\n",
    "For more information on event handling and examples check out the following website: \n",
    "https://matplotlib.org/stable/users/event_handling.html\n",
    "\n",
    "Here we add a python function (usually referred to as a *callback* function) linking to the `key_press_event`. The function checks for which key is being pressed and, if the condition is met, runs its code: plotting a red point on the image whenever the 'm' key is pressed.  We can easily add more keys adding more functionaly to our interactive figure.\n",
    "\n",
    "Note that our function is never explicitly called in our script, but rather called by something called the *event loop*. This is an example of asynchronous programming, and can take some getting used to."
   ]
  },
  {
   "cell_type": "code",
   "execution_count": null,
   "metadata": {
    "ExecuteTime": {
     "end_time": "2021-06-17T18:12:55.175795Z",
     "start_time": "2021-06-17T18:12:55.134500Z"
    },
    "scrolled": true
   },
   "outputs": [],
   "source": [
    "fig = plt.figure()\n",
    "plt.ion()\n",
    "\n",
    "p = fig.add_subplot(111)\n",
    "p.imshow(image, interpolation='Nearest', origin='lower', vmin=-10, vmax=20, cmap='viridis')\n",
    "\n",
    "def on_key_press(event):\n",
    "    xc, yc = event.xdata, event.ydata\n",
    "\n",
    "    if event.key == 'm':\n",
    "        p.plot(xc,yc,'ro', markersize=5)\n",
    "        fig.canvas.draw_idle\n",
    "\n",
    "# This associates the event to the callback function\n",
    "fig.canvas.mpl_connect('key_press_event', on_key_press)\n",
    "\n",
    "plt.show()"
   ]
  },
  {
   "cell_type": "markdown",
   "metadata": {},
   "source": [
    "# Add output to the display with the event\n",
    "\n",
    "If we want to display the coordinate of the points we mark, we need to use the Output widget. We need this special widget to get asynchronous output in a notebook. If you are using the command-line, you could simply use `print()` to get information to the terminal.\n",
    "\n",
    "There's a new bit of python syntax in this cell:  `@out.capture()`. The `@` symbol indicates a function *decorator*. Essentially, decorators are a way to give python functions special properties. In this case, any output that `on_key_press` creates (`print` output, raised exceptions, etc) will be captured and output to the Output widget."
   ]
  },
  {
   "cell_type": "code",
   "execution_count": null,
   "metadata": {
    "ExecuteTime": {
     "end_time": "2021-06-17T18:13:17.056879Z",
     "start_time": "2021-06-17T18:13:17.010340Z"
    }
   },
   "outputs": [],
   "source": [
    "#plt.ioff()\n",
    "fig = plt.figure(figsize=[6,6])\n",
    "plt.ion()\n",
    "\n",
    "p = fig.add_subplot(111)\n",
    "p.imshow(image, interpolation='Nearest', origin='lower', vmin=-10, vmax=20, cmap='viridis')\n",
    "\n",
    "out = widgets.Output()\n",
    "@out.capture()\n",
    "def on_key_press(event):\n",
    "    xc, yc = event.xdata, event.ydata\n",
    "\n",
    "    if event.key == 'm':\n",
    "        p.plot(xc,yc,'ro', markersize=5)\n",
    "        fig.canvas.draw_idle\n",
    "        \n",
    "        print(\"[%.1f, %.1f] = %.4f\" % (xc, yc, image[int(yc),int(xc)]))\n",
    "\n",
    "fig.canvas.mpl_connect('key_press_event', on_key_press)\n",
    "\n",
    "display(out)\n"
   ]
  },
  {
   "cell_type": "markdown",
   "metadata": {},
   "source": [
    "# Interactive 1D data\n",
    "\n",
    "Let's use some more of the widgets. Key press and mouse events are good for indicating locations in the plotting area, but what about changing the value of some variable? For this, widgets are very useful. In the next example, we setup a plot that shows a slice of the 2D data above (a column of pixels). But it would be nice to select *which* column. For this we use a slider. First, let's setup the graph, then define the *callback* function `update`. Instead of an event, though, the function will get an object `change` that has the new (`change.new`) and old (`change.old`) values.\n",
    "\n",
    "Lastly, we make the slider object with some properties and use its `observe` member function of register the `update` callback to changes in its value."
   ]
  },
  {
   "cell_type": "code",
   "execution_count": null,
   "metadata": {
    "ExecuteTime": {
     "end_time": "2021-06-17T18:14:44.689802Z",
     "start_time": "2021-06-17T18:14:44.642588Z"
    }
   },
   "outputs": [],
   "source": [
    "zl,xl = image.shape\n",
    "\n",
    "fig = plt.figure(figsize=[6,6])\n",
    "p = fig.add_subplot(111)\n",
    "#p.set_yscale('log')\n",
    "\n",
    "slice = image[150,:]\n",
    "line, = p.plot(slice)\n",
    "\n",
    "def update(change):\n",
    "    # Change the line's data to the new column\n",
    "    line.set_ydata(image[change.new,:])\n",
    "    # because the data has changed, force a re-draw\n",
    "    fig.canvas.draw()\n",
    "\n",
    "int_slider = widgets.IntSlider(\n",
    "    value=150,\n",
    "    min=0,\n",
    "    max=zl,\n",
    "    step=1,\n",
    "    description='Z-axis:',\n",
    "    continuous_update=True\n",
    ")\n",
    "int_slider.observe(update, 'value')\n",
    "int_slider"
   ]
  },
  {
   "cell_type": "markdown",
   "metadata": {},
   "source": [
    "# Another Example\n",
    "\n",
    "This time, we'll query the Sload Digital Sky Survey (SDSS) catalog server for spectra of objects around a certain point on the sky. The following code with use `astroquery` to do this and we'll end up with a list of spectra `sp`. Each spectrum will be a `FITS` object (see [astropy.io.fits](https://docs.astropy.org/en/stable/io/fits/index.html) documentation. These `FITS` objects are also like lists, and the 2nd element (or extension in FITS-speak) has a table with the log-wavelengths (`loglam`) and flux as columns."
   ]
  },
  {
   "cell_type": "code",
   "execution_count": null,
   "metadata": {
    "ExecuteTime": {
     "end_time": "2021-06-17T18:15:11.526778Z",
     "start_time": "2021-06-17T18:15:11.502909Z"
    }
   },
   "outputs": [],
   "source": [
    "from astroquery.sdss import SDSS\n",
    "from astropy import coordinates\n",
    "\n",
    "# Coordinates of the sky\n",
    "ra, dec = 148.969687, 69.679383\n",
    "# Convert to astropy.coordinates.SkyCoord for use with astroquery\n",
    "co = coordinates.SkyCoord(ra=ra, dec=dec,unit=(u.deg, u.deg), frame='fk5')\n",
    "xid = SDSS.query_region(co, radius=20 * u.arcmin, spectro=True)\n",
    "sp = SDSS.get_spectra(matches=xid)\n",
    "print(\"N =\",len(sp))"
   ]
  },
  {
   "cell_type": "markdown",
   "metadata": {},
   "source": [
    "If you didn't change the coordinates, you there should be 10 spectra. We could plot each one out, but for this example, let's plot a single one at a time and use a slider to select which one of the 10."
   ]
  },
  {
   "cell_type": "code",
   "execution_count": null,
   "metadata": {
    "ExecuteTime": {
     "end_time": "2021-06-17T18:54:44.578363Z",
     "start_time": "2021-06-17T18:54:44.526575Z"
    }
   },
   "outputs": [],
   "source": [
    "ext = 1           # The extension that has the spectrum\n",
    "n_max = len(sp)-1 # total number of spectra - 1\n",
    "\n",
    "pf = sp[0]\n",
    "tab = pf[ext].data\n",
    "\n",
    "spec = tab['flux']\n",
    "wave = 10**tab['loglam']\n",
    "\n",
    "fig = plt.figure(figsize=(6,6))\n",
    "ax = fig.add_subplot(111)\n",
    "line, = ax.plot(wave,spec)\n",
    "ax.set_xlabel('Wavelength [Angstroms]')\n",
    "ax.set_ylabel('Flux')\n",
    "\n",
    "def new_spec(change):\n",
    "    pf = sp[change.new]\n",
    "   \n",
    "    pf[ext].header\n",
    "    tab = pf[ext].data\n",
    "\n",
    "    spec = tab['flux']\n",
    "    wave = 10**tab['loglam']\n",
    "    \n",
    "    line.set_xdata(wave)\n",
    "    line.set_ydata(spec)\n",
    "    fig.canvas.draw()\n",
    "\n",
    "int_slider = widgets.IntSlider(\n",
    "    value=0,\n",
    "    min=0,\n",
    "    max=n_max,\n",
    "    step=1,\n",
    "    description='Spectrum:',\n",
    "    continuous_update=True\n",
    ")\n",
    "int_slider.observe(new_spec, 'value')\n",
    "int_slider"
   ]
  },
  {
   "cell_type": "markdown",
   "metadata": {},
   "source": [
    "# Another widget\n",
    "\n",
    "Let's do the same thing again, but this time, we add another widget:  one that simply holds a True/False value. If True, we'll plot a vertical dashed line representing the location of Hydrogen-Alpha (H$\\alpha$), at $\\lambda = 6563$ Angstroms."
   ]
  },
  {
   "cell_type": "code",
   "execution_count": null,
   "metadata": {
    "ExecuteTime": {
     "end_time": "2021-06-17T18:53:41.859848Z",
     "start_time": "2021-06-17T18:53:41.799235Z"
    }
   },
   "outputs": [],
   "source": [
    "ext = 1\n",
    "n_max = len(sp)-1 # total number of spectra - 1\n",
    "\n",
    "pf = sp[0]\n",
    "pf[ext].header\n",
    "tab = pf[ext].data\n",
    "\n",
    "spec = tab['flux']\n",
    "wave = 10**tab['loglam']\n",
    "\n",
    "fig = plt.figure(figsize=(6,6))\n",
    "ax = fig.add_subplot(111)\n",
    "line, = ax.plot(wave,spec)\n",
    "ax.set_xlabel('Wavelength [Angstroms]')\n",
    "ax.set_ylabel('Flux')\n",
    "\n",
    "# This vertical line is always \"there\", but set it invisible.\n",
    "line2, = ax.plot([6563,6563],[0,20],\"--\",c=\"r\")\n",
    "line2.set_visible(False)\n",
    "\n",
    "def new_spec(change):\n",
    "    pf = sp[change.new]\n",
    "   \n",
    "    pf[ext].header\n",
    "    tab = pf[ext].data\n",
    "\n",
    "    spec = tab['flux']\n",
    "    wave = 10**tab['loglam']\n",
    "    \n",
    "    line.set_xdata(wave)\n",
    "    line.set_ydata(spec)\n",
    "    fig.canvas.draw()\n",
    "    \n",
    "    \n",
    "def display_lines(change):\n",
    "    if change.new: line2.set_visible(True)\n",
    "    else: line2.set_visible(False)\n",
    "    fig.canvas.draw()\n",
    "\n",
    "int_slider = widgets.IntSlider(\n",
    "    value=0,\n",
    "    min=0,\n",
    "    max=n_max,\n",
    "    step=1,\n",
    "    description='Spectrum:',\n",
    "    continuous_update=False\n",
    ")\n",
    "int_slider.observe(new_spec, 'value')\n",
    "display(int_slider)\n",
    "\n",
    "\n",
    "    \n",
    "chk_box = widgets.Checkbox(\n",
    "    value=False,\n",
    "    description='Line list',\n",
    ")\n",
    "\n",
    "chk_box.observe(display_lines, 'value')\n",
    "display(chk_box)"
   ]
  },
  {
   "cell_type": "code",
   "execution_count": null,
   "metadata": {
    "ExecuteTime": {
     "end_time": "2021-02-23T01:28:31.034839Z",
     "start_time": "2021-02-23T01:28:31.030460Z"
    }
   },
   "outputs": [],
   "source": [
    "# turn-off interactive plots\n",
    "%matplotlib inline "
   ]
  },
  {
   "cell_type": "markdown",
   "metadata": {},
   "source": [
    "# Resources\n",
    "\n",
    "https://ipywidgets.readthedocs.io/\n",
    "\n",
    "https://ipywidgets.readthedocs.io/en/stable/examples/Widget%20List.html\n",
    "\n",
    "https://ipywidgets.readthedocs.io/en/latest/examples/Output%20Widget.html\n",
    "\n",
    "https://kapernikov.com/ipywidgets-with-matplotlib/\n",
    "\n",
    "https://matplotlib.org/stable/users/event_handling.html\n",
    "\n",
    "https://docs.bokeh.org/en/latest/index.html\n",
    "\n",
    "http://docs.glueviz.org/en/stable"
   ]
  }
 ],
 "metadata": {
  "kernelspec": {
   "display_name": "Python 3 (ipykernel)",
   "language": "python",
   "name": "python3"
  },
  "language_info": {
   "codemirror_mode": {
    "name": "ipython",
    "version": 3
   },
   "file_extension": ".py",
   "mimetype": "text/x-python",
   "name": "python",
   "nbconvert_exporter": "python",
   "pygments_lexer": "ipython3",
   "version": "3.7.13"
  }
 },
 "nbformat": 4,
 "nbformat_minor": 2
}

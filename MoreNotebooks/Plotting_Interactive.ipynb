{
 "cells": [
  {
   "cell_type": "markdown",
   "metadata": {},
   "source": [
    "# Interactive Plotting with Jupyter\n",
    "\n",
    "conda install -c conda-forge ipympl\n",
    "\n",
    "conda install -c conda-forge ipywidgets\n"
   ]
  },
  {
   "cell_type": "code",
   "execution_count": 1,
   "metadata": {
    "ExecuteTime": {
     "end_time": "2021-06-16T01:08:26.163744Z",
     "start_time": "2021-06-16T01:08:24.687695Z"
    }
   },
   "outputs": [],
   "source": [
    "import glob,os,sys\n",
    "\n",
    "import numpy as np\n",
    "import matplotlib.pyplot as plt \n",
    "\n",
    "import astropy.io.fits as pyfits\n",
    "import astropy.units as u\n",
    "from astroquery.skyview import SkyView\n",
    "\n",
    "import ipywidgets as widgets\n",
    "\n",
    "# https://ipywidgets.readthedocs.io/en/latest/examples/Output%20Widget.html"
   ]
  },
  {
   "cell_type": "code",
   "execution_count": 2,
   "metadata": {
    "ExecuteTime": {
     "end_time": "2021-06-16T01:08:27.160743Z",
     "start_time": "2021-06-16T01:08:27.154869Z"
    }
   },
   "outputs": [],
   "source": [
    "class GUI_inter:\n",
    "\n",
    "    def __init__(self,fig,img):\n",
    "        self.fig = fig\n",
    "        self.p = self.fig.gca()\n",
    "\n",
    "        self.img = img\n",
    "\n",
    "        self.display()\n",
    "\n",
    "    def display(self,sigma=10.0):\n",
    "        plt.clf()\n",
    "\n",
    "        self.v0 = np.mean(self.img) - sigma * np.std(self.img)\n",
    "        self.v1 = np.mean(self.img) + sigma * np.std(self.img)\n",
    "\n",
    "        self.p = self.fig.add_subplot(111)\n",
    "        self.p.imshow(self.img, interpolation='Nearest', origin='lower', \n",
    "                      vmin=self.v0, vmax=self.v1, cmap='viridis')\n",
    "        plt.draw()\n",
    "\n",
    "    def on_key_press(self, event):\n",
    "        xc, yc = event.xdata, event.ydata\n",
    "\n",
    "        if event.key == 'm':\n",
    "            self.p.plot(xc,yc,'bo', markersize=5)\n",
    "            fig.canvas.draw_idle\n",
    "\n",
    "            print(\"[%.2f, %.2f]\" % (xc,yc))"
   ]
  },
  {
   "cell_type": "code",
   "execution_count": 3,
   "metadata": {
    "ExecuteTime": {
     "end_time": "2021-06-16T01:08:30.713041Z",
     "start_time": "2021-06-16T01:08:29.259572Z"
    }
   },
   "outputs": [],
   "source": [
    "# get image\n",
    "\n",
    "pflist = SkyView.get_images(position='M82', survey=['SDSSr'],radius=10 * u.arcmin)\n",
    "\n",
    "ext = 0\n",
    "pf = pflist[0] # first element of the list, might need a loop if multiple images\n",
    "image = pf[ext].data"
   ]
  },
  {
   "cell_type": "code",
   "execution_count": 4,
   "metadata": {
    "ExecuteTime": {
     "end_time": "2021-06-16T01:08:31.395063Z",
     "start_time": "2021-06-16T01:08:31.301030Z"
    }
   },
   "outputs": [],
   "source": [
    "# turn-on interactive plots\n",
    "%matplotlib widget "
   ]
  },
  {
   "cell_type": "code",
   "execution_count": 10,
   "metadata": {
    "ExecuteTime": {
     "end_time": "2021-06-16T01:16:47.211997Z",
     "start_time": "2021-06-16T01:16:47.136470Z"
    }
   },
   "outputs": [
    {
     "data": {
      "application/vnd.jupyter.widget-view+json": {
       "model_id": "ac61b32208854c959e4b6aef84a7fc57",
       "version_major": 2,
       "version_minor": 0
      },
      "text/plain": [
       "Canvas(toolbar=Toolbar(toolitems=[('Home', 'Reset original view', 'home', 'home'), ('Back', 'Back to previous …"
      ]
     },
     "metadata": {},
     "output_type": "display_data"
    },
    {
     "data": {
      "text/plain": [
       "9"
      ]
     },
     "execution_count": 10,
     "metadata": {},
     "output_type": "execute_result"
    }
   ],
   "source": [
    "fig = plt.figure(figsize=[6,6])\n",
    "G = GUI_inter(fig, image)\n",
    "fig.canvas.mpl_connect('key_press_event', G.on_key_press)"
   ]
  },
  {
   "cell_type": "code",
   "execution_count": 11,
   "metadata": {
    "ExecuteTime": {
     "end_time": "2021-06-16T01:17:31.384384Z",
     "start_time": "2021-06-16T01:17:31.295675Z"
    }
   },
   "outputs": [
    {
     "data": {
      "application/vnd.jupyter.widget-view+json": {
       "model_id": "ca7d0ba5b6834e9bbe67bad56a71f2c0",
       "version_major": 2,
       "version_minor": 0
      },
      "text/plain": [
       "Canvas(toolbar=Toolbar(toolitems=[('Home', 'Reset original view', 'home', 'home'), ('Back', 'Back to previous …"
      ]
     },
     "metadata": {},
     "output_type": "display_data"
    },
    {
     "data": {
      "application/vnd.jupyter.widget-view+json": {
       "model_id": "401cebc40cd94973a932af0c3043554b",
       "version_major": 2,
       "version_minor": 0
      },
      "text/plain": [
       "Output()"
      ]
     },
     "metadata": {},
     "output_type": "display_data"
    }
   ],
   "source": [
    "# https://ipywidgets.readthedocs.io/en/latest/examples/Output%20Widget.html\n",
    "\n",
    "sigma = 10.0\n",
    "v0 = np.mean(image) - sigma * np.std(image)\n",
    "v1 = np.mean(image) + sigma * np.std(image)\n",
    "\n",
    "#plt.ioff()\n",
    "fig = plt.figure(figsize=[6,6])\n",
    "plt.ion()\n",
    "\n",
    "p = fig.add_subplot(111)\n",
    "p.imshow(image, interpolation='Nearest', origin='lower', vmin=v0, vmax=v1, cmap='viridis')\n",
    "\n",
    "out = widgets.Output()\n",
    "@out.capture()\n",
    "def on_key_press(event):\n",
    "    xc, yc = event.xdata, event.ydata\n",
    "\n",
    "    if event.key == 'm':\n",
    "        p.plot(xc,yc,'bo', markersize=5)\n",
    "        #p.text(0.1,0.9,\"[%.2f, %.2f]\" % (xc,yc), zorder=10, transform=p.transAxes)\n",
    "        #plt.draw()\n",
    "        fig.canvas.draw_idle\n",
    "        \n",
    "        print(\"[%.2f, %.2f]\" % (xc,yc))\n",
    "\n",
    "fig.canvas.mpl_connect('key_press_event', on_key_press)\n",
    "fig.tight_layout(pad=0.5)\n",
    "\n",
    "display(out)\n"
   ]
  },
  {
   "cell_type": "code",
   "execution_count": 13,
   "metadata": {
    "ExecuteTime": {
     "end_time": "2021-06-16T01:17:58.100484Z",
     "start_time": "2021-06-16T01:17:58.045402Z"
    }
   },
   "outputs": [
    {
     "data": {
      "application/vnd.jupyter.widget-view+json": {
       "model_id": "2b2d75d626494438b52e426e5616d820",
       "version_major": 2,
       "version_minor": 0
      },
      "text/plain": [
       "AppLayout(children=(Button(icon='check', layout=Layout(grid_area='footer'), style=ButtonStyle()), Output(layou…"
      ]
     },
     "metadata": {},
     "output_type": "display_data"
    }
   ],
   "source": [
    "# ensure we are interactive mode \n",
    "# this is default but if this notebook is executed out of order it may have been turned off\n",
    "\n",
    "out = widgets.Output()\n",
    "with out:\n",
    "    fig = plt.figure()\n",
    "\n",
    "ax = fig.gca()\n",
    "ax.imshow(image)\n",
    "\n",
    "widgets.AppLayout(\n",
    "    center=out,\n",
    "    footer=widgets.Button(icon='check'),\n",
    "    pane_heights=[0, 6, 1]\n",
    ")"
   ]
  },
  {
   "cell_type": "code",
   "execution_count": null,
   "metadata": {
    "ExecuteTime": {
     "end_time": "2021-02-23T01:28:31.034839Z",
     "start_time": "2021-02-23T01:28:31.030460Z"
    }
   },
   "outputs": [],
   "source": [
    "# turn-off interactive plots\n",
    "%matplotlib inline "
   ]
  }
 ],
 "metadata": {
  "kernelspec": {
   "display_name": "Python 3",
   "language": "python",
   "name": "python3"
  },
  "language_info": {
   "codemirror_mode": {
    "name": "ipython",
    "version": 3
   },
   "file_extension": ".py",
   "mimetype": "text/x-python",
   "name": "python",
   "nbconvert_exporter": "python",
   "pygments_lexer": "ipython3",
   "version": "3.7.0"
  }
 },
 "nbformat": 4,
 "nbformat_minor": 2
}

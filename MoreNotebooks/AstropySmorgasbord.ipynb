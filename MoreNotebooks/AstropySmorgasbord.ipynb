{
 "cells": [
  {
   "cell_type": "markdown",
   "metadata": {},
   "source": [
    "# Astropy Smorgasbord"
   ]
  },
  {
   "cell_type": "markdown",
   "metadata": {},
   "source": [
    "## Table of Contents\n",
    "\n",
    "1. [Astropy](#Astropy)  \n",
    "      1.1 [Tables](#Tables)  \n",
    "      1.2 [Cosmology](#Cosmology)  \n",
    "2. [Photometry with Photutils](#Photometry-with-Photutils)  \n",
    "3. [Astroquery](#Astroquery)  \n",
    "      3.1 [NED query](#NED-query)  \n",
    "      3.2 [Gaia query](#Gaia-query)  \n",
    "      3.3 [IRSA query of 2MASS](#IRSA-query-of-2MASS)  \n",
    "      3.4 [SDSS query](#SDSS-query)  \n",
    "      3.5 [Skyview](#Skyview)  \n",
    "4. [Resources](#Resources)"
   ]
  },
  {
   "cell_type": "code",
   "execution_count": null,
   "metadata": {
    "ExecuteTime": {
     "end_time": "2021-06-17T18:29:05.059539Z",
     "start_time": "2021-06-17T18:29:03.361697Z"
    }
   },
   "outputs": [],
   "source": [
    "import sys\n",
    "import astropy\n",
    "import photutils\n",
    "import astroquery\n",
    "import matplotlib\n",
    "\n",
    "print('\\n Python version: ', sys.version)\n",
    "print('\\n Astropy version: ', astropy.__version__)\n",
    "print('\\n Matplotlib version: ', matplotlib.__version__)\n",
    "print('\\n Photutils version: ', photutils.__version__)\n",
    "print('\\n Astroquery version: ', astroquery.__version__)"
   ]
  },
  {
   "cell_type": "markdown",
   "metadata": {},
   "source": [
    "# Astropy"
   ]
  },
  {
   "cell_type": "markdown",
   "metadata": {},
   "source": [
    "Astropy is a the python package designed to contain the basic utilities needed for astronomy.  It has been many years in the making and replicated some of the functionaily of other astronomy packages from IRAF and IDL.  However, it still is missing many packages and utilities needed for say reduction, handling spectra, etc. As it is a community driven effort, its unclear how it will take for additional functionality to be included."
   ]
  },
  {
   "cell_type": "markdown",
   "metadata": {},
   "source": [
    "## Tables"
   ]
  },
  {
   "cell_type": "markdown",
   "metadata": {},
   "source": [
    "Data tables are convenient way of dealing with large data sets, particularly if you need to create, read, modifiy and/or write files (i.e. ASCII, FITS, HDF5, etc...).  Both Pandas and Astropy have their own unique support of data tables and it is possible to convert back and forth betweeen them.  The question arises why are there two different types of data table formats and what are the benifits of using one over the other. \n",
    " \n",
    "Pandas strengths are within its statistical machinary available for data analysis. Whereas the Astropy table has a few astronomy specific advantages; 1) being able to work with astronomy formats (i.e. FITS, sextractor, CDS, VOTables, etc) and 2) being able to use units within the table.  It may becomes necessary to switch back and forth between tables depending on the task at hand.  \n",
    "\n",
    "Here we will give you a very brief introduction to Astropy tables."
   ]
  },
  {
   "cell_type": "markdown",
   "metadata": {},
   "source": [
    "First you need to load the following modules in order to utilize an Astropy table."
   ]
  },
  {
   "cell_type": "code",
   "execution_count": null,
   "metadata": {
    "ExecuteTime": {
     "end_time": "2021-06-16T21:20:19.259039Z",
     "start_time": "2021-06-16T21:20:18.222871Z"
    }
   },
   "outputs": [],
   "source": [
    "from astropy.table import QTable\n",
    "import astropy.units as u\n",
    "import numpy as np"
   ]
  },
  {
   "cell_type": "markdown",
   "metadata": {},
   "source": [
    "Here we will create a QTable which is a quantity table.  The first column is the redshift of the source, the second is the star formation rate (SFR), the third is the stellar mass and the fourth is the rotational velocity. Since it is a QTable, we can define the units for each of the entries, if we like."
   ]
  },
  {
   "cell_type": "code",
   "execution_count": null,
   "metadata": {
    "ExecuteTime": {
     "end_time": "2021-06-16T21:20:38.211254Z",
     "start_time": "2021-06-16T21:20:38.207884Z"
    }
   },
   "outputs": [],
   "source": [
    "a = [0.10, 0.15, 0.2]\n",
    "b = [10.0, 2.0,  100.0] * u.M_sun / u.yr\n",
    "c = [1e10, 1e9,  1e11]  * u.M_sun\n",
    "d = [150., 100., 2000.] * u.km / u.s"
   ]
  },
  {
   "cell_type": "markdown",
   "metadata": {},
   "source": [
    "When we create the table, we can assign the names to each column"
   ]
  },
  {
   "cell_type": "code",
   "execution_count": null,
   "metadata": {
    "ExecuteTime": {
     "end_time": "2021-06-16T21:20:49.910486Z",
     "start_time": "2021-06-16T21:20:49.906866Z"
    }
   },
   "outputs": [],
   "source": [
    "t = QTable([a, b, c, d],\n",
    "           names=('redshift', 'sfr', 'stellar_mass', 'velocity'))"
   ]
  },
  {
   "cell_type": "markdown",
   "metadata": {},
   "source": [
    "We can display the table by typing the variable into the notebook"
   ]
  },
  {
   "cell_type": "code",
   "execution_count": null,
   "metadata": {
    "ExecuteTime": {
     "end_time": "2021-06-16T21:20:52.866415Z",
     "start_time": "2021-06-16T21:20:52.855443Z"
    }
   },
   "outputs": [],
   "source": [
    "t"
   ]
  },
  {
   "cell_type": "markdown",
   "metadata": {},
   "source": [
    "We can display the information about the table (i.e. data type, units, name)"
   ]
  },
  {
   "cell_type": "code",
   "execution_count": null,
   "metadata": {
    "ExecuteTime": {
     "end_time": "2021-06-16T21:21:32.218427Z",
     "start_time": "2021-06-16T21:21:32.212548Z"
    }
   },
   "outputs": [],
   "source": [
    "t.info"
   ]
  },
  {
   "cell_type": "markdown",
   "metadata": {},
   "source": [
    "We can view a specific column by calling is name."
   ]
  },
  {
   "cell_type": "code",
   "execution_count": null,
   "metadata": {
    "ExecuteTime": {
     "end_time": "2021-06-16T21:22:32.182108Z",
     "start_time": "2021-06-16T21:22:32.177481Z"
    }
   },
   "outputs": [],
   "source": [
    "t['sfr']"
   ]
  },
  {
   "cell_type": "markdown",
   "metadata": {},
   "source": [
    "We can also group subsets of columns."
   ]
  },
  {
   "cell_type": "code",
   "execution_count": null,
   "metadata": {
    "ExecuteTime": {
     "end_time": "2021-06-16T21:22:48.918042Z",
     "start_time": "2021-06-16T21:22:48.912493Z"
    }
   },
   "outputs": [],
   "source": [
    "t['sfr','velocity']"
   ]
  },
  {
   "cell_type": "markdown",
   "metadata": {},
   "source": [
    "We can call a specific row, in this case the first row, which shows all the entries for the first object.  Remember python indexing starts with zero!"
   ]
  },
  {
   "cell_type": "code",
   "execution_count": null,
   "metadata": {
    "ExecuteTime": {
     "end_time": "2021-06-16T21:23:03.011925Z",
     "start_time": "2021-06-16T21:23:03.006174Z"
    }
   },
   "outputs": [],
   "source": [
    "t[0]"
   ]
  },
  {
   "cell_type": "markdown",
   "metadata": {},
   "source": [
    "We can write to a standard format if we like, binary FITS tables are often used for this. If could be an ASCII file (either sapace, tab or comma delimited) or whatever your favorite sharable file format is.  There is a whole [list](https://docs.astropy.org/en/stable/io/unified.html#table-io) of supported formats that can be read in, many astronomy specific."
   ]
  },
  {
   "cell_type": "code",
   "execution_count": null,
   "metadata": {
    "ExecuteTime": {
     "end_time": "2021-06-16T21:23:44.650556Z",
     "start_time": "2021-06-16T21:23:44.021825Z"
    }
   },
   "outputs": [],
   "source": [
    "t.write('my_table.fits', overwrite=True) "
   ]
  },
  {
   "cell_type": "markdown",
   "metadata": {},
   "source": [
    "You can read it in just as easily too. As you can see, the units are stored as well, as long as you are using a QTable."
   ]
  },
  {
   "cell_type": "code",
   "execution_count": null,
   "metadata": {
    "ExecuteTime": {
     "end_time": "2021-06-16T21:24:01.979227Z",
     "start_time": "2021-06-16T21:24:01.960311Z"
    }
   },
   "outputs": [],
   "source": [
    "all_targets = QTable.read(\"my_table.fits\")"
   ]
  },
  {
   "cell_type": "code",
   "execution_count": null,
   "metadata": {
    "ExecuteTime": {
     "end_time": "2021-06-16T21:24:03.399511Z",
     "start_time": "2021-06-16T21:24:03.394180Z"
    }
   },
   "outputs": [],
   "source": [
    "all_targets"
   ]
  },
  {
   "cell_type": "markdown",
   "metadata": {},
   "source": [
    "We can add new entries to the table.  In this case specific star formation rate (sSFR)."
   ]
  },
  {
   "cell_type": "code",
   "execution_count": null,
   "metadata": {
    "ExecuteTime": {
     "end_time": "2021-06-16T21:24:53.165767Z",
     "start_time": "2021-06-16T21:24:53.162935Z"
    }
   },
   "outputs": [],
   "source": [
    "t['ssfr'] = t['sfr'] / t['stellar_mass']"
   ]
  },
  {
   "cell_type": "code",
   "execution_count": null,
   "metadata": {
    "ExecuteTime": {
     "end_time": "2021-06-16T21:24:54.799756Z",
     "start_time": "2021-06-16T21:24:54.795245Z"
    }
   },
   "outputs": [],
   "source": [
    "t"
   ]
  },
  {
   "cell_type": "markdown",
   "metadata": {},
   "source": [
    "Maybe we are unhappy using years and we want to convert to Gyr. There are a whole list of available units [here](https://docs.astropy.org/en/stable/units/)."
   ]
  },
  {
   "cell_type": "code",
   "execution_count": null,
   "metadata": {
    "ExecuteTime": {
     "end_time": "2021-06-16T21:25:51.837910Z",
     "start_time": "2021-06-16T21:25:51.833718Z"
    }
   },
   "outputs": [],
   "source": [
    "t['ssfr'].to(1./u.gigayear)"
   ]
  },
  {
   "cell_type": "markdown",
   "metadata": {},
   "source": [
    "If we want to estimate the H-alpha line lunminosity from the SFR using an emperical relation (such as one from Kennicutt et al. 1998)."
   ]
  },
  {
   "cell_type": "code",
   "execution_count": null,
   "metadata": {
    "ExecuteTime": {
     "end_time": "2021-06-16T21:26:58.106036Z",
     "start_time": "2021-06-16T21:26:58.102955Z"
    }
   },
   "outputs": [],
   "source": [
    "t['lum'] = (t['sfr'] * u.erg / u.s )/(7.9e-42 * u.Msun / u.yr)"
   ]
  },
  {
   "cell_type": "code",
   "execution_count": null,
   "metadata": {
    "ExecuteTime": {
     "end_time": "2021-06-16T21:27:06.684651Z",
     "start_time": "2021-06-16T21:27:06.679254Z"
    }
   },
   "outputs": [],
   "source": [
    "t"
   ]
  },
  {
   "cell_type": "markdown",
   "metadata": {},
   "source": [
    "Say we want to go from erg to photons, which are both \"energy\".  You can see it is not quite as straight forward by the follwoing error."
   ]
  },
  {
   "cell_type": "code",
   "execution_count": null,
   "metadata": {
    "ExecuteTime": {
     "end_time": "2021-06-16T21:27:42.144456Z",
     "start_time": "2021-06-16T21:27:42.114795Z"
    }
   },
   "outputs": [],
   "source": [
    "(t['lum']).to(u.ph / u.s)"
   ]
  },
  {
   "cell_type": "markdown",
   "metadata": {},
   "source": [
    "In order to convert to photons/s properly, we need to check the units. Our beginning and ending units match (i.e. energy/time), we just need to acount for the energy of the photon which is depends on the wavelength.\n",
    "\n",
    "$$ E_{phot} = \\frac{h c}{\\lambda} $$"
   ]
  },
  {
   "cell_type": "markdown",
   "metadata": {},
   "source": [
    "(1) As an exercise for the reader. Modify the above table to estimate the number of photons/s from the H-alpha line luminosity the energy of the photon instead."
   ]
  },
  {
   "cell_type": "code",
   "execution_count": null,
   "metadata": {},
   "outputs": [],
   "source": []
  },
  {
   "cell_type": "markdown",
   "metadata": {},
   "source": [
    "## Cosmology\n",
    "\n",
    "[top](#Table-of-Contents)"
   ]
  },
  {
   "cell_type": "markdown",
   "metadata": {},
   "source": [
    "If your working with measurements involving redshift or various (age, structure, etc) parameters of the Universe, you will want to use a cosmology calculator. Astropy comes with one which could make it easier to do the calculations yourself instead of trying to look up the values (i.e http://www.astro.ucla.edu/~wright/CosmoCalc.html)\n",
    "\n",
    "A very helpful reference in understanding these comological quanties can be found in the [Hogg 1999](https://arxiv.org/abs/astro-ph/9905116) paper\n",
    "\n",
    "\n",
    "Let first import the cosmology module and see what the value of H$_{0}$."
   ]
  },
  {
   "cell_type": "code",
   "execution_count": null,
   "metadata": {
    "ExecuteTime": {
     "end_time": "2021-06-16T21:33:28.077943Z",
     "start_time": "2021-06-16T21:33:28.061040Z"
    }
   },
   "outputs": [],
   "source": [
    "from astropy.cosmology import WMAP9 as cosmo\n",
    "cosmo.H(0)"
   ]
  },
  {
   "cell_type": "markdown",
   "metadata": {},
   "source": [
    "If we want to use the most recent Planck results we can use that.  You can pick your favorite result and import that."
   ]
  },
  {
   "cell_type": "code",
   "execution_count": null,
   "metadata": {
    "ExecuteTime": {
     "end_time": "2021-06-16T21:33:42.901485Z",
     "start_time": "2021-06-16T21:33:42.897052Z"
    }
   },
   "outputs": [],
   "source": [
    "from astropy.cosmology import Planck18 as cosmo  # Planck 2018\n",
    "# from astropy.cosmology import Planck18_arXiv_v2 as cosmo # for older versions of Astropy\n",
    "cosmo.H(0)"
   ]
  },
  {
   "cell_type": "markdown",
   "metadata": {},
   "source": [
    "If you want to modify your own cosmology, you can import one.  Here is one where it has flat curvature with cold dark matter universe."
   ]
  },
  {
   "cell_type": "code",
   "execution_count": null,
   "metadata": {
    "ExecuteTime": {
     "end_time": "2021-06-16T21:35:18.521892Z",
     "start_time": "2021-06-16T21:35:18.517005Z"
    }
   },
   "outputs": [],
   "source": [
    "from astropy.cosmology import FlatLambdaCDM\n",
    "cosmo = FlatLambdaCDM(H0=70, Om0=0.3, Tcmb0=2.725)\n",
    "cosmo"
   ]
  },
  {
   "cell_type": "markdown",
   "metadata": {},
   "source": [
    "There are lot of useful functions in the cosmology class that you might encounter in everyday research. A lot of the them for the Friedmann-Lemaitre-Robertson-Walker comology are listed here: https://docs.astropy.org/en/stable/api/astropy.cosmology.FLRW.html\n",
    "\n",
    "Here are a few common ones:"
   ]
  },
  {
   "cell_type": "markdown",
   "metadata": {},
   "source": [
    "(1) Luminosity distance - distance used in calculating from an observer to the object Dl"
   ]
  },
  {
   "cell_type": "code",
   "execution_count": null,
   "metadata": {
    "ExecuteTime": {
     "end_time": "2021-06-16T21:36:03.585436Z",
     "start_time": "2021-06-16T21:36:03.301002Z"
    }
   },
   "outputs": [],
   "source": [
    "cosmo.luminosity_distance(4) # z=4"
   ]
  },
  {
   "cell_type": "markdown",
   "metadata": {
    "ExecuteTime": {
     "end_time": "2021-06-16T14:46:49.381991Z",
     "start_time": "2021-06-16T14:46:49.378282Z"
    }
   },
   "source": [
    "(2) Angular diameter distance - the distance between onjects on the sky (this is different than the luminosity difference)"
   ]
  },
  {
   "cell_type": "code",
   "execution_count": null,
   "metadata": {
    "ExecuteTime": {
     "end_time": "2021-06-16T21:36:31.548735Z",
     "start_time": "2021-06-16T21:36:31.544130Z"
    }
   },
   "outputs": [],
   "source": [
    "cosmo.angular_diameter_distance(2) # z=2"
   ]
  },
  {
   "cell_type": "markdown",
   "metadata": {},
   "source": [
    "(3) The age of the universe at redshift z"
   ]
  },
  {
   "cell_type": "code",
   "execution_count": null,
   "metadata": {
    "ExecuteTime": {
     "end_time": "2021-06-16T21:37:00.968697Z",
     "start_time": "2021-06-16T21:37:00.964007Z"
    }
   },
   "outputs": [],
   "source": [
    "cosmo.age(12) # z=0"
   ]
  },
  {
   "cell_type": "markdown",
   "metadata": {},
   "source": [
    "(4) The redshift at a specific age of the universe"
   ]
  },
  {
   "cell_type": "code",
   "execution_count": null,
   "metadata": {
    "ExecuteTime": {
     "end_time": "2021-06-16T21:38:52.274262Z",
     "start_time": "2021-06-16T21:38:52.259101Z"
    }
   },
   "outputs": [],
   "source": [
    "from astropy.cosmology import z_at_value\n",
    "\n",
    "z_at_value(cosmo.age, 7 * u.Gyr) "
   ]
  },
  {
   "cell_type": "markdown",
   "metadata": {},
   "source": [
    "(5) The time ellapsed between the observer and the object at redshift z"
   ]
  },
  {
   "cell_type": "code",
   "execution_count": null,
   "metadata": {
    "ExecuteTime": {
     "end_time": "2021-06-16T21:39:02.610267Z",
     "start_time": "2021-06-16T21:39:02.605786Z"
    }
   },
   "outputs": [],
   "source": [
    "cosmo.lookback_time(0.73) # z=2"
   ]
  },
  {
   "cell_type": "markdown",
   "metadata": {},
   "source": [
    "(6) The critical density of the universe at redshift z"
   ]
  },
  {
   "cell_type": "code",
   "execution_count": null,
   "metadata": {
    "ExecuteTime": {
     "end_time": "2021-06-16T21:39:58.413707Z",
     "start_time": "2021-06-16T21:39:58.409828Z"
    }
   },
   "outputs": [],
   "source": [
    "cosmo.critical_density(0) # z=0"
   ]
  },
  {
   "cell_type": "markdown",
   "metadata": {},
   "source": [
    "For flux (flux density) calculations it is very important to calculate the luminosity distance ($D_{l}$) to an object.\n",
    "\n",
    "$$ F = \\frac{L}{4\\pi D_{l}^{2}} $$\n",
    "\n",
    "Without going too much into cosmology, flux density is slightly different and you should be extra careful.  For more information about the comoslogy relations see the [Hogg 1999](https://arxiv.org/abs/astro-ph/9905116) paper.\n",
    "\n",
    "$$ F_{\\nu} = \\frac{L_{\\nu}}{4\\pi D_{l}^{2}(1+z)} $$\n"
   ]
  },
  {
   "cell_type": "code",
   "execution_count": null,
   "metadata": {
    "ExecuteTime": {
     "end_time": "2021-06-16T21:42:23.314847Z",
     "start_time": "2021-06-16T21:42:22.831389Z"
    }
   },
   "outputs": [],
   "source": [
    "import matplotlib.pyplot as plt\n",
    "\n",
    "zs = np.arange(0,5,0.1)\n",
    "Dl = cosmo.luminosity_distance(zs) \n",
    "\n",
    "fig = plt.figure(figsize=(6,6))\n",
    "p = fig.add_subplot(111)\n",
    "p.plot(zs,Dl)\n",
    "p.set_xlabel(\"redshift z\")\n",
    "p.set_ylabel(\"lumonisty distance Dl [Mpc]\")"
   ]
  },
  {
   "cell_type": "markdown",
   "metadata": {},
   "source": [
    "(1) As an excerise for the reader, reproduce Figure 2 from the [Hogg 1999](https://arxiv.org/abs/astro-ph/9905116)  paper using the Astropy cosmology package "
   ]
  },
  {
   "cell_type": "markdown",
   "metadata": {},
   "source": [
    "(2) As an *advanced* excerise for the reader, reproduce Figure 5 from the [Hogg 1999](https://arxiv.org/abs/astro-ph/9905116) paper using the Astropy cosmology package. "
   ]
  },
  {
   "cell_type": "markdown",
   "metadata": {},
   "source": [
    "# Photometry with Photutils\n",
    "\n",
    "[top](#Table-of-Contents)"
   ]
  },
  {
   "cell_type": "markdown",
   "metadata": {},
   "source": [
    "What is photometry?  It is the measurement of light from a source, either represented as flux or magnitude. There are several ways to compute the flux from a source. In this tutorial we will go over aperture photometry, where you draw a circular region around the source and measure the flux inside.\n",
    "\n",
    "[Photoutils](https://photutils.readthedocs.io) is a useful astropy package for performing photometry.  This includes but not limited to aperture photometry, PSF photometry, star finding, source isophotes, background subtraction, etc...\n",
    "\n",
    "Large parts of this tutorial are borrowed from [Getting Started with Photutils](https://photutils.readthedocs.io/en/stable/getting_started.html) documentation."
   ]
  },
  {
   "cell_type": "markdown",
   "metadata": {},
   "source": [
    "Here we load in a star field image provided with Photutils.  We are interested in a small subsection of the image in which we want to do photometry."
   ]
  },
  {
   "cell_type": "markdown",
   "metadata": {},
   "source": [
    "```\n",
    "conda install -c conda-forge photutils\n",
    "```"
   ]
  },
  {
   "cell_type": "code",
   "execution_count": null,
   "metadata": {
    "ExecuteTime": {
     "end_time": "2021-06-16T21:51:56.769570Z",
     "start_time": "2021-06-16T21:51:56.696643Z"
    }
   },
   "outputs": [],
   "source": [
    "import numpy as np\n",
    "from photutils import datasets\n",
    "\n",
    "hdu = datasets.load_star_image()  \n",
    "image = hdu.data[500:700, 500:700].astype(float)\n",
    "head = hdu.header"
   ]
  },
  {
   "cell_type": "markdown",
   "metadata": {},
   "source": [
    "The type function is useful for determining what data type you are dealing with, especially if it is an unfamilar one."
   ]
  },
  {
   "cell_type": "code",
   "execution_count": null,
   "metadata": {
    "ExecuteTime": {
     "end_time": "2021-06-16T21:48:22.103765Z",
     "start_time": "2021-06-16T21:48:22.095375Z"
    }
   },
   "outputs": [],
   "source": [
    "print(type(hdu))\n",
    "print(type(image))\n",
    "print(type(head))"
   ]
  },
  {
   "cell_type": "code",
   "execution_count": null,
   "metadata": {
    "ExecuteTime": {
     "end_time": "2021-06-17T03:32:50.741251Z",
     "start_time": "2021-06-17T03:32:50.613216Z"
    }
   },
   "outputs": [],
   "source": [
    "import matplotlib.pyplot as plt\n",
    "\n",
    "plt.imshow(image, cmap='gray_r', origin='lower')"
   ]
  },
  {
   "cell_type": "markdown",
   "metadata": {},
   "source": [
    "Assuming your background is uniform (and it most certianly is not), here is a rough background subtraction. \n",
    "\n",
    "This may not work for all astronomical fields (e.g. clusters, low surface brightness features, etc). There are more sophisticated ways to deal with the background subtraction, see the [Background Estimation](https://photutils.readthedocs.io/en/stable/background.html) documentation."
   ]
  },
  {
   "cell_type": "code",
   "execution_count": null,
   "metadata": {
    "ExecuteTime": {
     "end_time": "2021-06-16T21:52:11.134820Z",
     "start_time": "2021-06-16T21:52:11.132031Z"
    }
   },
   "outputs": [],
   "source": [
    "image -= np.median(image) "
   ]
  },
  {
   "cell_type": "markdown",
   "metadata": {},
   "source": [
    "We use [DAOStarFinder](https://photutils.readthedocs.io/en/stable/api/photutils.detection.DAOStarFinder.html) to find all of the objects in the image. \n",
    "\n",
    "The FWHM (Full Width Half Maximum) is a way of measureing the size of the source. Often for unresolved sources, like stars, the FWHM should be matched the resolution of the telescope (or the seeing).  \n",
    "\n",
    "The threshold is the value above the background in which the star finding algorithm will find sources. Often this should be done in a statistical sense in which a real detection is n-sigma above the background (or n standard deviations). We can measure the standard deviation of background. \n",
    "\n",
    "Statistics aside:\n",
    "Assuming a Gaussian distribution for the noise, 1-sigma contains 68% of the distribution, 2-sigma contains 95% of the distribution and 3-sigma contains 99.7% of the distribution. Often 5-sigma is the golden standard in physics and astronomy for a \"real\" detection as it is contains 99.99994% background distribution.  \n",
    "\n",
    "Here we use 3-sigma (3 standard devations) above the background for a \"real\" detection. "
   ]
  },
  {
   "cell_type": "code",
   "execution_count": null,
   "metadata": {
    "ExecuteTime": {
     "end_time": "2021-06-16T21:52:59.496939Z",
     "start_time": "2021-06-16T21:52:59.361257Z"
    }
   },
   "outputs": [],
   "source": [
    "from photutils import DAOStarFinder\n",
    "from astropy.stats import mad_std\n",
    "\n",
    "bkg_sigma = mad_std(image)\n",
    "\n",
    "daofind = DAOStarFinder(fwhm=4., threshold=3.*bkg_sigma)  \n",
    "sources = daofind(image)\n",
    "\n",
    "for col in sources.colnames: sources[col].info.format = '%.8g'  # for consistent table output\n",
    "print(sources[:10])\n",
    "print(sources.info)"
   ]
  },
  {
   "cell_type": "code",
   "execution_count": null,
   "metadata": {
    "ExecuteTime": {
     "end_time": "2021-06-16T21:54:41.195940Z",
     "start_time": "2021-06-16T21:54:41.176937Z"
    }
   },
   "outputs": [],
   "source": [
    "from photutils import aperture_photometry, CircularAperture\n",
    "\n",
    "positions = np.transpose((sources['xcentroid'], sources['ycentroid']))  \n",
    "apertures = CircularAperture(positions, r=4.)  \n",
    "phot_table = aperture_photometry(image, apertures)\n",
    "\n",
    "for col in phot_table.colnames: phot_table[col].info.format = '%.8g'  # for consistent table output\n",
    "print(phot_table[:10])\n",
    "print(phot_table.info)"
   ]
  },
  {
   "cell_type": "markdown",
   "metadata": {},
   "source": [
    "Here we use the Matplotlib routine imshow to display the image.  The apertures.plot command is a routine specific to Photutils. We will see later how to plot tables of data..."
   ]
  },
  {
   "cell_type": "code",
   "execution_count": null,
   "metadata": {
    "ExecuteTime": {
     "end_time": "2021-06-16T21:54:53.899469Z",
     "start_time": "2021-06-16T21:54:53.121297Z"
    }
   },
   "outputs": [],
   "source": [
    "import matplotlib.pyplot as plt\n",
    "\n",
    "plt.imshow(image, cmap='gray_r', origin='lower')\n",
    "apertures.plot(color='blue', lw=1.5, alpha=0.5)"
   ]
  },
  {
   "cell_type": "code",
   "execution_count": null,
   "metadata": {
    "ExecuteTime": {
     "end_time": "2021-06-16T18:01:03.703410Z",
     "start_time": "2021-06-16T18:01:03.699585Z"
    }
   },
   "outputs": [],
   "source": [
    "print(head.keys())"
   ]
  },
  {
   "cell_type": "markdown",
   "metadata": {},
   "source": [
    "# Astroquery\n",
    "\n",
    "[top](#Table-of-Contents)"
   ]
  },
  {
   "cell_type": "markdown",
   "metadata": {},
   "source": [
    "Astroquery is a Astropy package for querying astronomical databases.  There many, many, many  catalogs and image services.  Astroquery can be used to find catalogs and images.  In this tutorial, we will show a few different databases and and ways to search for data."
   ]
  },
  {
   "cell_type": "markdown",
   "metadata": {},
   "source": [
    "## NED query"
   ]
  },
  {
   "cell_type": "markdown",
   "metadata": {},
   "source": [
    "NED is the [NASA/IPAC Extragalacitc Database](https://ned.ipac.caltech.edu/).  It can be useful for finding measurements, properties and papers about\n",
    "your favorite galaxy (or galaxies).  Like many databases you can search for galaxies via their name or coordinates."
   ]
  },
  {
   "cell_type": "markdown",
   "metadata": {},
   "source": [
    "First we need to import the modules that we will use for this tutorial."
   ]
  },
  {
   "cell_type": "code",
   "execution_count": null,
   "metadata": {
    "ExecuteTime": {
     "end_time": "2021-06-17T03:47:38.862812Z",
     "start_time": "2021-06-17T03:47:38.860319Z"
    }
   },
   "outputs": [],
   "source": [
    "from astroquery.ned import Ned\n",
    "from astropy import coordinates\n",
    "import astropy.units as u"
   ]
  },
  {
   "cell_type": "code",
   "execution_count": null,
   "metadata": {
    "ExecuteTime": {
     "end_time": "2021-06-17T03:47:39.613402Z",
     "start_time": "2021-06-17T03:47:39.598787Z"
    }
   },
   "outputs": [],
   "source": [
    "tab = Ned.query_object(\"m82\")\n",
    "print(tab)"
   ]
  },
  {
   "cell_type": "markdown",
   "metadata": {},
   "source": [
    "Print the columns returned from the search."
   ]
  },
  {
   "cell_type": "code",
   "execution_count": null,
   "metadata": {
    "ExecuteTime": {
     "end_time": "2021-06-17T03:47:45.311468Z",
     "start_time": "2021-06-17T03:47:45.308371Z"
    }
   },
   "outputs": [],
   "source": [
    "print(tab.keys())"
   ]
  },
  {
   "cell_type": "markdown",
   "metadata": {},
   "source": [
    "Print the redshift of the source"
   ]
  },
  {
   "cell_type": "code",
   "execution_count": null,
   "metadata": {
    "ExecuteTime": {
     "end_time": "2021-06-17T03:47:48.899727Z",
     "start_time": "2021-06-17T03:47:48.895576Z"
    }
   },
   "outputs": [],
   "source": [
    "print(tab['Redshift'])"
   ]
  },
  {
   "cell_type": "markdown",
   "metadata": {},
   "source": [
    "Lets now search for objects around the Virgo Cluster."
   ]
  },
  {
   "cell_type": "code",
   "execution_count": null,
   "metadata": {
    "ExecuteTime": {
     "end_time": "2021-06-17T04:06:08.952679Z",
     "start_time": "2021-06-17T04:05:05.614940Z"
    }
   },
   "outputs": [],
   "source": [
    "tab = Ned.query_region(\"Virgo Cluster\", radius=10 * u.arcmin)\n",
    "print(tab)"
   ]
  },
  {
   "cell_type": "markdown",
   "metadata": {
    "ExecuteTime": {
     "end_time": "2021-06-17T04:49:23.137380Z",
     "start_time": "2021-06-17T04:49:23.134648Z"
    }
   },
   "source": [
    "Now lets look at the redshift distribution around the Virgo Cluster."
   ]
  },
  {
   "cell_type": "code",
   "execution_count": null,
   "metadata": {
    "ExecuteTime": {
     "end_time": "2021-06-17T04:49:33.811477Z",
     "start_time": "2021-06-17T04:49:33.695454Z"
    }
   },
   "outputs": [],
   "source": [
    "plt.hist(tab['Redshift'], range=[0,0.01], bins=20)\n",
    "plt.xlabel(\"Redshift z\")\n",
    "plt.ylabel(\"N\")"
   ]
  },
  {
   "cell_type": "markdown",
   "metadata": {},
   "source": [
    "We can also look and see what the redshift distribution of Virgo on the sky. Here the the black points are all of the source found in NED around Virgo, the color filled circles are sources with a redshift."
   ]
  },
  {
   "cell_type": "code",
   "execution_count": null,
   "metadata": {
    "ExecuteTime": {
     "end_time": "2021-06-17T04:45:54.057754Z",
     "start_time": "2021-06-17T04:45:53.849860Z"
    }
   },
   "outputs": [],
   "source": [
    "fig = plt.figure(figsize=(9.5,8))\n",
    "p = fig.add_subplot(111)\n",
    "p.scatter(tab['RA'], tab['DEC'], c='k', s=0.1)\n",
    "p.set_xlabel('RA [deg]')\n",
    "p.set_ylabel('Dec [deg]')\n",
    "\n",
    "filt = (tab['Redshift'] > 0) & (tab['Redshift'] < 0.010)\n",
    "im = p.scatter(tab[filt]['RA'], tab[filt]['DEC'], c=tab[filt]['Redshift'], s=20, alpha=0.5, cmap='jet')\n",
    "cb = plt.colorbar(im)\n",
    "cb.set_label('Redshift z')\n"
   ]
  },
  {
   "cell_type": "markdown",
   "metadata": {},
   "source": [
    "## Gaia query\n",
    "[top](#Table-of-Contents)"
   ]
  },
  {
   "cell_type": "markdown",
   "metadata": {},
   "source": [
    "[Gaia](https://sci.esa.int/web/gaia) is a space observatory designed to observe the precise positions of stars in order to determine their distances and motions within the galaxy.  Gaia star coordinates are the new golden standard for astrometry.  Being able to querry their database to correct your catalogs and images to their coordinate system would be highly beneficial. "
   ]
  },
  {
   "cell_type": "code",
   "execution_count": null,
   "metadata": {
    "ExecuteTime": {
     "end_time": "2021-06-16T18:01:40.825558Z",
     "start_time": "2021-06-16T18:01:40.725681Z"
    }
   },
   "outputs": [],
   "source": [
    "from astroquery.gaia import Gaia"
   ]
  },
  {
   "cell_type": "code",
   "execution_count": null,
   "metadata": {
    "ExecuteTime": {
     "end_time": "2021-06-16T18:01:47.232351Z",
     "start_time": "2021-06-16T18:01:42.866279Z"
    }
   },
   "outputs": [],
   "source": [
    "coord = coordinates.SkyCoord(ra=280, dec=-60, unit=(u.degree, u.degree), frame='icrs')\n",
    "radius = u.Quantity(1.0, u.arcmin)\n",
    "j = Gaia.cone_search_async(coord, radius)\n",
    "r = j.get_results()\n",
    "\n",
    "r.pprint()\n",
    "print(r.keys())"
   ]
  },
  {
   "cell_type": "markdown",
   "metadata": {},
   "source": [
    "## IRSA query of 2MASS\n",
    "[top](#Table-of-Contents)"
   ]
  },
  {
   "cell_type": "markdown",
   "metadata": {},
   "source": [
    "IRSA is the [NASA/IPAC Infrared Science Archive](https://irsa.ipac.caltech.edu).  IRSA typically has a infrared mission focus, such as 2MASS, Herschel, Planck, Spitzer, WISE, etc..."
   ]
  },
  {
   "cell_type": "code",
   "execution_count": null,
   "metadata": {
    "ExecuteTime": {
     "end_time": "2021-06-17T04:50:28.462210Z",
     "start_time": "2021-06-17T04:50:28.319452Z"
    }
   },
   "outputs": [],
   "source": [
    "from astroquery.irsa import Irsa"
   ]
  },
  {
   "cell_type": "code",
   "execution_count": null,
   "metadata": {
    "ExecuteTime": {
     "end_time": "2021-06-17T04:50:29.443938Z",
     "start_time": "2021-06-17T04:50:29.434739Z"
    }
   },
   "outputs": [],
   "source": [
    "Irsa.list_catalogs()"
   ]
  },
  {
   "cell_type": "code",
   "execution_count": null,
   "metadata": {
    "ExecuteTime": {
     "end_time": "2021-06-17T04:50:32.425483Z",
     "start_time": "2021-06-17T04:50:32.375722Z"
    }
   },
   "outputs": [],
   "source": [
    "table = Irsa.query_region(\"m82\", catalog=\"fp_psc\", spatial=\"Cone\",radius=10 * u.arcmin)"
   ]
  },
  {
   "cell_type": "code",
   "execution_count": null,
   "metadata": {
    "ExecuteTime": {
     "end_time": "2021-06-17T04:50:33.862829Z",
     "start_time": "2021-06-17T04:50:33.808959Z"
    }
   },
   "outputs": [],
   "source": [
    "table"
   ]
  },
  {
   "cell_type": "code",
   "execution_count": null,
   "metadata": {
    "ExecuteTime": {
     "end_time": "2021-06-17T04:50:47.947069Z",
     "start_time": "2021-06-17T04:50:47.942673Z"
    }
   },
   "outputs": [],
   "source": [
    "table.keys()"
   ]
  },
  {
   "cell_type": "markdown",
   "metadata": {},
   "source": [
    "## SDSS query\n",
    "\n",
    "[top](#Table-of-Contents)"
   ]
  },
  {
   "cell_type": "markdown",
   "metadata": {},
   "source": [
    "[SDSS](https://www.sdss.org/) or the Sloan Digital Sky Survey is a massive survey of the sky which originally was optical imaging and spectroscopy.  It has been operating for over 20 years and the well beyond the original planned survey as it has expanded to near-infrared observations of stars and IFUs (integral field units) for observing galaxies and eventually the whole sky LVM (Local Volume Mapper). It is an immense data set to draw from. "
   ]
  },
  {
   "cell_type": "code",
   "execution_count": null,
   "metadata": {
    "ExecuteTime": {
     "end_time": "2021-06-17T04:53:28.627576Z",
     "start_time": "2021-06-17T04:53:28.609020Z"
    }
   },
   "outputs": [],
   "source": [
    "from astroquery.sdss import SDSS"
   ]
  },
  {
   "cell_type": "markdown",
   "metadata": {},
   "source": [
    "Coordinates of your favorite object, in this case M82 in degrees."
   ]
  },
  {
   "cell_type": "code",
   "execution_count": null,
   "metadata": {
    "ExecuteTime": {
     "end_time": "2021-06-17T04:53:31.290482Z",
     "start_time": "2021-06-17T04:53:31.288428Z"
    }
   },
   "outputs": [],
   "source": [
    "ra, dec = 148.969687, 69.679383"
   ]
  },
  {
   "cell_type": "code",
   "execution_count": null,
   "metadata": {
    "ExecuteTime": {
     "end_time": "2021-06-17T04:53:32.812777Z",
     "start_time": "2021-06-17T04:53:32.809847Z"
    }
   },
   "outputs": [],
   "source": [
    "co = coordinates.SkyCoord(ra=ra, dec=dec,unit=(u.deg, u.deg), frame='fk5')"
   ]
  },
  {
   "cell_type": "code",
   "execution_count": null,
   "metadata": {
    "ExecuteTime": {
     "end_time": "2021-06-17T04:53:36.114767Z",
     "start_time": "2021-06-17T04:53:36.086782Z"
    }
   },
   "outputs": [],
   "source": [
    "xid = SDSS.query_region(co, radius=10 * u.arcmin)\n",
    "print(\"N =\",len(xid))\n",
    "print(xid.keys())"
   ]
  },
  {
   "cell_type": "markdown",
   "metadata": {},
   "source": [
    "You can see there are 608 entries within 10' of the M82.  Let just go ahead and print the first 10."
   ]
  },
  {
   "cell_type": "code",
   "execution_count": null,
   "metadata": {
    "ExecuteTime": {
     "end_time": "2021-06-17T04:53:41.489212Z",
     "start_time": "2021-06-17T04:53:41.485268Z"
    }
   },
   "outputs": [],
   "source": [
    "print(xid['ra','dec'][:10]) # print the first 10 entries"
   ]
  },
  {
   "cell_type": "markdown",
   "metadata": {},
   "source": [
    "We can now do the same query, this time for spectra."
   ]
  },
  {
   "cell_type": "code",
   "execution_count": null,
   "metadata": {
    "ExecuteTime": {
     "end_time": "2021-06-17T04:53:48.835976Z",
     "start_time": "2021-06-17T04:53:48.822349Z"
    }
   },
   "outputs": [],
   "source": [
    "xid = SDSS.query_region(co, radius=10 * u.arcmin, spectro=True)\n",
    "print(xid)\n",
    "print(xid.keys())"
   ]
  },
  {
   "cell_type": "markdown",
   "metadata": {},
   "source": [
    "This time there are 2 entries, lets go ahead and download the spectra."
   ]
  },
  {
   "cell_type": "code",
   "execution_count": null,
   "metadata": {
    "ExecuteTime": {
     "end_time": "2021-06-17T04:53:55.043729Z",
     "start_time": "2021-06-17T04:53:55.031932Z"
    }
   },
   "outputs": [],
   "source": [
    "sp = SDSS.get_spectra(matches=xid)"
   ]
  },
  {
   "cell_type": "markdown",
   "metadata": {},
   "source": [
    "What we downloaded is a list of FITS objects.  Within each object are multiple extensions within each FITS object."
   ]
  },
  {
   "cell_type": "code",
   "execution_count": null,
   "metadata": {
    "ExecuteTime": {
     "end_time": "2021-06-17T04:53:59.765455Z",
     "start_time": "2021-06-17T04:53:59.721690Z"
    }
   },
   "outputs": [],
   "source": [
    "print(sp)\n",
    "print(\"\\nNumber of FITS objects =\",len(sp),\"\\n\")\n",
    "print(sp[0])\n",
    "print(\"\\nNumber of extensions within each FITS object =\",len(sp[0]),\"\\n\")"
   ]
  },
  {
   "cell_type": "markdown",
   "metadata": {},
   "source": [
    "Lets look at the info for the first FITS file. "
   ]
  },
  {
   "cell_type": "code",
   "execution_count": null,
   "metadata": {
    "ExecuteTime": {
     "end_time": "2021-06-17T04:54:03.676076Z",
     "start_time": "2021-06-17T04:54:03.664203Z"
    }
   },
   "outputs": [],
   "source": [
    "pf = sp[0] # first fits file, we can do a for loop to look at each one if we wanted\n",
    "pf.info()"
   ]
  },
  {
   "cell_type": "markdown",
   "metadata": {},
   "source": [
    "The first extension has zero dimension which means it is probably just metdata related to the observation.  The Second extension is a Binary FITS table which is labeled COADD, this is probably where are spectral data is. Lets read the headers.  \n",
    "\n",
    "Looking at the first extension..."
   ]
  },
  {
   "cell_type": "code",
   "execution_count": null,
   "metadata": {
    "ExecuteTime": {
     "end_time": "2021-06-17T04:54:07.117264Z",
     "start_time": "2021-06-17T04:54:07.111589Z"
    }
   },
   "outputs": [],
   "source": [
    "ext = 0\n",
    "pf[ext].header"
   ]
  },
  {
   "cell_type": "markdown",
   "metadata": {
    "ExecuteTime": {
     "end_time": "2021-06-16T18:49:22.253089Z",
     "start_time": "2021-06-16T18:49:22.250107Z"
    }
   },
   "source": [
    "Looking at the second extension..."
   ]
  },
  {
   "cell_type": "code",
   "execution_count": null,
   "metadata": {
    "ExecuteTime": {
     "end_time": "2021-06-17T04:54:13.981030Z",
     "start_time": "2021-06-17T04:54:13.977737Z"
    }
   },
   "outputs": [],
   "source": [
    "ext = 1\n",
    "pf[ext].header"
   ]
  },
  {
   "cell_type": "markdown",
   "metadata": {},
   "source": [
    "There is all the info we need.  We want the `flux` column and `loglam` which is logarithmic wavelength."
   ]
  },
  {
   "cell_type": "code",
   "execution_count": null,
   "metadata": {
    "ExecuteTime": {
     "end_time": "2021-06-17T04:54:16.909350Z",
     "start_time": "2021-06-17T04:54:16.779267Z"
    }
   },
   "outputs": [],
   "source": [
    "pf = sp[0]\n",
    "ext = 1\n",
    "pf[ext].header\n",
    "tab = pf[ext].data\n",
    "\n",
    "fig = plt.figure(figsize=(10,8))\n",
    "ax = fig.add_subplot(111)\n",
    "ax.plot(10**tab['loglam'],tab['flux'])\n",
    "ax.set_xlabel('Wavelength [Angstroms]')\n",
    "ax.set_ylabel('Flux')"
   ]
  },
  {
   "cell_type": "markdown",
   "metadata": {},
   "source": [
    "(1) As an exercise for the reader, try to download images using `m = SDSS.get_images(matches=xid, band='g')`"
   ]
  },
  {
   "cell_type": "code",
   "execution_count": null,
   "metadata": {},
   "outputs": [],
   "source": []
  },
  {
   "cell_type": "markdown",
   "metadata": {},
   "source": [
    "## Skyview\n",
    "[top](#Table-of-Contents)"
   ]
  },
  {
   "cell_type": "markdown",
   "metadata": {},
   "source": [
    "[Skyview](https://skyview.gsfc.nasa.gov) is a virtual observatory that is connected to several surveys and imaging data sets spanning multiple wavelengths. It can be a handy way to get quick access to multi-wavelength imaging data for your favorite object."
   ]
  },
  {
   "cell_type": "code",
   "execution_count": null,
   "metadata": {
    "ExecuteTime": {
     "end_time": "2021-06-17T04:54:29.450198Z",
     "start_time": "2021-06-17T04:54:27.903606Z"
    }
   },
   "outputs": [],
   "source": [
    "from astroquery.skyview import SkyView\n",
    "\n",
    "SkyView.list_surveys()"
   ]
  },
  {
   "cell_type": "code",
   "execution_count": null,
   "metadata": {
    "ExecuteTime": {
     "end_time": "2021-06-17T04:54:32.151131Z",
     "start_time": "2021-06-17T04:54:31.999451Z"
    }
   },
   "outputs": [],
   "source": [
    "pflist = SkyView.get_images(position='M82', survey=['SDSSr'],radius=10 * u.arcmin)"
   ]
  },
  {
   "cell_type": "code",
   "execution_count": null,
   "metadata": {
    "ExecuteTime": {
     "end_time": "2021-06-17T04:54:33.001562Z",
     "start_time": "2021-06-17T04:54:32.999147Z"
    }
   },
   "outputs": [],
   "source": [
    "ext = 0\n",
    "pf = pflist[0] # first element of the list, might need a loop if multiple images\n",
    "m82_image = pf[ext].data"
   ]
  },
  {
   "cell_type": "markdown",
   "metadata": {},
   "source": [
    "Plot image"
   ]
  },
  {
   "cell_type": "code",
   "execution_count": null,
   "metadata": {
    "ExecuteTime": {
     "end_time": "2021-06-17T04:54:37.737698Z",
     "start_time": "2021-06-17T04:54:37.631100Z"
    }
   },
   "outputs": [],
   "source": [
    "ax = plt.subplot()\n",
    "ax.imshow(m82_image, cmap='gray_r', origin='lower', vmin=-10, vmax=20)\n",
    "ax.set_xlabel('X (pixels)')\n",
    "ax.set_ylabel('Y (pixels)')"
   ]
  },
  {
   "cell_type": "markdown",
   "metadata": {},
   "source": [
    "Plot the in RA and Declination coordinates space, instead of pixels. The WCS (or World Coordinates System) in a FITS file has a set of keywords that define the coordinate system.  \n",
    "\n",
    "Typical keywords are the following:\n",
    "\n",
    "CRVAL1, CRVAL2 - RA and Declination (in degrees) coordinates of CRPIX1 and CRPIX2.\n",
    "\n",
    "CRPIX1, CRPIX2 - Pixel positions of CRVAL1 and CRVAL2.\n",
    "\n",
    "CDELT1, CDELT2 - pixel scale (or plate scale) in degrees/pixel \n",
    "(or CD matrix: CD1_1, CD1_2, CD2_1, CD2_2 which represent the pixel scale and rotation with respect to the position angle)"
   ]
  },
  {
   "cell_type": "code",
   "execution_count": null,
   "metadata": {
    "ExecuteTime": {
     "end_time": "2021-06-17T04:54:42.331645Z",
     "start_time": "2021-06-17T04:54:42.329097Z"
    }
   },
   "outputs": [],
   "source": [
    "from astropy.wcs import WCS"
   ]
  },
  {
   "cell_type": "markdown",
   "metadata": {},
   "source": [
    "Use the FITS header to define the WCS of the image."
   ]
  },
  {
   "cell_type": "code",
   "execution_count": null,
   "metadata": {
    "ExecuteTime": {
     "end_time": "2021-06-17T04:54:45.224026Z",
     "start_time": "2021-06-17T04:54:44.697755Z"
    }
   },
   "outputs": [],
   "source": [
    "head = pf[ext].header\n",
    "wcs = WCS(head)\n",
    "\n",
    "ax = plt.subplot(projection=wcs)\n",
    "ax.imshow(m82_image, cmap='gray_r', origin='lower', vmin=-10, vmax=20)\n",
    "#ax.grid(color='white', ls='solid')\n",
    "ax.set_xlabel('Right Ascension (J2000)')\n",
    "ax.set_ylabel('Declination (J2000)')\n",
    "\n",
    "#ax.scatter(xid['ra'],xid['dec'],marker=\"o\",s=50,transform=ax.get_transform('fk5'),edgecolor='b', facecolor='none')\n",
    "#ax.set_xlim()\n",
    "#ax.set_ylim()\n",
    "ax.get_xlim()\n",
    "ax.get_ylim()"
   ]
  },
  {
   "cell_type": "code",
   "execution_count": null,
   "metadata": {},
   "outputs": [],
   "source": []
  },
  {
   "cell_type": "markdown",
   "metadata": {},
   "source": [
    "# Resources\n",
    "\n",
    "[top](#Table-of-Contents)\n",
    "\n",
    "http://learn.astropy.org/tutorials.html - list of all the Astropy tutorials\n",
    "\n",
    "https://docs.astropy.org/en/stable/wcs/ - Astropy WCS implementation\n",
    "\n",
    "https://docs.astropy.org/en/stable/table/ - Astropy data tables\n",
    "\n",
    "https://docs.astropy.org/en/stable/units/ - Astropy units\n",
    "\n",
    "https://docs.astropy.org/en/stable/cosmology/ - Astropy cosmology\n",
    "\n",
    "https://astroquery.readthedocs.io - astroquery documentation\n",
    "\n",
    "https://photutils.readthedocs.io - photutils documentation"
   ]
  },
  {
   "cell_type": "code",
   "execution_count": null,
   "metadata": {},
   "outputs": [],
   "source": []
  },
  {
   "cell_type": "code",
   "execution_count": null,
   "metadata": {},
   "outputs": [],
   "source": []
  }
 ],
 "metadata": {
  "kernelspec": {
   "display_name": "Python 3",
   "language": "python",
   "name": "python3"
  },
  "language_info": {
   "codemirror_mode": {
    "name": "ipython",
    "version": 3
   },
   "file_extension": ".py",
   "mimetype": "text/x-python",
   "name": "python",
   "nbconvert_exporter": "python",
   "pygments_lexer": "ipython3",
   "version": "3.7.0"
  }
 },
 "nbformat": 4,
 "nbformat_minor": 2
}

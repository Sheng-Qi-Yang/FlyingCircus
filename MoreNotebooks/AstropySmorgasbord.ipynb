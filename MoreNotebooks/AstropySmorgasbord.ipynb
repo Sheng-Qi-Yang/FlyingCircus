{
 "cells": [
  {
   "cell_type": "markdown",
   "metadata": {},
   "source": [
    "# Astropy Smorgasbord"
   ]
  },
  {
   "cell_type": "markdown",
   "metadata": {},
   "source": [
    "## Table of Contents\n",
    "\n",
    "1. [Astropy](#Astropy)  \n",
    "      1.1 [Tables](#Tables)  \n",
    "      1.2 [Cosmology](#Cosmology)  \n",
    "2. [Photometry with Photutils](#Photometry-with-Photutils)  \n",
    "3. [Astroquery](#Astroquery)  \n",
    "      3.1 [NED query](#NED-query)  \n",
    "      3.2 [Gaia query](#Gaia-query)  \n",
    "      3.3 [IRSA query of 2MASS](#IRSA-query-of-2MASS)  \n",
    "      3.4 [SDSS query](#SDSS-query)  \n",
    "      3.5 [Skyview](#Skyview)  \n",
    "4. [Resources](#Resources)"
   ]
  },
  {
   "cell_type": "markdown",
   "metadata": {},
   "source": [
    "# Astropy"
   ]
  },
  {
   "cell_type": "markdown",
   "metadata": {},
   "source": [
    "Astropy is a the python package designed to contain the basic utilities needed for astronomy.  It has been many years in the making and replicated some of the functionaily of other astronomy packages from IRAF and IDL.  However, it still is missing many packages and utilities needed for say reduction, handling spectra, etc. As it is a community driven effort, its unclear how it will take for additional functionality to be included."
   ]
  },
  {
   "cell_type": "markdown",
   "metadata": {},
   "source": [
    "## Tables"
   ]
  },
  {
   "cell_type": "markdown",
   "metadata": {},
   "source": [
    "Data tables are convenient way of dealing with large data sets, particularly if you need to create, read, modifiy and/or write files (i.e. ASCII, FITS, HDF5, etc...).  Both Pandas and Astropy have their own unique support of data tables and it is possible to convert back and forth betweeen them.  The question arises why are there two different types of data table formats and what are the benifits of using one over the other. \n",
    " \n",
    "Pandas strengths are within its statistical machinary available for data analysis. Whereas the Astropy table has a few astronomy specific advantages; 1) being able to work with astronomy formats (i.e. FITS, sextractor, CDS, VOTables, etc) and 2) being able to use units within the table.  It may becomes necessary to switch back and forth between tables depending on the task at hand.  \n",
    "\n",
    "Here we will give you a very brief introduction to Astropy tables."
   ]
  },
  {
   "cell_type": "markdown",
   "metadata": {},
   "source": [
    "First you need to load the following modules in order to utilize an Astropy table."
   ]
  },
  {
   "cell_type": "code",
   "execution_count": 11,
   "metadata": {
    "ExecuteTime": {
     "end_time": "2021-06-16T14:39:42.879799Z",
     "start_time": "2021-06-16T14:39:42.456049Z"
    }
   },
   "outputs": [],
   "source": [
    "from astropy.table import QTable\n",
    "import astropy.units as u\n",
    "import numpy as np"
   ]
  },
  {
   "cell_type": "markdown",
   "metadata": {},
   "source": [
    "Here we will create a QTable which is a quantity table.  The first column is the redshift of the source, the second is the star formation rate (SFR), the third is the stellar mass and the fourth is the rotational velocity. Since it is a QTable, we can define the units for each of the entries, if we like."
   ]
  },
  {
   "cell_type": "code",
   "execution_count": null,
   "metadata": {
    "ExecuteTime": {
     "end_time": "2021-06-15T05:08:58.172336Z",
     "start_time": "2021-06-15T05:08:58.169412Z"
    }
   },
   "outputs": [],
   "source": [
    "a = [0.10, 0.15, 0.2]\n",
    "b = [10.0, 2.0,  100.0] * u.M_sun / u.yr\n",
    "c = [1e10, 1e9,  1e11]  * u.M_sun\n",
    "d = [150., 100., 2000.] * u.km / u.s"
   ]
  },
  {
   "cell_type": "markdown",
   "metadata": {},
   "source": [
    "When we create the table, we can assign the names to each column"
   ]
  },
  {
   "cell_type": "code",
   "execution_count": null,
   "metadata": {
    "ExecuteTime": {
     "end_time": "2021-06-15T05:09:02.583411Z",
     "start_time": "2021-06-15T05:09:02.580797Z"
    }
   },
   "outputs": [],
   "source": [
    "t = QTable([a, b, c, d],\n",
    "           names=('redshift', 'sfr', 'stellar_mass', 'velocity'))"
   ]
  },
  {
   "cell_type": "markdown",
   "metadata": {},
   "source": [
    "We can display the table by typing the variable into the notebook"
   ]
  },
  {
   "cell_type": "code",
   "execution_count": null,
   "metadata": {
    "ExecuteTime": {
     "end_time": "2021-06-15T05:09:06.391490Z",
     "start_time": "2021-06-15T05:09:06.382464Z"
    }
   },
   "outputs": [],
   "source": [
    "t"
   ]
  },
  {
   "cell_type": "markdown",
   "metadata": {},
   "source": [
    "We can display the information about the table (i.e. data type, units, name)"
   ]
  },
  {
   "cell_type": "code",
   "execution_count": null,
   "metadata": {
    "ExecuteTime": {
     "end_time": "2021-06-15T05:09:10.454966Z",
     "start_time": "2021-06-15T05:09:10.449899Z"
    }
   },
   "outputs": [],
   "source": [
    "t.info"
   ]
  },
  {
   "cell_type": "markdown",
   "metadata": {},
   "source": [
    "We can view a specific column by calling is name."
   ]
  },
  {
   "cell_type": "code",
   "execution_count": null,
   "metadata": {
    "ExecuteTime": {
     "end_time": "2021-06-15T05:09:14.144536Z",
     "start_time": "2021-06-15T05:09:14.140064Z"
    }
   },
   "outputs": [],
   "source": [
    "t['sfr']"
   ]
  },
  {
   "cell_type": "markdown",
   "metadata": {},
   "source": [
    "We can also group subsets of columns."
   ]
  },
  {
   "cell_type": "code",
   "execution_count": null,
   "metadata": {
    "ExecuteTime": {
     "end_time": "2021-06-15T05:09:17.743389Z",
     "start_time": "2021-06-15T05:09:17.739512Z"
    }
   },
   "outputs": [],
   "source": [
    "t['sfr','velocity']"
   ]
  },
  {
   "cell_type": "markdown",
   "metadata": {},
   "source": [
    "We can call a specific row, in this case the first row, which shows all the entries for the first object.  Remember python indexing starts with zero!"
   ]
  },
  {
   "cell_type": "code",
   "execution_count": null,
   "metadata": {
    "ExecuteTime": {
     "end_time": "2021-06-15T05:15:20.101993Z",
     "start_time": "2021-06-15T05:15:20.098056Z"
    }
   },
   "outputs": [],
   "source": [
    "t[0]"
   ]
  },
  {
   "cell_type": "markdown",
   "metadata": {},
   "source": [
    "We can write to a standard format if we like, binary FITS tables are often used for this. If could be an ASCII file (either sapace, tab or comma delimited) or whatever your favorite sharable file format is.  There is a whole [list](https://docs.astropy.org/en/stable/io/unified.html#table-io) of supported formats that can be read in, many astronomy specific."
   ]
  },
  {
   "cell_type": "code",
   "execution_count": null,
   "metadata": {
    "ExecuteTime": {
     "end_time": "2021-06-15T05:15:23.934786Z",
     "start_time": "2021-06-15T05:15:23.356981Z"
    }
   },
   "outputs": [],
   "source": [
    "t.write('my_table.fits', overwrite=True) "
   ]
  },
  {
   "cell_type": "markdown",
   "metadata": {},
   "source": [
    "You can read it in just as easily too. As you can see, the units are stored as well, as long as you are using a QTable."
   ]
  },
  {
   "cell_type": "code",
   "execution_count": null,
   "metadata": {
    "ExecuteTime": {
     "end_time": "2021-06-15T05:15:26.908731Z",
     "start_time": "2021-06-15T05:15:26.890471Z"
    }
   },
   "outputs": [],
   "source": [
    "all_targets = QTable.read(\"my_table.fits\")"
   ]
  },
  {
   "cell_type": "code",
   "execution_count": null,
   "metadata": {
    "ExecuteTime": {
     "end_time": "2021-06-15T05:15:28.859332Z",
     "start_time": "2021-06-15T05:15:28.855278Z"
    }
   },
   "outputs": [],
   "source": [
    "all_targets"
   ]
  },
  {
   "cell_type": "markdown",
   "metadata": {},
   "source": [
    "We can add new entries to the table.  In this case specific star formation rate (sSFR)."
   ]
  },
  {
   "cell_type": "code",
   "execution_count": null,
   "metadata": {
    "ExecuteTime": {
     "end_time": "2021-06-15T05:15:32.534844Z",
     "start_time": "2021-06-15T05:15:32.532614Z"
    }
   },
   "outputs": [],
   "source": [
    "t['ssfr'] = t['sfr'] / t['stellar_mass']"
   ]
  },
  {
   "cell_type": "code",
   "execution_count": null,
   "metadata": {
    "ExecuteTime": {
     "end_time": "2021-06-15T05:15:35.147617Z",
     "start_time": "2021-06-15T05:15:35.143848Z"
    }
   },
   "outputs": [],
   "source": [
    "t"
   ]
  },
  {
   "cell_type": "markdown",
   "metadata": {},
   "source": [
    "Maybe we are unhappy using years and we want to convert to Gyr. There are a whole list of available units [here](https://docs.astropy.org/en/stable/units/)."
   ]
  },
  {
   "cell_type": "code",
   "execution_count": null,
   "metadata": {
    "ExecuteTime": {
     "end_time": "2021-06-15T05:15:38.068373Z",
     "start_time": "2021-06-15T05:15:38.064747Z"
    }
   },
   "outputs": [],
   "source": [
    "t['ssfr'].to(1./u.gigayear)"
   ]
  },
  {
   "cell_type": "markdown",
   "metadata": {},
   "source": [
    "If we want to estimate the H-alpha line lunminosity from the SFR using an emperical relation (such as one from Kennicutt et al. 1998)."
   ]
  },
  {
   "cell_type": "code",
   "execution_count": null,
   "metadata": {
    "ExecuteTime": {
     "end_time": "2021-06-15T05:15:41.004009Z",
     "start_time": "2021-06-15T05:15:41.001452Z"
    }
   },
   "outputs": [],
   "source": [
    "t['lum'] = (t['sfr'] * u.erg / u.s )/(7.9e-42 * u.Msun / u.yr)"
   ]
  },
  {
   "cell_type": "code",
   "execution_count": null,
   "metadata": {
    "ExecuteTime": {
     "end_time": "2021-06-15T05:15:42.875403Z",
     "start_time": "2021-06-15T05:15:42.870853Z"
    }
   },
   "outputs": [],
   "source": [
    "t"
   ]
  },
  {
   "cell_type": "markdown",
   "metadata": {},
   "source": [
    "Say we want to go from erg to photons, which are both \"energy\".  You can see it is not quite as straight forward by the follwoing error."
   ]
  },
  {
   "cell_type": "code",
   "execution_count": null,
   "metadata": {
    "ExecuteTime": {
     "end_time": "2021-06-15T05:15:46.587318Z",
     "start_time": "2021-06-15T05:15:46.564886Z"
    }
   },
   "outputs": [],
   "source": [
    "(t['lum']).to(u.ph / u.s)"
   ]
  },
  {
   "cell_type": "markdown",
   "metadata": {},
   "source": [
    "In order to convert to photons/s properly, we need to check the units. Our beginning and ending units match (i.e. energy/time), we just need to acount for the energy of the photon which is depends on the wavelength.\n",
    "\n",
    "$$ E_{phot} = \\frac{h c}{\\lambda} $$"
   ]
  },
  {
   "cell_type": "markdown",
   "metadata": {},
   "source": [
    "(1) As an exercise for the reader. Modify the above table to estimate the number of photons/s from the H-alpha line luminosity the energy of the photon instead."
   ]
  },
  {
   "cell_type": "code",
   "execution_count": null,
   "metadata": {},
   "outputs": [],
   "source": []
  },
  {
   "cell_type": "markdown",
   "metadata": {},
   "source": [
    "## Cosmology\n",
    "\n",
    "[top](#Table-of-Contents)"
   ]
  },
  {
   "cell_type": "markdown",
   "metadata": {},
   "source": [
    "If your working with measurements involving redshift or various (age, structure, etc) parameters of the Universe, you will want to use a cosmology calculator. Astropy comes with one which could make it easier to do the calculations yourself instead of trying to look up the values (i.e http://www.astro.ucla.edu/~wright/CosmoCalc.html)\n",
    "\n",
    "A very helpful reference in understanding these comological quanties can be found in the [Hogg 1999](https://arxiv.org/abs/astro-ph/9905116) paper\n",
    "\n",
    "\n",
    "Let first import the cosmology module and see what the value of H$_{0}$."
   ]
  },
  {
   "cell_type": "code",
   "execution_count": 1,
   "metadata": {
    "ExecuteTime": {
     "end_time": "2021-06-16T14:39:12.325927Z",
     "start_time": "2021-06-16T14:39:11.845219Z"
    }
   },
   "outputs": [
    {
     "data": {
      "text/latex": [
       "$69.32 \\; \\mathrm{\\frac{km}{Mpc\\,s}}$"
      ],
      "text/plain": [
       "<Quantity 69.32 km / (Mpc s)>"
      ]
     },
     "execution_count": 1,
     "metadata": {},
     "output_type": "execute_result"
    }
   ],
   "source": [
    "from astropy.cosmology import WMAP9 as cosmo\n",
    "cosmo.H(0)"
   ]
  },
  {
   "cell_type": "markdown",
   "metadata": {},
   "source": [
    "If we want to use the most recent Planck results we can use that.  You can pick your favorite result and import that."
   ]
  },
  {
   "cell_type": "code",
   "execution_count": 2,
   "metadata": {
    "ExecuteTime": {
     "end_time": "2021-06-16T14:39:15.359211Z",
     "start_time": "2021-06-16T14:39:15.354973Z"
    }
   },
   "outputs": [
    {
     "data": {
      "text/latex": [
       "$67.66 \\; \\mathrm{\\frac{km}{Mpc\\,s}}$"
      ],
      "text/plain": [
       "<Quantity 67.66 km / (Mpc s)>"
      ]
     },
     "execution_count": 2,
     "metadata": {},
     "output_type": "execute_result"
    }
   ],
   "source": [
    "from astropy.cosmology import Planck18 as cosmo  # Planck 2018\n",
    "cosmo.H(0)"
   ]
  },
  {
   "cell_type": "markdown",
   "metadata": {},
   "source": [
    "If you want to modify your own cosmology, you can import one.  Here is one where it has flat curvature with cold dark matter universe."
   ]
  },
  {
   "cell_type": "code",
   "execution_count": 3,
   "metadata": {
    "ExecuteTime": {
     "end_time": "2021-06-16T14:39:18.999516Z",
     "start_time": "2021-06-16T14:39:18.995549Z"
    }
   },
   "outputs": [
    {
     "data": {
      "text/plain": [
       "FlatLambdaCDM(H0=70 km / (Mpc s), Om0=0.3, Tcmb0=2.725 K, Neff=3.04, m_nu=[0. 0. 0.] eV, Ob0=None)"
      ]
     },
     "execution_count": 3,
     "metadata": {},
     "output_type": "execute_result"
    }
   ],
   "source": [
    "from astropy.cosmology import FlatLambdaCDM\n",
    "cosmo = FlatLambdaCDM(H0=70, Om0=0.3, Tcmb0=2.725)\n",
    "cosmo"
   ]
  },
  {
   "cell_type": "markdown",
   "metadata": {},
   "source": [
    "There are lot of useful functions in the cosmology class that you might encounter in everyday research. A lot of the them for the Friedmann-Lemaitre-Robertson-Walker comology are listed here: https://docs.astropy.org/en/stable/api/astropy.cosmology.FLRW.html\n",
    "\n",
    "Here are a few common ones:"
   ]
  },
  {
   "cell_type": "markdown",
   "metadata": {},
   "source": [
    "(1) Luminosity distance - distance used in calculating from an observer to the object"
   ]
  },
  {
   "cell_type": "code",
   "execution_count": 18,
   "metadata": {
    "ExecuteTime": {
     "end_time": "2021-06-16T14:46:14.187873Z",
     "start_time": "2021-06-16T14:46:14.183849Z"
    }
   },
   "outputs": [
    {
     "data": {
      "text/latex": [
       "$35842.353 \\; \\mathrm{Mpc}$"
      ],
      "text/plain": [
       "<Quantity 35842.35296334 Mpc>"
      ]
     },
     "execution_count": 18,
     "metadata": {},
     "output_type": "execute_result"
    }
   ],
   "source": [
    "cosmo.luminosity_distance(4) "
   ]
  },
  {
   "cell_type": "markdown",
   "metadata": {
    "ExecuteTime": {
     "end_time": "2021-06-16T14:46:49.381991Z",
     "start_time": "2021-06-16T14:46:49.378282Z"
    }
   },
   "source": [
    "(2) Angular diameter distance - the distance between onjects on the sky (this is different than the luminosity difference)"
   ]
  },
  {
   "cell_type": "code",
   "execution_count": 5,
   "metadata": {
    "ExecuteTime": {
     "end_time": "2021-06-16T14:39:24.123030Z",
     "start_time": "2021-06-16T14:39:24.118898Z"
    }
   },
   "outputs": [
    {
     "data": {
      "text/latex": [
       "$1726.3375 \\; \\mathrm{Mpc}$"
      ],
      "text/plain": [
       "<Quantity 1726.33748003 Mpc>"
      ]
     },
     "execution_count": 5,
     "metadata": {},
     "output_type": "execute_result"
    }
   ],
   "source": [
    "cosmo.angular_diameter_distance(2)"
   ]
  },
  {
   "cell_type": "markdown",
   "metadata": {},
   "source": [
    "(3) The age of the universe at redshift z"
   ]
  },
  {
   "cell_type": "code",
   "execution_count": 6,
   "metadata": {
    "ExecuteTime": {
     "end_time": "2021-06-16T14:39:26.200365Z",
     "start_time": "2021-06-16T14:39:26.195256Z"
    }
   },
   "outputs": [
    {
     "data": {
      "text/latex": [
       "$13.461701 \\; \\mathrm{Gyr}$"
      ],
      "text/plain": [
       "<Quantity 13.4617013 Gyr>"
      ]
     },
     "execution_count": 6,
     "metadata": {},
     "output_type": "execute_result"
    }
   ],
   "source": [
    "cosmo.age(0) "
   ]
  },
  {
   "cell_type": "markdown",
   "metadata": {},
   "source": [
    "(4) The redshift at a specific age of the universe"
   ]
  },
  {
   "cell_type": "code",
   "execution_count": 12,
   "metadata": {
    "ExecuteTime": {
     "end_time": "2021-06-16T14:39:47.499147Z",
     "start_time": "2021-06-16T14:39:47.484214Z"
    }
   },
   "outputs": [
    {
     "data": {
      "text/plain": [
       "3.1456706042370572"
      ]
     },
     "execution_count": 12,
     "metadata": {},
     "output_type": "execute_result"
    }
   ],
   "source": [
    "from astropy.cosmology import z_at_value\n",
    "\n",
    "z_at_value(cosmo.age, 2 * u.Gyr) "
   ]
  },
  {
   "cell_type": "markdown",
   "metadata": {},
   "source": [
    "(5) The time ellapsed between the observer and the object at redshift z"
   ]
  },
  {
   "cell_type": "code",
   "execution_count": 8,
   "metadata": {
    "ExecuteTime": {
     "end_time": "2021-06-16T14:39:33.208316Z",
     "start_time": "2021-06-16T14:39:33.204398Z"
    }
   },
   "outputs": [
    {
     "data": {
      "text/latex": [
       "$10.23902 \\; \\mathrm{Gyr}$"
      ],
      "text/plain": [
       "<Quantity 10.23901965 Gyr>"
      ]
     },
     "execution_count": 8,
     "metadata": {},
     "output_type": "execute_result"
    }
   ],
   "source": [
    "cosmo.lookback_time(2) "
   ]
  },
  {
   "cell_type": "markdown",
   "metadata": {},
   "source": [
    "(6) The critical density of the universe at redshift z"
   ]
  },
  {
   "cell_type": "code",
   "execution_count": 9,
   "metadata": {
    "ExecuteTime": {
     "end_time": "2021-06-16T14:39:34.021942Z",
     "start_time": "2021-06-16T14:39:34.018378Z"
    }
   },
   "outputs": [
    {
     "data": {
      "text/latex": [
       "$9.2038739 \\times 10^{-30} \\; \\mathrm{\\frac{g}{cm^{3}}}$"
      ],
      "text/plain": [
       "<Quantity 9.20387392e-30 g / cm3>"
      ]
     },
     "execution_count": 9,
     "metadata": {},
     "output_type": "execute_result"
    }
   ],
   "source": [
    "cosmo.critical_density(0)"
   ]
  },
  {
   "cell_type": "markdown",
   "metadata": {},
   "source": [
    "For flux (flux density) calculations it is very important to calculate the luminosity distance ($D_{l}$) to an object.\n",
    "\n",
    "$$ F = \\frac{L}{4\\pi D_{l}^{2}} $$\n",
    "\n",
    "Without going too much into cosmology, flux density is slightly different and you should be extra careful.  For more information about the comoslogy relations see the [Hogg 1999](https://arxiv.org/abs/astro-ph/9905116) paper.\n",
    "\n",
    "$$ F_{\\nu} = \\frac{L_{\\nu}}{4\\pi D_{l}^{2}(1+z)} $$\n"
   ]
  },
  {
   "cell_type": "code",
   "execution_count": 20,
   "metadata": {
    "ExecuteTime": {
     "end_time": "2021-06-16T14:49:30.938068Z",
     "start_time": "2021-06-16T14:49:30.803331Z"
    }
   },
   "outputs": [
    {
     "data": {
      "text/plain": [
       "Text(0, 0.5, 'lumonisty distance Dl [Mpc]')"
      ]
     },
     "execution_count": 20,
     "metadata": {},
     "output_type": "execute_result"
    },
    {
     "data": {
      "image/png": "[encoded data removed]",
      "text/plain": [
       "<Figure size 432x432 with 1 Axes>"
      ]
     },
     "metadata": {
      "needs_background": "light"
     },
     "output_type": "display_data"
    }
   ],
   "source": [
    "zs = np.arange(0,5,0.1)\n",
    "Dl = cosmo.luminosity_distance(zs) \n",
    "\n",
    "fig = plt.figure(figsize=(6,6))\n",
    "p = fig.add_subplot(111)\n",
    "p.plot(zs,Dl)\n",
    "p.set_xlabel(\"redshift z\")\n",
    "p.set_ylabel(\"lumonisty distance Dl [Mpc]\")"
   ]
  },
  {
   "cell_type": "markdown",
   "metadata": {},
   "source": [
    "(1) As an excerise for the reader, reproduce Figure 2 from the [Hogg 1999](https://arxiv.org/abs/astro-ph/9905116)  paper using the Astropy cosmology package "
   ]
  },
  {
   "cell_type": "markdown",
   "metadata": {},
   "source": [
    "(2) As an *advanced* excerise for the reader, reproduce Figure 5 from the [Hogg 1999](https://arxiv.org/abs/astro-ph/9905116) paper using the Astropy cosmology package. "
   ]
  },
  {
   "cell_type": "markdown",
   "metadata": {},
   "source": [
    "# Photometry with Photutils\n",
    "\n",
    "[top](#Table-of-Contents)"
   ]
  },
  {
   "cell_type": "markdown",
   "metadata": {},
   "source": [
    "What is photometry?  It is the measurement of light from a source, either represented as flux or magnitude. There are several ways to compute the flux from a source. In this tutorial we will go over aperture photometry, where you draw a circular region around the source and measure the flux inside.\n",
    "\n",
    "[Photoutils](https://photutils.readthedocs.io) is a useful astropy package for performing photometry.  This includes but not limited to aperture photometry, PSF photometry, star finding, source isophotes, background subtraction, etc...\n",
    "\n",
    "Large parts of this tutorial are borrowed from [Getting Started with Photutils](https://photutils.readthedocs.io/en/stable/getting_started.html) documentation."
   ]
  },
  {
   "cell_type": "markdown",
   "metadata": {},
   "source": [
    "Here we load in a star field image provided with Photutils.  We are interested in a small subsection of the image in which we want to do photometry."
   ]
  },
  {
   "cell_type": "code",
   "execution_count": null,
   "metadata": {
    "ExecuteTime": {
     "end_time": "2021-06-16T04:03:03.559681Z",
     "start_time": "2021-06-16T04:03:03.497394Z"
    }
   },
   "outputs": [],
   "source": [
    "import numpy as np\n",
    "from photutils import datasets\n",
    "\n",
    "hdu = datasets.load_star_image()  \n",
    "image = hdu.data[500:700, 500:700].astype(float)\n",
    "head = hdu.header"
   ]
  },
  {
   "cell_type": "markdown",
   "metadata": {},
   "source": [
    "The type function is useful for determining what data type you are dealing with, especially if it is an unfamilar one."
   ]
  },
  {
   "cell_type": "code",
   "execution_count": null,
   "metadata": {
    "ExecuteTime": {
     "end_time": "2021-06-15T06:13:43.188664Z",
     "start_time": "2021-06-15T06:13:43.180727Z"
    }
   },
   "outputs": [],
   "source": [
    "print(type(hdu))\n",
    "print(type(image))\n",
    "print(type(head))"
   ]
  },
  {
   "cell_type": "markdown",
   "metadata": {},
   "source": [
    "Assuming your background is uniform (and it most certianly is not), here is a rough background subtraction. \n",
    "\n",
    "This may not work for all astronomical fields (e.g. clusters, low surface brightness features, etc). There are more sophisticated ways to deal with the background subtraction, see the [Background Estimation](https://photutils.readthedocs.io/en/stable/background.html) documentation."
   ]
  },
  {
   "cell_type": "code",
   "execution_count": null,
   "metadata": {
    "ExecuteTime": {
     "end_time": "2021-06-15T06:13:46.852366Z",
     "start_time": "2021-06-15T06:13:46.848786Z"
    }
   },
   "outputs": [],
   "source": [
    "image -= np.median(image) "
   ]
  },
  {
   "cell_type": "markdown",
   "metadata": {},
   "source": [
    "We use [DAOStarFinder](https://photutils.readthedocs.io/en/stable/api/photutils.detection.DAOStarFinder.html) to find all of the objects in the image. \n",
    "\n",
    "The FWHM (Full Width Half Maximum) is a way of measureing the size of the source. Often for unresolved sources, like stars, the FWHM should be matched the resolution of the telescope (or the seeing).  \n",
    "\n",
    "The threshold is the value above the background in which the star finding algorithm will find sources. Often this should be done in a statistical sense in which a real detection is n-sigma above the background (or n standard deviations). We can measure the standard deviation of background. \n",
    "\n",
    "Statistics aside:\n",
    "Assuming a Gaussian distribution for the noise, 1-sigma contains 68% of the distribution, 2-sigma contains 95% of the distribution and 3-sigma contains 99.7% of the distribution. Often 5-sigma is the golden standard in physics and astronomy for a \"real\" detection as it is contains 99.99994% background distribution.  \n",
    "\n",
    "Here we use 3-sigma (3 standard devations) above the background for a \"real\" detection. "
   ]
  },
  {
   "cell_type": "code",
   "execution_count": null,
   "metadata": {
    "ExecuteTime": {
     "end_time": "2021-06-15T06:13:53.158989Z",
     "start_time": "2021-06-15T06:13:53.060410Z"
    }
   },
   "outputs": [],
   "source": [
    "from photutils import DAOStarFinder\n",
    "from astropy.stats import mad_std\n",
    "\n",
    "bkg_sigma = mad_std(image)\n",
    "\n",
    "daofind = DAOStarFinder(fwhm=4., threshold=3.*bkg_sigma)  \n",
    "sources = daofind(image)\n",
    "\n",
    "for col in sources.colnames: sources[col].info.format = '%.8g'  # for consistent table output\n",
    "print(sources[:10])\n",
    "print(sources.info)"
   ]
  },
  {
   "cell_type": "code",
   "execution_count": null,
   "metadata": {
    "ExecuteTime": {
     "end_time": "2021-06-15T06:13:57.180987Z",
     "start_time": "2021-06-15T06:13:57.166121Z"
    }
   },
   "outputs": [],
   "source": [
    "from photutils import aperture_photometry, CircularAperture\n",
    "\n",
    "positions = np.transpose((sources['xcentroid'], sources['ycentroid']))  \n",
    "apertures = CircularAperture(positions, r=4.)  \n",
    "phot_table = aperture_photometry(image, apertures)\n",
    "\n",
    "for col in phot_table.colnames: phot_table[col].info.format = '%.8g'  # for consistent table output\n",
    "print(phot_table[:10])\n",
    "print(phot_table.info)"
   ]
  },
  {
   "cell_type": "markdown",
   "metadata": {},
   "source": [
    "Here we use the Matplotlib routine imshow to display the image.  The apertures.plot command is a routine specific to Photutils. We will see later how to plot tables of data..."
   ]
  },
  {
   "cell_type": "code",
   "execution_count": 14,
   "metadata": {
    "ExecuteTime": {
     "end_time": "2021-06-16T14:40:10.271130Z",
     "start_time": "2021-06-16T14:40:09.920269Z"
    }
   },
   "outputs": [
    {
     "ename": "NameError",
     "evalue": "name 'image' is not defined",
     "output_type": "error",
     "traceback": [
      "\u001b[0;31m---------------------------------------------------------------------------\u001b[0m",
      "\u001b[0;31mNameError\u001b[0m                                 Traceback (most recent call last)",
      "\u001b[0;32m<ipython-input-14-82727f0b7fb3>\u001b[0m in \u001b[0;36m<module>\u001b[0;34m\u001b[0m\n\u001b[1;32m      1\u001b[0m \u001b[0;32mimport\u001b[0m \u001b[0mmatplotlib\u001b[0m\u001b[0;34m.\u001b[0m\u001b[0mpyplot\u001b[0m \u001b[0;32mas\u001b[0m \u001b[0mplt\u001b[0m\u001b[0;34m\u001b[0m\u001b[0m\n\u001b[1;32m      2\u001b[0m \u001b[0;34m\u001b[0m\u001b[0m\n\u001b[0;32m----> 3\u001b[0;31m \u001b[0mplt\u001b[0m\u001b[0;34m.\u001b[0m\u001b[0mimshow\u001b[0m\u001b[0;34m(\u001b[0m\u001b[0mimage\u001b[0m\u001b[0;34m,\u001b[0m \u001b[0mcmap\u001b[0m\u001b[0;34m=\u001b[0m\u001b[0;34m'gray_r'\u001b[0m\u001b[0;34m,\u001b[0m \u001b[0morigin\u001b[0m\u001b[0;34m=\u001b[0m\u001b[0;34m'lower'\u001b[0m\u001b[0;34m)\u001b[0m\u001b[0;34m\u001b[0m\u001b[0m\n\u001b[0m\u001b[1;32m      4\u001b[0m \u001b[0mapertures\u001b[0m\u001b[0;34m.\u001b[0m\u001b[0mplot\u001b[0m\u001b[0;34m(\u001b[0m\u001b[0mcolor\u001b[0m\u001b[0;34m=\u001b[0m\u001b[0;34m'blue'\u001b[0m\u001b[0;34m,\u001b[0m \u001b[0mlw\u001b[0m\u001b[0;34m=\u001b[0m\u001b[0;36m1.5\u001b[0m\u001b[0;34m,\u001b[0m \u001b[0malpha\u001b[0m\u001b[0;34m=\u001b[0m\u001b[0;36m0.5\u001b[0m\u001b[0;34m)\u001b[0m\u001b[0;34m\u001b[0m\u001b[0m\n",
      "\u001b[0;31mNameError\u001b[0m: name 'image' is not defined"
     ]
    }
   ],
   "source": [
    "import matplotlib.pyplot as plt\n",
    "\n",
    "plt.imshow(image, cmap='gray_r', origin='lower')\n",
    "apertures.plot(color='blue', lw=1.5, alpha=0.5)"
   ]
  },
  {
   "cell_type": "code",
   "execution_count": null,
   "metadata": {
    "ExecuteTime": {
     "end_time": "2021-06-15T06:14:12.437593Z",
     "start_time": "2021-06-15T06:14:12.433589Z"
    }
   },
   "outputs": [],
   "source": [
    "print(head.keys())"
   ]
  },
  {
   "cell_type": "markdown",
   "metadata": {},
   "source": [
    "# Astroquery\n",
    "\n",
    "[top](#Table-of-Contents)"
   ]
  },
  {
   "cell_type": "markdown",
   "metadata": {},
   "source": [
    "Astroquery is a Astropy package for querying astronomical databases.  There many, many, many  catalogs and image services.  Astroquery can be used to find catalogs and images.  In this tutorial, we will show a few different databases and and ways to search for data."
   ]
  },
  {
   "cell_type": "markdown",
   "metadata": {},
   "source": [
    "## NED query"
   ]
  },
  {
   "cell_type": "markdown",
   "metadata": {},
   "source": [
    "NED is the [NASA/IPAC Extragalacitc Database](https://ned.ipac.caltech.edu/).  It can be useful for finding measurements, properties and papers about\n",
    "your favorite galaxy (or galaxies).  Like many databases you can search for galaxies via their name or coordinates."
   ]
  },
  {
   "cell_type": "markdown",
   "metadata": {},
   "source": [
    "First we need to import the modules that we will use for this tutorial."
   ]
  },
  {
   "cell_type": "code",
   "execution_count": null,
   "metadata": {},
   "outputs": [],
   "source": [
    "from astroquery.ned import Ned\n",
    "from astropy import coordinates\n",
    "import astropy.units as u"
   ]
  },
  {
   "cell_type": "code",
   "execution_count": null,
   "metadata": {},
   "outputs": [],
   "source": [
    "result_table = Ned.query_object(\"m82\")\n",
    "print(result_table)"
   ]
  },
  {
   "cell_type": "markdown",
   "metadata": {},
   "source": [
    "Print the columns returned from the search."
   ]
  },
  {
   "cell_type": "code",
   "execution_count": null,
   "metadata": {},
   "outputs": [],
   "source": [
    "print(result_table.keys())"
   ]
  },
  {
   "cell_type": "markdown",
   "metadata": {},
   "source": [
    "Print the redshift of the source"
   ]
  },
  {
   "cell_type": "code",
   "execution_count": null,
   "metadata": {},
   "outputs": [],
   "source": [
    "print(result_table['Redshift'])"
   ]
  },
  {
   "cell_type": "markdown",
   "metadata": {},
   "source": [
    "Lets now search for objects around M82."
   ]
  },
  {
   "cell_type": "code",
   "execution_count": null,
   "metadata": {},
   "outputs": [],
   "source": [
    "result_table = Ned.query_region(\"m82\", radius=1 * u.arcmin)\n",
    "print(result_table)"
   ]
  },
  {
   "cell_type": "markdown",
   "metadata": {},
   "source": [
    "## Gaia query\n",
    "[top](#Table-of-Contents)"
   ]
  },
  {
   "cell_type": "markdown",
   "metadata": {},
   "source": [
    "[Gaia](https://sci.esa.int/web/gaia) is a space observatory designed to observe the precise positions of stars in order to determine their distances and motions within the galaxy.  Gaia star coordinates are the new golden standard for astrometry.  Being able to querry their database to correct your catalogs and images to their coordinate system would be highly beneficial. "
   ]
  },
  {
   "cell_type": "code",
   "execution_count": null,
   "metadata": {},
   "outputs": [],
   "source": [
    "from astroquery.gaia import Gaia"
   ]
  },
  {
   "cell_type": "code",
   "execution_count": null,
   "metadata": {},
   "outputs": [],
   "source": [
    "coord = coordinates.SkyCoord(ra=280, dec=-60, unit=(u.degree, u.degree), frame='icrs')\n",
    "radius = u.Quantity(1.0, u.arcmin)\n",
    "j = Gaia.cone_search_async(coord, radius)\n",
    "r = j.get_results()\n",
    "\n",
    "r.pprint()\n",
    "print(r.keys())"
   ]
  },
  {
   "cell_type": "markdown",
   "metadata": {},
   "source": [
    "## IRSA query of 2MASS\n",
    "[top](#Table-of-Contents)"
   ]
  },
  {
   "cell_type": "markdown",
   "metadata": {},
   "source": [
    "IRSA is the [NASA/IPAC Infrared Science Archive](https://irsa.ipac.caltech.edu).  IRSA typically has a infrared mission focus, such as 2MASS, Herschel, Planck, Spitzer, WISE, etc..."
   ]
  },
  {
   "cell_type": "code",
   "execution_count": null,
   "metadata": {},
   "outputs": [],
   "source": [
    "from astroquery.irsa import Irsa"
   ]
  },
  {
   "cell_type": "code",
   "execution_count": null,
   "metadata": {},
   "outputs": [],
   "source": [
    "Irsa.list_catalogs()"
   ]
  },
  {
   "cell_type": "code",
   "execution_count": null,
   "metadata": {},
   "outputs": [],
   "source": [
    "table = Irsa.query_region(\"m82\", catalog=\"fp_psc\", spatial=\"Cone\",radius=10 * u.arcmin)"
   ]
  },
  {
   "cell_type": "code",
   "execution_count": null,
   "metadata": {},
   "outputs": [],
   "source": [
    "table"
   ]
  },
  {
   "cell_type": "code",
   "execution_count": null,
   "metadata": {},
   "outputs": [],
   "source": [
    "table.keys()"
   ]
  },
  {
   "cell_type": "markdown",
   "metadata": {},
   "source": [
    "## SDSS query\n",
    "\n",
    "[top](#Table-of-Contents)"
   ]
  },
  {
   "cell_type": "markdown",
   "metadata": {},
   "source": [
    "[SDSS](https://www.sdss.org/) or the Sloan Digital Sky Survey is a massive survey of the sky which originally was optical imaging and spectroscopy.  It has been operating for over 20 years and the well beyond the original planned survey as it has expanded to near-infrared observations of stars and IFUs (integral field units) for observing galaxies and eventually the whole sky LVM (Local Volume Mapper). It is an immense data set to draw from. "
   ]
  },
  {
   "cell_type": "code",
   "execution_count": null,
   "metadata": {},
   "outputs": [],
   "source": [
    "from astroquery.sdss import SDSS"
   ]
  },
  {
   "cell_type": "markdown",
   "metadata": {},
   "source": [
    "Coordinates of your favorite object, in this case M82 in degrees."
   ]
  },
  {
   "cell_type": "code",
   "execution_count": null,
   "metadata": {},
   "outputs": [],
   "source": [
    "ra, dec = 148.969687, 69.679383"
   ]
  },
  {
   "cell_type": "code",
   "execution_count": null,
   "metadata": {},
   "outputs": [],
   "source": [
    "co = coordinates.SkyCoord(ra=ra, dec=dec,unit=(u.deg, u.deg), frame='fk5')"
   ]
  },
  {
   "cell_type": "code",
   "execution_count": null,
   "metadata": {},
   "outputs": [],
   "source": [
    "xid = SDSS.query_region(co, radius=10 * u.arcmin)\n",
    "# print the first 10 entries\n",
    "print(xid[:10])\n",
    "print(xid.keys())"
   ]
  },
  {
   "cell_type": "code",
   "execution_count": null,
   "metadata": {},
   "outputs": [],
   "source": [
    "print(xid['ra','dec'][:10]) # print the first 10 entries"
   ]
  },
  {
   "cell_type": "markdown",
   "metadata": {},
   "source": [
    "## Skyview\n",
    "[top](#Table-of-Contents)"
   ]
  },
  {
   "cell_type": "markdown",
   "metadata": {},
   "source": [
    "[Skyview](https://skyview.gsfc.nasa.gov) is a virtual observatory that is connected to several surveys and imaging data sets spanning multiple wavelengths. It can be a handy way to get quick access to multi-wavelength imaging data for your favorite object."
   ]
  },
  {
   "cell_type": "code",
   "execution_count": null,
   "metadata": {
    "ExecuteTime": {
     "end_time": "2021-06-15T01:29:21.226825Z",
     "start_time": "2021-06-15T01:29:19.047772Z"
    }
   },
   "outputs": [],
   "source": [
    "from astroquery.skyview import SkyView\n",
    "\n",
    "SkyView.list_surveys()"
   ]
  },
  {
   "cell_type": "code",
   "execution_count": null,
   "metadata": {
    "ExecuteTime": {
     "end_time": "2021-06-15T01:29:39.795843Z",
     "start_time": "2021-06-15T01:29:23.085459Z"
    }
   },
   "outputs": [],
   "source": [
    "pflist = SkyView.get_images(position='M82', survey=['SDSSr'],radius=10 * u.arcmin)"
   ]
  },
  {
   "cell_type": "code",
   "execution_count": null,
   "metadata": {
    "ExecuteTime": {
     "end_time": "2021-06-15T01:49:30.197949Z",
     "start_time": "2021-06-15T01:49:30.195573Z"
    }
   },
   "outputs": [],
   "source": [
    "ext = 0\n",
    "pf = pflist[0] # first element of the list, might need a loop if multiple images\n",
    "m82_image = pf[ext].data"
   ]
  },
  {
   "cell_type": "markdown",
   "metadata": {},
   "source": [
    "Plot image"
   ]
  },
  {
   "cell_type": "code",
   "execution_count": null,
   "metadata": {
    "ExecuteTime": {
     "end_time": "2021-06-15T01:49:34.802095Z",
     "start_time": "2021-06-15T01:49:34.652592Z"
    }
   },
   "outputs": [],
   "source": [
    "ax = plt.subplot()\n",
    "ax.imshow(m82_image, cmap='gray_r', origin='lower', vmin=-10, vmax=20)\n",
    "ax.set_xlabel('X (pixels)')\n",
    "ax.set_ylabel('Y (pixels)')"
   ]
  },
  {
   "cell_type": "markdown",
   "metadata": {},
   "source": [
    "Plot the in RA and Declination coordinates space, instead of pixels. The WCS (or World Coordinates System) in a FITS file has a set of keywords that define the coordinate system.  \n",
    "\n",
    "Typical keywords are the following:\n",
    "\n",
    "CRVAL1, CRVAL2 - RA and Declination (in degrees) coordinates of CRPIX1 and CRPIX2.\n",
    "\n",
    "CRPIX1, CRPIX2 - Pixel positions of CRVAL1 and CRVAL2.\n",
    "\n",
    "CDELT1, CDELT2 - pixel scale (or plate scale) in degrees/pixel \n",
    "(or CD matrix: CD1_1, CD1_2, CD2_1, CD2_2 which represent the pixel scale and rotation with respect to the position angle)"
   ]
  },
  {
   "cell_type": "code",
   "execution_count": null,
   "metadata": {
    "ExecuteTime": {
     "end_time": "2021-06-15T01:49:40.121182Z",
     "start_time": "2021-06-15T01:49:40.119070Z"
    }
   },
   "outputs": [],
   "source": [
    "from astropy.wcs import WCS"
   ]
  },
  {
   "cell_type": "markdown",
   "metadata": {},
   "source": [
    "Use the FITS header to define the WCS of the image."
   ]
  },
  {
   "cell_type": "code",
   "execution_count": null,
   "metadata": {
    "ExecuteTime": {
     "end_time": "2021-06-15T01:49:56.863119Z",
     "start_time": "2021-06-15T01:49:56.629486Z"
    }
   },
   "outputs": [],
   "source": [
    "head = pf[ext].header\n",
    "wcs = WCS(head)\n",
    "\n",
    "ax = plt.subplot(projection=wcs)\n",
    "ax.imshow(m82_image, cmap='gray_r', origin='lower', vmin=-10, vmax=20)\n",
    "#ax.grid(color='white', ls='solid')\n",
    "ax.set_xlabel('Right Ascension (J2000)')\n",
    "ax.set_ylabel('Declination (J2000)')\n",
    "\n",
    "#ax.scatter(xid['ra'],xid['dec'],marker=\"o\",s=50,transform=ax.get_transform('fk5'),edgecolor='b', facecolor='none')\n",
    "#ax.set_xlim()\n",
    "#ax.set_ylim()\n",
    "ax.get_xlim()\n",
    "ax.get_ylim()"
   ]
  },
  {
   "cell_type": "code",
   "execution_count": null,
   "metadata": {},
   "outputs": [],
   "source": []
  },
  {
   "cell_type": "markdown",
   "metadata": {},
   "source": [
    "# Resources\n",
    "\n",
    "[top](#Table-of-Contents)\n",
    "\n",
    "http://learn.astropy.org/tutorials.html - list of all the Astropy tutorials\n",
    "\n",
    "https://docs.astropy.org/en/stable/wcs/ - Astropy WCS implementation\n",
    "\n",
    "https://docs.astropy.org/en/stable/table/ - Astropy data tables\n",
    "\n",
    "https://docs.astropy.org/en/stable/units/ - Astropy units\n",
    "\n",
    "https://docs.astropy.org/en/stable/cosmology/ - Astropy cosmology\n",
    "\n",
    "https://astroquery.readthedocs.io - astroquery documentation\n",
    "\n",
    "https://photutils.readthedocs.io - photutils documentation"
   ]
  },
  {
   "cell_type": "code",
   "execution_count": null,
   "metadata": {},
   "outputs": [],
   "source": []
  },
  {
   "cell_type": "code",
   "execution_count": null,
   "metadata": {},
   "outputs": [],
   "source": []
  }
 ],
 "metadata": {
  "kernelspec": {
   "display_name": "Python 3",
   "language": "python",
   "name": "python3"
  },
  "language_info": {
   "codemirror_mode": {
    "name": "ipython",
    "version": 3
   },
   "file_extension": ".py",
   "mimetype": "text/x-python",
   "name": "python",
   "nbconvert_exporter": "python",
   "pygments_lexer": "ipython3",
   "version": "3.7.0"
  }
 },
 "nbformat": 4,
 "nbformat_minor": 2
}

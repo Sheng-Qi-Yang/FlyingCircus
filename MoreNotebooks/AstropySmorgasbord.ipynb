{
 "cells": [
  {
   "cell_type": "markdown",
   "metadata": {},
   "source": [
    "# Astropy Smorgasbord"
   ]
  },
  {
   "cell_type": "markdown",
   "metadata": {},
   "source": [
    "Astropy is a the python package designed to contain the basic utilities needed for astronomy.  It has been many years in the making and replicated some of the functionaily of other astronomy packages from IRAF and IDL.  However, it still is missing many packages and utilities needed for say reduction, handling spectra, etc. As it is a community driven effort, its unclear how it will take for additional functionality to be included."
   ]
  },
  {
   "cell_type": "markdown",
   "metadata": {},
   "source": [
    "## Tables"
   ]
  },
  {
   "cell_type": "markdown",
   "metadata": {},
   "source": [
    "Data tables are convenient way of dealing with large data sets, particularly if you need to create, read, modifiy and/or write files (i.e. ASCII, FITS, HDF5, etc...).  Both Pandas and Astropy have their own unique support of data tables and it is possible to convert back and forth betweeen them.  The question arises why are there two different types of data table formats and what are the benifits of using one over the other. \n",
    " \n",
    "Pandas strengths are within its statistical machinary available for data analysis. Whereas the Astropy table has a few astronomy specific advantages; 1) being able to work with astronomy formats (i.e. FITS, sextractor, CDS, VOTables, etc) and 2) being able to use units within the table.  It may becomes necessary to switch back and forth between tables depending on the task at hand.  \n",
    "\n",
    "Here we will give you a very brief introduction to Astropy tables."
   ]
  },
  {
   "cell_type": "markdown",
   "metadata": {},
   "source": [
    "First you need to load the following module inorder to utilize an Astropy table."
   ]
  },
  {
   "cell_type": "code",
   "execution_count": 1,
   "metadata": {},
   "outputs": [],
   "source": [
    "from astropy.table import QTable\n",
    "import astropy.units as u\n",
    "import numpy as np"
   ]
  },
  {
   "cell_type": "markdown",
   "metadata": {},
   "source": [
    "Here we will create a QTable which is a quantity table.  The first column is the redshift of the source, the second is the star formation rate (SFR), the third is the stellar mass and the fourth is the rotational velocity. Since it is a QTable, we can define the units for each of the entries, if we like."
   ]
  },
  {
   "cell_type": "code",
   "execution_count": 2,
   "metadata": {},
   "outputs": [],
   "source": [
    "a = [0.10, 0.15, 0.2]\n",
    "b = [10.0, 2.0,  100.0] * u.M_sun / u.yr\n",
    "c = [1e10, 1e9,  1e11]  * u.M_sun\n",
    "d = [150., 100., 2000.] * u.km / u.s"
   ]
  },
  {
   "cell_type": "markdown",
   "metadata": {},
   "source": [
    "When we create the table, we can assign the names to each column"
   ]
  },
  {
   "cell_type": "code",
   "execution_count": 3,
   "metadata": {},
   "outputs": [],
   "source": [
    "t = QTable([a, b, c, d],\n",
    "           names=('redshift', 'sfr', 'stellar_mass', 'velocity'))"
   ]
  },
  {
   "cell_type": "markdown",
   "metadata": {},
   "source": [
    "We can display the table by typing the variable into the notebook"
   ]
  },
  {
   "cell_type": "code",
   "execution_count": 4,
   "metadata": {},
   "outputs": [
    {
     "data": {
      "text/html": [
       "&lt;QTable length=3&gt;\n",
       "<table id=\"table140252583606352\" class=\"table-striped table-bordered table-condensed\">\n",
       "<thead><tr><th>redshift</th><th>sfr</th><th>stellar_mass</th><th>velocity</th></tr></thead>\n",
       "<thead><tr><th></th><th>solMass / yr</th><th>solMass</th><th>km / s</th></tr></thead>\n",
       "<thead><tr><th>float64</th><th>float64</th><th>float64</th><th>float64</th></tr></thead>\n",
       "<tr><td>0.1</td><td>10.0</td><td>10000000000.0</td><td>150.0</td></tr>\n",
       "<tr><td>0.15</td><td>2.0</td><td>1000000000.0</td><td>100.0</td></tr>\n",
       "<tr><td>0.2</td><td>100.0</td><td>1e+11</td><td>2000.0</td></tr>\n",
       "</table>"
      ],
      "text/plain": [
       "<QTable length=3>\n",
       "redshift     sfr       stellar_mass velocity\n",
       "         solMass / yr    solMass     km / s \n",
       "float64    float64       float64    float64 \n",
       "-------- ------------ ------------- --------\n",
       "     0.1         10.0 10000000000.0    150.0\n",
       "    0.15          2.0  1000000000.0    100.0\n",
       "     0.2        100.0         1e+11   2000.0"
      ]
     },
     "execution_count": 4,
     "metadata": {},
     "output_type": "execute_result"
    }
   ],
   "source": [
    "t"
   ]
  },
  {
   "cell_type": "markdown",
   "metadata": {},
   "source": [
    "We can display the information about the table (i.e. data type, units, name)"
   ]
  },
  {
   "cell_type": "code",
   "execution_count": 5,
   "metadata": {},
   "outputs": [
    {
     "data": {
      "text/plain": [
       "<QTable length=3>\n",
       "    name      dtype      unit      class  \n",
       "------------ ------- ------------ --------\n",
       "    redshift float64                Column\n",
       "         sfr float64 solMass / yr Quantity\n",
       "stellar_mass float64      solMass Quantity\n",
       "    velocity float64       km / s Quantity"
      ]
     },
     "execution_count": 5,
     "metadata": {},
     "output_type": "execute_result"
    }
   ],
   "source": [
    "t.info"
   ]
  },
  {
   "cell_type": "markdown",
   "metadata": {},
   "source": [
    "We can view a specific column by calling is name."
   ]
  },
  {
   "cell_type": "code",
   "execution_count": 6,
   "metadata": {},
   "outputs": [
    {
     "data": {
      "text/latex": [
       "$[10,~2,~100] \\; \\mathrm{\\frac{M_{\\odot}}{yr}}$"
      ],
      "text/plain": [
       "<Quantity [ 10.,   2., 100.] solMass / yr>"
      ]
     },
     "execution_count": 6,
     "metadata": {},
     "output_type": "execute_result"
    }
   ],
   "source": [
    "t['sfr']"
   ]
  },
  {
   "cell_type": "markdown",
   "metadata": {},
   "source": [
    "We can also group subsets of columns."
   ]
  },
  {
   "cell_type": "code",
   "execution_count": 7,
   "metadata": {},
   "outputs": [
    {
     "data": {
      "text/html": [
       "&lt;QTable length=3&gt;\n",
       "<table id=\"table140252832543248\" class=\"table-striped table-bordered table-condensed\">\n",
       "<thead><tr><th>sfr</th><th>velocity</th></tr></thead>\n",
       "<thead><tr><th>solMass / yr</th><th>km / s</th></tr></thead>\n",
       "<thead><tr><th>float64</th><th>float64</th></tr></thead>\n",
       "<tr><td>10.0</td><td>150.0</td></tr>\n",
       "<tr><td>2.0</td><td>100.0</td></tr>\n",
       "<tr><td>100.0</td><td>2000.0</td></tr>\n",
       "</table>"
      ],
      "text/plain": [
       "<QTable length=3>\n",
       "    sfr      velocity\n",
       "solMass / yr  km / s \n",
       "  float64    float64 \n",
       "------------ --------\n",
       "        10.0    150.0\n",
       "         2.0    100.0\n",
       "       100.0   2000.0"
      ]
     },
     "execution_count": 7,
     "metadata": {},
     "output_type": "execute_result"
    }
   ],
   "source": [
    "t['sfr','velocity']"
   ]
  },
  {
   "cell_type": "markdown",
   "metadata": {},
   "source": [
    "We can call a specific row, in this case the first row, which shows all the entries for the first object.  Remember python indexing starts with zero!"
   ]
  },
  {
   "cell_type": "code",
   "execution_count": 8,
   "metadata": {},
   "outputs": [
    {
     "data": {
      "text/html": [
       "&lt;Row index=0&gt;\n",
       "<table id=\"table140252583606352\">\n",
       "<thead><tr><th>redshift</th><th>sfr</th><th>stellar_mass</th><th>velocity</th></tr></thead>\n",
       "<thead><tr><th></th><th>solMass / yr</th><th>solMass</th><th>km / s</th></tr></thead>\n",
       "<thead><tr><th>float64</th><th>float64</th><th>float64</th><th>float64</th></tr></thead>\n",
       "<tr><td>0.1</td><td>10.0</td><td>10000000000.0</td><td>150.0</td></tr>\n",
       "</table>"
      ],
      "text/plain": [
       "<Row index=0>\n",
       "redshift     sfr       stellar_mass velocity\n",
       "         solMass / yr    solMass     km / s \n",
       "float64    float64       float64    float64 \n",
       "-------- ------------ ------------- --------\n",
       "     0.1         10.0 10000000000.0    150.0"
      ]
     },
     "execution_count": 8,
     "metadata": {},
     "output_type": "execute_result"
    }
   ],
   "source": [
    "t[0]"
   ]
  },
  {
   "cell_type": "markdown",
   "metadata": {},
   "source": [
    "We can write to a standard format if we like, binary FITS tables are often used for this. If could be an ASCII file (either sapace, tab or comma delimited) or whatever your favorite sharable file format is.  There is a whole [list](https://docs.astropy.org/en/stable/io/unified.html#table-io) of supported formats that can be read in, many astronomy specific."
   ]
  },
  {
   "cell_type": "code",
   "execution_count": 9,
   "metadata": {},
   "outputs": [],
   "source": [
    "t.write('my_table.fits', overwrite=True) "
   ]
  },
  {
   "cell_type": "markdown",
   "metadata": {},
   "source": [
    "You can read it in just as easily too. As you can see, the units are stored as well, as long as you are using a QTable."
   ]
  },
  {
   "cell_type": "code",
   "execution_count": 10,
   "metadata": {},
   "outputs": [],
   "source": [
    "all_targets = QTable.read(\"my_table.fits\")"
   ]
  },
  {
   "cell_type": "code",
   "execution_count": 11,
   "metadata": {},
   "outputs": [
    {
     "data": {
      "text/html": [
       "&lt;QTable length=3&gt;\n",
       "<table id=\"table140252295906192\" class=\"table-striped table-bordered table-condensed\">\n",
       "<thead><tr><th>redshift</th><th>sfr</th><th>stellar_mass</th><th>velocity</th></tr></thead>\n",
       "<thead><tr><th></th><th>solMass / yr</th><th>solMass</th><th>km / s</th></tr></thead>\n",
       "<thead><tr><th>float64</th><th>float64</th><th>float64</th><th>float64</th></tr></thead>\n",
       "<tr><td>0.1</td><td>10.0</td><td>10000000000.0</td><td>150.0</td></tr>\n",
       "<tr><td>0.15</td><td>2.0</td><td>1000000000.0</td><td>100.0</td></tr>\n",
       "<tr><td>0.2</td><td>100.0</td><td>1e+11</td><td>2000.0</td></tr>\n",
       "</table>"
      ],
      "text/plain": [
       "<QTable length=3>\n",
       "redshift     sfr       stellar_mass velocity\n",
       "         solMass / yr    solMass     km / s \n",
       "float64    float64       float64    float64 \n",
       "-------- ------------ ------------- --------\n",
       "     0.1         10.0 10000000000.0    150.0\n",
       "    0.15          2.0  1000000000.0    100.0\n",
       "     0.2        100.0         1e+11   2000.0"
      ]
     },
     "execution_count": 11,
     "metadata": {},
     "output_type": "execute_result"
    }
   ],
   "source": [
    "all_targets"
   ]
  },
  {
   "cell_type": "markdown",
   "metadata": {},
   "source": [
    "We can add new entries to the table.  In this case specific star formation rate (sSFR)."
   ]
  },
  {
   "cell_type": "code",
   "execution_count": 12,
   "metadata": {},
   "outputs": [],
   "source": [
    "t['ssfr'] = t['sfr'] / t['stellar_mass']"
   ]
  },
  {
   "cell_type": "code",
   "execution_count": 13,
   "metadata": {},
   "outputs": [
    {
     "data": {
      "text/html": [
       "&lt;QTable length=3&gt;\n",
       "<table id=\"table140252583606352\" class=\"table-striped table-bordered table-condensed\">\n",
       "<thead><tr><th>redshift</th><th>sfr</th><th>stellar_mass</th><th>velocity</th><th>ssfr</th></tr></thead>\n",
       "<thead><tr><th></th><th>solMass / yr</th><th>solMass</th><th>km / s</th><th>1 / yr</th></tr></thead>\n",
       "<thead><tr><th>float64</th><th>float64</th><th>float64</th><th>float64</th><th>float64</th></tr></thead>\n",
       "<tr><td>0.1</td><td>10.0</td><td>10000000000.0</td><td>150.0</td><td>1e-09</td></tr>\n",
       "<tr><td>0.15</td><td>2.0</td><td>1000000000.0</td><td>100.0</td><td>2e-09</td></tr>\n",
       "<tr><td>0.2</td><td>100.0</td><td>1e+11</td><td>2000.0</td><td>1e-09</td></tr>\n",
       "</table>"
      ],
      "text/plain": [
       "<QTable length=3>\n",
       "redshift     sfr       stellar_mass velocity   ssfr \n",
       "         solMass / yr    solMass     km / s   1 / yr\n",
       "float64    float64       float64    float64  float64\n",
       "-------- ------------ ------------- -------- -------\n",
       "     0.1         10.0 10000000000.0    150.0   1e-09\n",
       "    0.15          2.0  1000000000.0    100.0   2e-09\n",
       "     0.2        100.0         1e+11   2000.0   1e-09"
      ]
     },
     "execution_count": 13,
     "metadata": {},
     "output_type": "execute_result"
    }
   ],
   "source": [
    "t"
   ]
  },
  {
   "cell_type": "markdown",
   "metadata": {},
   "source": [
    "Maybe we are unhappy using years and we want to convert to Gyr. There are a whole list of available units [here](https://docs.astropy.org/en/stable/units/)."
   ]
  },
  {
   "cell_type": "code",
   "execution_count": 14,
   "metadata": {},
   "outputs": [
    {
     "data": {
      "text/latex": [
       "$[1,~2,~1] \\; \\mathrm{\\frac{1}{Gyr}}$"
      ],
      "text/plain": [
       "<Quantity [1., 2., 1.] 1 / Gyr>"
      ]
     },
     "execution_count": 14,
     "metadata": {},
     "output_type": "execute_result"
    }
   ],
   "source": [
    "t['ssfr'].to(1./u.gigayear)"
   ]
  },
  {
   "cell_type": "markdown",
   "metadata": {},
   "source": [
    "If we want to estimate the H-alpha line lunminosity from the SFR using an emperical relation (such as one from Kennicutt et al. 1998)."
   ]
  },
  {
   "cell_type": "code",
   "execution_count": 15,
   "metadata": {},
   "outputs": [],
   "source": [
    "t['lum'] = (t['sfr'] * u.erg / u.s )/(7.9e-42 * u.Msun / u.yr)"
   ]
  },
  {
   "cell_type": "code",
   "execution_count": 16,
   "metadata": {},
   "outputs": [
    {
     "data": {
      "text/html": [
       "&lt;QTable length=3&gt;\n",
       "<table id=\"table140252583606352\" class=\"table-striped table-bordered table-condensed\">\n",
       "<thead><tr><th>redshift</th><th>sfr</th><th>stellar_mass</th><th>velocity</th><th>ssfr</th><th>lum</th></tr></thead>\n",
       "<thead><tr><th></th><th>solMass / yr</th><th>solMass</th><th>km / s</th><th>1 / yr</th><th>erg / s</th></tr></thead>\n",
       "<thead><tr><th>float64</th><th>float64</th><th>float64</th><th>float64</th><th>float64</th><th>float64</th></tr></thead>\n",
       "<tr><td>0.1</td><td>10.0</td><td>10000000000.0</td><td>150.0</td><td>1e-09</td><td>1.26582278481e+42</td></tr>\n",
       "<tr><td>0.15</td><td>2.0</td><td>1000000000.0</td><td>100.0</td><td>2e-09</td><td>2.53164556962e+41</td></tr>\n",
       "<tr><td>0.2</td><td>100.0</td><td>1e+11</td><td>2000.0</td><td>1e-09</td><td>1.26582278481e+43</td></tr>\n",
       "</table>"
      ],
      "text/plain": [
       "<QTable length=3>\n",
       "redshift     sfr       stellar_mass velocity   ssfr         lum       \n",
       "         solMass / yr    solMass     km / s   1 / yr      erg / s     \n",
       "float64    float64       float64    float64  float64      float64     \n",
       "-------- ------------ ------------- -------- ------- -----------------\n",
       "     0.1         10.0 10000000000.0    150.0   1e-09 1.26582278481e+42\n",
       "    0.15          2.0  1000000000.0    100.0   2e-09 2.53164556962e+41\n",
       "     0.2        100.0         1e+11   2000.0   1e-09 1.26582278481e+43"
      ]
     },
     "execution_count": 16,
     "metadata": {},
     "output_type": "execute_result"
    }
   ],
   "source": [
    "t"
   ]
  },
  {
   "cell_type": "markdown",
   "metadata": {},
   "source": [
    "Say we want to go from erg to photons, which are both \"energy\".  You can see it is not quite as straight forward by the follwoing error."
   ]
  },
  {
   "cell_type": "code",
   "execution_count": 17,
   "metadata": {},
   "outputs": [
    {
     "ename": "UnitConversionError",
     "evalue": "'erg / s' (power) and 'ph / s' are not convertible",
     "output_type": "error",
     "traceback": [
      "\u001b[0;31m---------------------------------------------------------------------------\u001b[0m",
      "\u001b[0;31mUnitConversionError\u001b[0m                       Traceback (most recent call last)",
      "\u001b[0;32m<ipython-input-17-6d39ce722bb9>\u001b[0m in \u001b[0;36m<module>\u001b[0;34m()\u001b[0m\n\u001b[0;32m----> 1\u001b[0;31m \u001b[0;34m(\u001b[0m\u001b[0mt\u001b[0m\u001b[0;34m[\u001b[0m\u001b[0;34m'lum'\u001b[0m\u001b[0;34m]\u001b[0m\u001b[0;34m)\u001b[0m\u001b[0;34m.\u001b[0m\u001b[0mto\u001b[0m\u001b[0;34m(\u001b[0m\u001b[0mu\u001b[0m\u001b[0;34m.\u001b[0m\u001b[0mph\u001b[0m \u001b[0;34m/\u001b[0m \u001b[0mu\u001b[0m\u001b[0;34m.\u001b[0m\u001b[0ms\u001b[0m\u001b[0;34m)\u001b[0m\u001b[0;34m\u001b[0m\u001b[0m\n\u001b[0m",
      "\u001b[0;32m/Users/gwalth/python/miniconda3/envs/gwalth2/lib/python2.7/site-packages/astropy/units/quantity.pyc\u001b[0m in \u001b[0;36mto\u001b[0;34m(self, unit, equivalencies)\u001b[0m\n\u001b[1;32m    841\u001b[0m         \u001b[0;31m# and don't want to slow down this method (esp. the scalar case).\u001b[0m\u001b[0;34m\u001b[0m\u001b[0;34m\u001b[0m\u001b[0m\n\u001b[1;32m    842\u001b[0m         \u001b[0munit\u001b[0m \u001b[0;34m=\u001b[0m \u001b[0mUnit\u001b[0m\u001b[0;34m(\u001b[0m\u001b[0munit\u001b[0m\u001b[0;34m)\u001b[0m\u001b[0;34m\u001b[0m\u001b[0m\n\u001b[0;32m--> 843\u001b[0;31m         \u001b[0;32mreturn\u001b[0m \u001b[0mself\u001b[0m\u001b[0;34m.\u001b[0m\u001b[0m_new_view\u001b[0m\u001b[0;34m(\u001b[0m\u001b[0mself\u001b[0m\u001b[0;34m.\u001b[0m\u001b[0m_to_value\u001b[0m\u001b[0;34m(\u001b[0m\u001b[0munit\u001b[0m\u001b[0;34m,\u001b[0m \u001b[0mequivalencies\u001b[0m\u001b[0;34m)\u001b[0m\u001b[0;34m,\u001b[0m \u001b[0munit\u001b[0m\u001b[0;34m)\u001b[0m\u001b[0;34m\u001b[0m\u001b[0m\n\u001b[0m\u001b[1;32m    844\u001b[0m \u001b[0;34m\u001b[0m\u001b[0m\n\u001b[1;32m    845\u001b[0m     \u001b[0;32mdef\u001b[0m \u001b[0mto_value\u001b[0m\u001b[0;34m(\u001b[0m\u001b[0mself\u001b[0m\u001b[0;34m,\u001b[0m \u001b[0munit\u001b[0m\u001b[0;34m=\u001b[0m\u001b[0mNone\u001b[0m\u001b[0;34m,\u001b[0m \u001b[0mequivalencies\u001b[0m\u001b[0;34m=\u001b[0m\u001b[0;34m[\u001b[0m\u001b[0;34m]\u001b[0m\u001b[0;34m)\u001b[0m\u001b[0;34m:\u001b[0m\u001b[0;34m\u001b[0m\u001b[0m\n",
      "\u001b[0;32m/Users/gwalth/python/miniconda3/envs/gwalth2/lib/python2.7/site-packages/astropy/units/quantity.pyc\u001b[0m in \u001b[0;36m_to_value\u001b[0;34m(self, unit, equivalencies)\u001b[0m\n\u001b[1;32m    813\u001b[0m             \u001b[0mequivalencies\u001b[0m \u001b[0;34m=\u001b[0m \u001b[0mself\u001b[0m\u001b[0;34m.\u001b[0m\u001b[0m_equivalencies\u001b[0m\u001b[0;34m\u001b[0m\u001b[0m\n\u001b[1;32m    814\u001b[0m         return self.unit.to(unit, self.view(np.ndarray),\n\u001b[0;32m--> 815\u001b[0;31m                             equivalencies=equivalencies)\n\u001b[0m\u001b[1;32m    816\u001b[0m \u001b[0;34m\u001b[0m\u001b[0m\n\u001b[1;32m    817\u001b[0m     \u001b[0;32mdef\u001b[0m \u001b[0mto\u001b[0m\u001b[0;34m(\u001b[0m\u001b[0mself\u001b[0m\u001b[0;34m,\u001b[0m \u001b[0munit\u001b[0m\u001b[0;34m,\u001b[0m \u001b[0mequivalencies\u001b[0m\u001b[0;34m=\u001b[0m\u001b[0;34m[\u001b[0m\u001b[0;34m]\u001b[0m\u001b[0;34m)\u001b[0m\u001b[0;34m:\u001b[0m\u001b[0;34m\u001b[0m\u001b[0m\n",
      "\u001b[0;32m/Users/gwalth/python/miniconda3/envs/gwalth2/lib/python2.7/site-packages/astropy/units/core.pyc\u001b[0m in \u001b[0;36mto\u001b[0;34m(self, other, value, equivalencies)\u001b[0m\n\u001b[1;32m    977\u001b[0m             \u001b[0mIf\u001b[0m \u001b[0munits\u001b[0m \u001b[0mare\u001b[0m \u001b[0minconsistent\u001b[0m\u001b[0;34m\u001b[0m\u001b[0m\n\u001b[1;32m    978\u001b[0m         \"\"\"\n\u001b[0;32m--> 979\u001b[0;31m         \u001b[0;32mreturn\u001b[0m \u001b[0mself\u001b[0m\u001b[0;34m.\u001b[0m\u001b[0m_get_converter\u001b[0m\u001b[0;34m(\u001b[0m\u001b[0mother\u001b[0m\u001b[0;34m,\u001b[0m \u001b[0mequivalencies\u001b[0m\u001b[0;34m=\u001b[0m\u001b[0mequivalencies\u001b[0m\u001b[0;34m)\u001b[0m\u001b[0;34m(\u001b[0m\u001b[0mvalue\u001b[0m\u001b[0;34m)\u001b[0m\u001b[0;34m\u001b[0m\u001b[0m\n\u001b[0m\u001b[1;32m    980\u001b[0m \u001b[0;34m\u001b[0m\u001b[0m\n\u001b[1;32m    981\u001b[0m     \u001b[0;32mdef\u001b[0m \u001b[0min_units\u001b[0m\u001b[0;34m(\u001b[0m\u001b[0mself\u001b[0m\u001b[0;34m,\u001b[0m \u001b[0mother\u001b[0m\u001b[0;34m,\u001b[0m \u001b[0mvalue\u001b[0m\u001b[0;34m=\u001b[0m\u001b[0;36m1.0\u001b[0m\u001b[0;34m,\u001b[0m \u001b[0mequivalencies\u001b[0m\u001b[0;34m=\u001b[0m\u001b[0;34m[\u001b[0m\u001b[0;34m]\u001b[0m\u001b[0;34m)\u001b[0m\u001b[0;34m:\u001b[0m\u001b[0;34m\u001b[0m\u001b[0m\n",
      "\u001b[0;32m/Users/gwalth/python/miniconda3/envs/gwalth2/lib/python2.7/site-packages/astropy/units/core.pyc\u001b[0m in \u001b[0;36m_get_converter\u001b[0;34m(self, other, equivalencies)\u001b[0m\n\u001b[1;32m    911\u001b[0m                             \u001b[0;32mpass\u001b[0m\u001b[0;34m\u001b[0m\u001b[0m\n\u001b[1;32m    912\u001b[0m \u001b[0;34m\u001b[0m\u001b[0m\n\u001b[0;32m--> 913\u001b[0;31m             \u001b[0;32mraise\u001b[0m \u001b[0mexc\u001b[0m\u001b[0;34m\u001b[0m\u001b[0m\n\u001b[0m\u001b[1;32m    914\u001b[0m \u001b[0;34m\u001b[0m\u001b[0m\n\u001b[1;32m    915\u001b[0m     \u001b[0;32mdef\u001b[0m \u001b[0m_to\u001b[0m\u001b[0;34m(\u001b[0m\u001b[0mself\u001b[0m\u001b[0;34m,\u001b[0m \u001b[0mother\u001b[0m\u001b[0;34m)\u001b[0m\u001b[0;34m:\u001b[0m\u001b[0;34m\u001b[0m\u001b[0m\n",
      "\u001b[0;31mUnitConversionError\u001b[0m: 'erg / s' (power) and 'ph / s' are not convertible"
     ]
    }
   ],
   "source": [
    "(t['lum']).to(u.ph / u.s)"
   ]
  },
  {
   "cell_type": "markdown",
   "metadata": {},
   "source": [
    "In order to convert to photons/s properly, we need to check the units. Our beginning and ending units match (i.e. energy/time), we just need to acount for the energy of the photon which is depends on the wavelength.\n",
    "\n",
    "$$ E_{phot} = \\frac{h c}{\\lambda} $$"
   ]
  },
  {
   "cell_type": "markdown",
   "metadata": {},
   "source": [
    "(1) As an exercise for the reader. Modify the above table to estimate the number of photons/s from the H-alpha line luminosity the energy of the photon instead."
   ]
  },
  {
   "cell_type": "markdown",
   "metadata": {},
   "source": [
    "## Photometry with Photutils"
   ]
  },
  {
   "cell_type": "markdown",
   "metadata": {},
   "source": [
    "What is photometry?  It is the measurement of light from a source, either represented as flux or magnitude. There are several ways to compute the flux from a source. In this tutorial we will go over aperture photometry, where you draw a circular region around the source and measure the flux inside.\n",
    "\n",
    "[Photoutils](https://photutils.readthedocs.io) is a useful astropy package for performing photometry.  This includes but not limited to aperture photometry, PSF photometry, star finding, source isophotes, background subtraction, etc...\n",
    "\n",
    "Large parts of this tutorial are borrowed from [Getting Started with Photutils](https://photutils.readthedocs.io/en/stable/getting_started.html) documentation."
   ]
  },
  {
   "cell_type": "markdown",
   "metadata": {},
   "source": [
    "Here we load in a star field image provided with Photutils.  We are interested in a small subsection of the image in which we want to do photometry."
   ]
  },
  {
   "cell_type": "code",
   "execution_count": 18,
   "metadata": {},
   "outputs": [
    {
     "name": "stdout",
     "output_type": "stream",
     "text": [
      "Downloading http://data.astropy.org/photometry/M6707HH.fits [Done]\n"
     ]
    }
   ],
   "source": [
    "import numpy as np\n",
    "from photutils import datasets\n",
    "\n",
    "hdu = datasets.load_star_image()  \n",
    "image = hdu.data[500:700, 500:700].astype(float)\n",
    "head = hdu.header"
   ]
  },
  {
   "cell_type": "markdown",
   "metadata": {},
   "source": [
    "The type function is useful for determining what data type you are dealing with, especially if it is an unfamilar one."
   ]
  },
  {
   "cell_type": "code",
   "execution_count": 19,
   "metadata": {},
   "outputs": [
    {
     "name": "stdout",
     "output_type": "stream",
     "text": [
      "<class 'astropy.io.fits.hdu.image.PrimaryHDU'>\n",
      "<type 'numpy.ndarray'>\n",
      "<class 'astropy.io.fits.header.Header'>\n"
     ]
    }
   ],
   "source": [
    "print(type(hdu))\n",
    "print(type(image))\n",
    "print(type(head))"
   ]
  },
  {
   "cell_type": "markdown",
   "metadata": {},
   "source": [
    "Assuming your background is uniform (and it most certianly is not), here is a rough background subtraction. \n",
    "\n",
    "This may not work for all astronomical fields (e.g. clusters, low surface brightness features, etc). There are more sophisticated ways to deal with the background subtraction, see the [Background Estimation](https://photutils.readthedocs.io/en/stable/background.html) documentation."
   ]
  },
  {
   "cell_type": "code",
   "execution_count": 20,
   "metadata": {},
   "outputs": [],
   "source": [
    "image -= np.median(image) "
   ]
  },
  {
   "cell_type": "markdown",
   "metadata": {},
   "source": [
    "We use [DAOStarFinder](https://photutils.readthedocs.io/en/stable/api/photutils.detection.DAOStarFinder.html) to find all of the objects in the image. \n",
    "\n",
    "The FWHM (Full Width Half Maximum) is a way of measureing the size of the source. Often for unresolved sources, like stars, the FWHM should be matched the resolution of the telescope (or the seeing).  \n",
    "\n",
    "The threshold is the value above the background in which the star finding algorithm will find sources. Often this should be done in a statistical sense in which a real detection is n-sigma above the background (or n standard deviations). We can measure the standard deviation of background. \n",
    "\n",
    "Statistics aside:\n",
    "Assuming a Gaussian distribution for the noise, 1-sigma contains 68% of the distribution, 2-sigma contains 95% of the distribution and 3-sigma contains 99.7% of the distribution. Often 5-sigma is the golden standard in physics and astronomy for a \"real\" detection as it is contains 99.99994% background distribution.  \n",
    "\n",
    "Here we use 3-sigma (3 standard devations) above the background for a \"real\" detection. "
   ]
  },
  {
   "cell_type": "code",
   "execution_count": 21,
   "metadata": {},
   "outputs": [
    {
     "name": "stdout",
     "output_type": "stream",
     "text": [
      " id xcentroid ycentroid  sharpness  ... sky peak    flux      mag    \n",
      "--- --------- ---------- ---------- ... --- ---- --------- ----------\n",
      "  1 182.83866 0.16767019 0.85099873 ...   0 3824 2.8028346 -1.1189937\n",
      "  2 189.20431 0.26081353  0.7400477 ...   0 4913 3.8729185 -1.4700959\n",
      "  3 5.7946491  2.6125424 0.39589731 ...   0 7752 4.1029107 -1.5327302\n",
      "  4 36.847063  1.3220228 0.29594528 ...   0 8739 7.4315818 -2.1777032\n",
      "  5 3.2565602   5.418952 0.35985495 ...   0 6935 3.8126298 -1.4530616\n",
      "  6 10.268038  5.3999204 0.49375848 ...   0 8205 2.8472517 -1.1360646\n",
      "  7 93.556424  7.3860242 0.50812587 ...   0 7440 7.0356171 -2.1182555\n",
      "  8 5.7380557  7.5152239 0.44193256 ...   0 8500 2.7201818 -1.0864948\n",
      "  9 19.136489   9.040662 0.68910946 ...   0 3691 2.7049518 -1.0803988\n",
      " 10 55.052002  11.353116 0.43075296 ...   0 8115 2.9139911 -1.1612205\n",
      "<Table length=152>\n",
      "   name     dtype  format\n",
      "---------- ------- ------\n",
      "        id   int64   %.8g\n",
      " xcentroid float64   %.8g\n",
      " ycentroid float64   %.8g\n",
      " sharpness float64   %.8g\n",
      "roundness1 float64   %.8g\n",
      "roundness2 float64   %.8g\n",
      "      npix float64   %.8g\n",
      "       sky float64   %.8g\n",
      "      peak float64   %.8g\n",
      "      flux float64   %.8g\n",
      "       mag float64   %.8g\n",
      "\n"
     ]
    }
   ],
   "source": [
    "from photutils import DAOStarFinder\n",
    "from astropy.stats import mad_std\n",
    "\n",
    "bkg_sigma = mad_std(image)\n",
    "\n",
    "daofind = DAOStarFinder(fwhm=4., threshold=3.*bkg_sigma)  \n",
    "sources = daofind(image)\n",
    "\n",
    "for col in sources.colnames: sources[col].info.format = '%.8g'  # for consistent table output\n",
    "print(sources[:10])\n",
    "print(sources.info)"
   ]
  },
  {
   "cell_type": "code",
   "execution_count": 22,
   "metadata": {},
   "outputs": [
    {
     "name": "stdout",
     "output_type": "stream",
     "text": [
      " id  xcenter   ycenter   aperture_sum\n",
      "       pix       pix                 \n",
      "--- --------- ---------- ------------\n",
      "  1 182.83866 0.16767019    18121.759\n",
      "  2 189.20431 0.26081353    29836.515\n",
      "  3 5.7946491  2.6125424    331979.82\n",
      "  4 36.847063  1.3220228    183705.09\n",
      "  5 3.2565602   5.418952    349468.98\n",
      "  6 10.268038  5.3999204    261533.37\n",
      "  7 93.556424  7.3860242     66815.03\n",
      "  8 5.7380557  7.5152239    363004.57\n",
      "  9 19.136489   9.040662    49273.929\n",
      " 10 55.052002  11.353116    380132.88\n",
      "<QTable length=152>\n",
      "    name      dtype  unit format  class  \n",
      "------------ ------- ---- ------ --------\n",
      "          id   int64        %.8g   Column\n",
      "     xcenter float64  pix   %.8g Quantity\n",
      "     ycenter float64  pix   %.8g Quantity\n",
      "aperture_sum float64        %.8g   Column\n",
      "\n"
     ]
    }
   ],
   "source": [
    "from photutils import aperture_photometry, CircularAperture\n",
    "\n",
    "positions = np.transpose((sources['xcentroid'], sources['ycentroid']))  \n",
    "apertures = CircularAperture(positions, r=4.)  \n",
    "phot_table = aperture_photometry(image, apertures)\n",
    "\n",
    "for col in phot_table.colnames: phot_table[col].info.format = '%.8g'  # for consistent table output\n",
    "print(phot_table[:10])\n",
    "print(phot_table.info)"
   ]
  },
  {
   "cell_type": "code",
   "execution_count": 23,
   "metadata": {},
   "outputs": [],
   "source": [
    "import matplotlib.pyplot as plt\n",
    "\n",
    "plt.imshow(image, cmap='gray_r', origin='lower')\n",
    "apertures.plot(color='blue', lw=1.5, alpha=0.5)"
   ]
  },
  {
   "cell_type": "code",
   "execution_count": 24,
   "metadata": {},
   "outputs": [
    {
     "name": "stdout",
     "output_type": "stream",
     "text": [
      "['SIMPLE', 'BITPIX', 'NAXIS', 'NAXIS1', 'NAXIS2', 'DATE', 'ORIGIN', 'PLTLABEL', 'PLATEID', 'REGION', 'DATE-OBS', 'UT', 'EPOCH', 'PLTRAH', 'PLTRAM', 'PLTRAS', 'PLTDECSN', 'PLTDECD', 'PLTDECM', 'PLTDECS', 'EQUINOX', 'EXPOSURE', 'BANDPASS', 'PLTGRADE', 'PLTSCALE', 'SITELAT', 'SITELONG', 'TELESCOP', 'CNPIX1', 'CNPIX2', 'DATATYPE', 'SCANIMG', 'SCANNUM', 'DCHOPPED', 'DSHEARED', 'DSCNDNUM', 'XPIXELSZ', 'YPIXELSZ', 'PPO1', 'PPO2', 'PPO3', 'PPO4', 'PPO5', 'PPO6', 'AMDX1', 'AMDX2', 'AMDX3', 'AMDX4', 'AMDX5', 'AMDX6', 'AMDX7', 'AMDX8', 'AMDX9', 'AMDX10', 'AMDX11', 'AMDX12', 'AMDX13', 'AMDX14', 'AMDX15', 'AMDX16', 'AMDX17', 'AMDX18', 'AMDX19', 'AMDX20', 'AMDY1', 'AMDY2', 'AMDY3', 'AMDY4', 'AMDY5', 'AMDY6', 'AMDY7', 'AMDY8', 'AMDY9', 'AMDY10', 'AMDY11', 'AMDY12', 'AMDY13', 'AMDY14', 'AMDY15', 'AMDY16', 'AMDY17', 'AMDY18', 'AMDY19', 'AMDY20', '', '', '', '', '', '', '', '', '', '', '', '', '', 'DATAMAX', 'DATAMIN', 'OBJECT', 'OBJCTRA', 'OBJCTDEC', 'OBJCTX', 'OBJCTY']\n"
     ]
    }
   ],
   "source": [
    "print(head.keys())"
   ]
  },
  {
   "cell_type": "markdown",
   "metadata": {},
   "source": [
    "## Astroquery"
   ]
  },
  {
   "cell_type": "markdown",
   "metadata": {},
   "source": [
    "Astroquery is a Astropy package for querying astronomical databases.  There many, many, many  catalogs and image services.  Astroquery can be used to find catalogs and images.  In this tutorial, we will show a few different databases and and ways to search for data."
   ]
  },
  {
   "cell_type": "markdown",
   "metadata": {},
   "source": [
    "### NED query"
   ]
  },
  {
   "cell_type": "markdown",
   "metadata": {},
   "source": [
    "NED is the [NASA/IPAC Extragalacitc Database](https://ned.ipac.caltech.edu/).  It can be useful for finding measurements, properties and papers about\n",
    "your favorite galaxy (or galaxies).  Like many databases you can search for galaxies via their name or coordinates."
   ]
  },
  {
   "cell_type": "markdown",
   "metadata": {},
   "source": [
    "First we need to import the modules that we will use for this tutorial."
   ]
  },
  {
   "cell_type": "code",
   "execution_count": 25,
   "metadata": {},
   "outputs": [],
   "source": [
    "from astroquery.ned import Ned\n",
    "from astropy import coordinates\n",
    "import astropy.units as u"
   ]
  },
  {
   "cell_type": "code",
   "execution_count": 26,
   "metadata": {},
   "outputs": [
    {
     "name": "stdout",
     "output_type": "stream",
     "text": [
      "No. Object Name     RA     ... Redshift Points Diameter Points Associations\n",
      "                 degrees   ...                                             \n",
      "--- ----------- ---------- ... --------------- --------------- ------------\n",
      "  1 MESSIER 082  148.96969 ...              35               9            0\n"
     ]
    }
   ],
   "source": [
    "result_table = Ned.query_object(\"m82\")\n",
    "print(result_table)"
   ]
  },
  {
   "cell_type": "markdown",
   "metadata": {},
   "source": [
    "Print the columns returned from the search."
   ]
  },
  {
   "cell_type": "code",
   "execution_count": 27,
   "metadata": {},
   "outputs": [
    {
     "name": "stdout",
     "output_type": "stream",
     "text": [
      "['No.', 'Object Name', 'RA', 'DEC', 'Type', 'Velocity', 'Redshift', 'Redshift Flag', 'Magnitude and Filter', 'Separation', 'References', 'Notes', 'Photometry Points', 'Positions', 'Redshift Points', 'Diameter Points', 'Associations']\n"
     ]
    }
   ],
   "source": [
    "print(result_table.keys())"
   ]
  },
  {
   "cell_type": "markdown",
   "metadata": {},
   "source": [
    "Print the redshift of the source"
   ]
  },
  {
   "cell_type": "code",
   "execution_count": 28,
   "metadata": {},
   "outputs": [
    {
     "name": "stdout",
     "output_type": "stream",
     "text": [
      " Redshift \n",
      "----------\n",
      "  0.000677\n"
     ]
    }
   ],
   "source": [
    "print(result_table['Redshift'])"
   ]
  },
  {
   "cell_type": "markdown",
   "metadata": {},
   "source": [
    "Lets now search for objects around M82."
   ]
  },
  {
   "cell_type": "code",
   "execution_count": 29,
   "metadata": {},
   "outputs": [
    {
     "name": "stdout",
     "output_type": "stream",
     "text": [
      "No.        Object Name            RA     ... Diameter Points Associations\n",
      "                               degrees   ...                             \n",
      "--- ------------------------- ---------- ... --------------- ------------\n",
      "  1 MESSIER 082:[JMT2009] 229   148.9246 ...               0            0\n",
      "  2   2MASS J09554213+6940277  148.92555 ...               0            0\n",
      "  3                  SN 2014J  148.92558 ...               0            0\n",
      "  4 WISEA J095542.17+694031.7  148.92571 ...               0            0\n",
      "  5   2MASS J09554256+6940235  148.92735 ...               0            0\n",
      "  6     CXOU J095542.8+694033   148.9285 ...               0            0\n",
      "  7   2MASS J09554297+6940294  148.92907 ...               0            0\n",
      "  8   CXOGSG J095543.1+694058  148.92958 ...               0            0\n",
      "  9 MESSIER 082:[JMT2009] 121  148.92995 ...               0            0\n",
      " 10   2MASS J09554336+6940278  148.93068 ...               0            0\n",
      "...                       ...        ... ...             ...          ...\n",
      "300   2MASS J09560138+6941111  149.00475 ...               0            0\n",
      "301 WISEA J095601.19+694107.2    149.005 ...               0            0\n",
      "302   CXOGSG J095601.4+694102  149.00583 ...               0            0\n",
      "303   CXOGSG J095601.6+694012  149.00667 ...               0            0\n",
      "304   2MASS J09560191+6941149    149.008 ...               0            0\n",
      "305   2MASS J09560209+6941162  149.00871 ...               0            0\n",
      "306   2MASS J09560219+6941126  149.00915 ...               0            0\n",
      "307   2MASS J09560222+6941090  149.00926 ...               0            0\n",
      "308   2MASS J09560272+6941143  149.01137 ...               0            0\n",
      "309   2MASS J09560321+6941090   149.0134 ...               0            0\n",
      "Length = 309 rows\n"
     ]
    }
   ],
   "source": [
    "result_table = Ned.query_region(\"m82\", radius=1 * u.arcmin)\n",
    "print(result_table)"
   ]
  },
  {
   "cell_type": "markdown",
   "metadata": {},
   "source": [
    "### Gaia query"
   ]
  },
  {
   "cell_type": "markdown",
   "metadata": {},
   "source": [
    "[Gaia](https://sci.esa.int/web/gaia) is a space observatory designed to observe the precise positions of stars in order to determine their distances and motions within the galaxy.  Gaia star coordinates are the new golden standard for astrometry.  Being able to querry their database to correct your catalogs and images to their coordinate system would be highly beneficial. "
   ]
  },
  {
   "cell_type": "code",
   "execution_count": 30,
   "metadata": {},
   "outputs": [
    {
     "name": "stdout",
     "output_type": "stream",
     "text": [
      "Created TAP+ (v1.2.1) - Connection:\n",
      "\tHost: gea.esac.esa.int\n",
      "\tUse HTTPS: True\n",
      "\tPort: 443\n",
      "\tSSL Port: 443\n",
      "Created TAP+ (v1.2.1) - Connection:\n",
      "\tHost: geadata.esac.esa.int\n",
      "\tUse HTTPS: True\n",
      "\tPort: 443\n",
      "\tSSL Port: 443\n"
     ]
    }
   ],
   "source": [
    "from astroquery.gaia import Gaia"
   ]
  },
  {
   "cell_type": "code",
   "execution_count": 31,
   "metadata": {},
   "outputs": [
    {
     "name": "stdout",
     "output_type": "stream",
     "text": [
      "INFO: Query finished. [astroquery.utils.tap.core]\n",
      "    solution_id             designation          ...          dist        \n",
      "                                                 ...                      \n",
      "------------------- ---------------------------- ... ---------------------\n",
      "1635721458409799680 Gaia DR2 6636090334814214528 ... 0.0026034636628792566\n",
      "1635721458409799680 Gaia DR2 6636090339113063296 ...  0.003851874252249971\n",
      "1635721458409799680 Gaia DR2 6636090334814217600 ...  0.004545426460172014\n",
      "1635721458409799680 Gaia DR2 6636089583198816640 ... 0.0056139194792587735\n",
      "1635721458409799680 Gaia DR2 6636090334814218752 ...  0.005846434772172317\n",
      "1635721458409799680 Gaia DR2 6636090334814213632 ...  0.006209042545526965\n",
      "1635721458409799680 Gaia DR2 6636090339112308864 ...  0.007469463556823527\n",
      "1635721458409799680 Gaia DR2 6636089583198816512 ...  0.008202004493008971\n",
      "1635721458409799680 Gaia DR2 6636089583198817664 ...  0.008338509646710773\n",
      "1635721458409799680 Gaia DR2 6636089578899968384 ...  0.008406677782683548\n",
      "                ...                          ... ...                   ...\n",
      "1635721458409799680 Gaia DR2 6636089578899963520 ...  0.014393191112655973\n",
      "1635721458409799680 Gaia DR2 6636089510180488320 ...  0.014435077566980824\n",
      "1635721458409799680 Gaia DR2 6636090407828731008 ...  0.014584757961811858\n",
      "1635721458409799680 Gaia DR2 6636090373472801920 ...  0.015086640225257651\n",
      "1635721458409799680 Gaia DR2 6636066935832391936 ...   0.01510421958843512\n",
      "1635721458409799680 Gaia DR2 6636066871410485248 ...  0.015319847370288788\n",
      "1635721458409799680 Gaia DR2 6636090403533700352 ...  0.015360962814137152\n",
      "1635721458409799680 Gaia DR2 6636066867112904704 ...   0.01619227951127701\n",
      "1635721458409799680 Gaia DR2 6636066871409642880 ...  0.016426798476423334\n",
      "1635721458409799680 Gaia DR2 6636089548839846272 ...  0.016504117590543668\n",
      "Length = 29 rows\n",
      "['solution_id', 'designation', 'source_id', 'random_index', 'ref_epoch', 'ra', 'ra_error', 'dec', 'dec_error', 'parallax', 'parallax_error', 'parallax_over_error', 'pmra', 'pmra_error', 'pmdec', 'pmdec_error', 'ra_dec_corr', 'ra_parallax_corr', 'ra_pmra_corr', 'ra_pmdec_corr', 'dec_parallax_corr', 'dec_pmra_corr', 'dec_pmdec_corr', 'parallax_pmra_corr', 'parallax_pmdec_corr', 'pmra_pmdec_corr', 'astrometric_n_obs_al', 'astrometric_n_obs_ac', 'astrometric_n_good_obs_al', 'astrometric_n_bad_obs_al', 'astrometric_gof_al', 'astrometric_chi2_al', 'astrometric_excess_noise', 'astrometric_excess_noise_sig', 'astrometric_params_solved', 'astrometric_primary_flag', 'astrometric_weight_al', 'astrometric_pseudo_colour', 'astrometric_pseudo_colour_error', 'mean_varpi_factor_al', 'astrometric_matched_observations', 'visibility_periods_used', 'astrometric_sigma5d_max', 'frame_rotator_object_type', 'matched_observations', 'duplicated_source', 'phot_g_n_obs', 'phot_g_mean_flux', 'phot_g_mean_flux_error', 'phot_g_mean_flux_over_error', 'phot_g_mean_mag', 'phot_bp_n_obs', 'phot_bp_mean_flux', 'phot_bp_mean_flux_error', 'phot_bp_mean_flux_over_error', 'phot_bp_mean_mag', 'phot_rp_n_obs', 'phot_rp_mean_flux', 'phot_rp_mean_flux_error', 'phot_rp_mean_flux_over_error', 'phot_rp_mean_mag', 'phot_bp_rp_excess_factor', 'phot_proc_mode', 'bp_rp', 'bp_g', 'g_rp', 'radial_velocity', 'radial_velocity_error', 'rv_nb_transits', 'rv_template_teff', 'rv_template_logg', 'rv_template_fe_h', 'phot_variable_flag', 'l', 'b', 'ecl_lon', 'ecl_lat', 'priam_flags', 'teff_val', 'teff_percentile_lower', 'teff_percentile_upper', 'a_g_val', 'a_g_percentile_lower', 'a_g_percentile_upper', 'e_bp_min_rp_val', 'e_bp_min_rp_percentile_lower', 'e_bp_min_rp_percentile_upper', 'flame_flags', 'radius_val', 'radius_percentile_lower', 'radius_percentile_upper', 'lum_val', 'lum_percentile_lower', 'lum_percentile_upper', 'datalink_url', 'epoch_photometry_url', 'dist']\n"
     ]
    }
   ],
   "source": [
    "coord = coordinates.SkyCoord(ra=280, dec=-60, unit=(u.degree, u.degree), frame='icrs')\n",
    "radius = u.Quantity(1.0, u.arcmin)\n",
    "j = Gaia.cone_search_async(coord, radius)\n",
    "r = j.get_results()\n",
    "\n",
    "r.pprint()\n",
    "print(r.keys())"
   ]
  },
  {
   "cell_type": "markdown",
   "metadata": {},
   "source": [
    "### IRSA query of 2MASS"
   ]
  },
  {
   "cell_type": "markdown",
   "metadata": {},
   "source": [
    "IRSA is the [NASA/IPAC Infrared Science Archive](https://irsa.ipac.caltech.edu).  IRSA typically has a infrared mission focus, such as 2MASS, Herschel, Planck, Spitzer, WISE, etc..."
   ]
  },
  {
   "cell_type": "code",
   "execution_count": 32,
   "metadata": {},
   "outputs": [],
   "source": [
    "from astroquery.irsa import Irsa"
   ]
  },
  {
   "cell_type": "code",
   "execution_count": 33,
   "metadata": {},
   "outputs": [
    {
     "data": {
      "text/plain": [
       "{'a1763t2': 'Abell 1763 Source Catalog',\n",
       " 'a1763t3': 'Abell 1763 MIPS 70 micron Catalog',\n",
       " 'acmccat': 'ACMC Catalog',\n",
       " 'acs_iphot_sep07': 'COSMOS ACS I-band photometry catalog September 2007',\n",
       " 'akari_fis': 'AKARI/FIS Bright Source Catalogue',\n",
       " 'akari_irc': 'AKARI/IRC Point Source Catalogue',\n",
       " 'akariastflux': 'AKARI Asteroid Flux Catalog',\n",
       " 'allsky_2band_p1ba_mch': 'WISE Post-Cryo Single Exposure (L1b) Known SSO Possible Association List ( Caution )',\n",
       " 'allsky_2band_p1bl_lod': 'WISE Post-Cryo Single Exposure (L1b) Scan Inventory Table',\n",
       " 'allsky_2band_p1bm_frm': 'WISE Post-Cryo Single Exposure (L1b) Image Inventory Table',\n",
       " 'allsky_2band_p1bs_frm': 'WISE Post-Cryo Single Exposure (L1b) Frame Metadata Table',\n",
       " 'allsky_2band_p1bs_psd': 'WISE Post-Cryo Single Exposure (L1b) Source Table',\n",
       " 'allsky_3band_p1ba_mch': 'WISE 3-Band Cryo Known Solar System Object Possible Association List ( Caution )',\n",
       " 'allsky_3band_p1bl_lod': 'WISE 3-Band Cryo Single Exposure (L1b) Scan Inventory Table',\n",
       " 'allsky_3band_p1bm_frm': 'WISE 3-Band Cryo Single Exposure (L1b) Image Inventory Table',\n",
       " 'allsky_3band_p1bs_frm': 'WISE 3-Band Cryo Single Exposure (L1b) Frame Metadata Table',\n",
       " 'allsky_3band_p1bs_psd': 'WISE 3-Band Cryo Single Exposure (L1b) Source Table',\n",
       " 'allsky_3band_p3al_lod': 'WISE 3-Band Cryo Atlas Inventory Table',\n",
       " 'allsky_3band_p3am_cdd': 'WISE 3-Band Cryo Atlas Image Inventory Table',\n",
       " 'allsky_3band_p3am_xrf': 'WISE 3-Band Cryo Frame Cross-Reference Table',\n",
       " 'allsky_3band_p3as_cdd': 'WISE 3-Band Cryo Atlas Metadata Table',\n",
       " 'allsky_3band_p3as_psd': 'WISE 3-Band Cryo Source Working Database ( Readme)',\n",
       " 'allsky_4band_p1ba_mch': 'WISE All-Sky Known Solar System Object Possible Association List ( Caution )',\n",
       " 'allsky_4band_p1bl_lod': 'WISE All-Sky Single Exposure (L1b) Scan Inventory Table',\n",
       " 'allsky_4band_p1bm_frm': 'WISE All-Sky Single Exposure (L1b) Image Inventory Table',\n",
       " 'allsky_4band_p1bs_frm': 'WISE All-Sky Single Exposure (L1b) Frame Metadata Table',\n",
       " 'allsky_4band_p1bs_psd': 'WISE All-Sky Single Exposure (L1b) Source Table',\n",
       " 'allsky_4band_p3al_lod': 'WISE All-Sky Atlas Inventory Table',\n",
       " 'allsky_4band_p3am_cdd': 'WISE All-Sky Atlas Image Inventory Table',\n",
       " 'allsky_4band_p3am_xrf': 'WISE All-Sky Frame Cross-Reference Table',\n",
       " 'allsky_4band_p3as_cdd': 'WISE All-Sky Atlas Metadata Table',\n",
       " 'allsky_4band_p3as_psd': 'WISE All-Sky Source Catalog',\n",
       " 'allsky_4band_p3as_psr': 'WISE All-Sky Reject Table',\n",
       " 'allwise_mfpos': 'AllWISE Refined Pointing Information for the Single-exposure Images',\n",
       " 'allwise_p3al_lod': 'AllWISE Atlas Inventory Table',\n",
       " 'allwise_p3am_cdd': 'AllWISE Atlas Image Inventory Table',\n",
       " 'allwise_p3am_xrf': 'AllWISE Frame Cross-Reference Table',\n",
       " 'allwise_p3as_cdd': 'AllWISE Atlas Metadata Table',\n",
       " 'allwise_p3as_mep': 'AllWISE Multiepoch Photometry Table',\n",
       " 'allwise_p3as_psd': 'AllWISE Source Catalog',\n",
       " 'allwise_p3as_psr': 'AllWISE Reject Table',\n",
       " 'apoglimpsea': 'APOGLIMPSE Archive (more complete, less reliable)',\n",
       " 'apoglimpsec': 'APOGLIMPSE Catalog (highly reliable)',\n",
       " 'astsight': 'IRAS Minor Planet Survey',\n",
       " 'bolocam_gps_v1_0_1': 'BOLOCAM Galactic Plane Survey Catalog',\n",
       " 'bolocamdist': 'BOLOCAM Galactic Plane Survey Distance Catalog',\n",
       " 'bolocamv21': 'BOLOCAM Galactic Plane Survey Catalog v2.1',\n",
       " 'brava': 'BRAVA Catalog',\n",
       " 'cf_info': '2MASS Calibration Merged Point Source Information Table',\n",
       " 'cf_link': '2MASS Calibration Merged Point Source Link Table',\n",
       " 'chandra_160_cat_f05': \"SWIRE CDFS Region 160um Fall '05 SWIRE Spitzer Catalog\",\n",
       " 'chandra_24_cat_f05': \"SWIRE CDFS Region 24um Fall '05 Spitzer Catalog\",\n",
       " 'chandra_70_cat_f05': \"SWIRE CDFS Region 70um Fall '05 Spitzer Catalog\",\n",
       " 'chandra_cat_f05': \"SWIRE CDFS Region Fall '05  Spitzer Catalog\",\n",
       " 'clash36_v2': 'CLASH 3.6 micron Catalog',\n",
       " 'clash45_v2': 'CLASH 4.5 micron Catalog',\n",
       " 'clash58_v2': 'CLASH 5.8 micron Catalog',\n",
       " 'clash80_v2': 'CLASH 8.0 micron Catalog',\n",
       " 'coadd_dat': '2MASS Survey Atlas Image Info',\n",
       " 'coadd_dat_6x2': '2MASS 6X w/LMC/SMC Atlas Image Info',\n",
       " 'coadd_dat_c': '2MASS Calibration Atlas Image Info',\n",
       " 'coadd_dat_sc': '2MASS LMC/SMC Calibration Atlas Image Info',\n",
       " 'com_pccs1_030': 'Planck PCCS 30GHz Catalog',\n",
       " 'com_pccs1_044': 'Planck PCCS 44GHz Catalog',\n",
       " 'com_pccs1_070': 'Planck PCCS 70GHz Catalog',\n",
       " 'com_pccs1_100': 'Planck PCCS 100GHz Catalog',\n",
       " 'com_pccs1_143': 'Planck PCCS 143GHz Catalog',\n",
       " 'com_pccs1_217': 'Planck PCCS 217GHz Catalog',\n",
       " 'com_pccs1_353': 'Planck PCCS 353GHz Catalog',\n",
       " 'com_pccs1_545': 'Planck PCCS 545GHz Catalog',\n",
       " 'com_pccs1_857': 'Planck PCCS 857GHz Catalog',\n",
       " 'com_pccs1_sz_mmf1': 'Planck Sunyaev-Zeldovich Cluster MMF1 List',\n",
       " 'com_pccs1_sz_mmf3': 'Planck Sunyaev-Zeldovich Cluster MMF3 List',\n",
       " 'com_pccs1_sz_pws': 'Planck Sunyaev-Zeldovich Cluster PwS List',\n",
       " 'com_pccs1_sz_union2': 'Planck Sunyaev-Zeldovich Cluster UNION List v2.1',\n",
       " 'com_pccs2_030': 'Planck PCCS2 30GHz Catalog',\n",
       " 'com_pccs2_044': 'Planck PCCS2 44GHz Catalog',\n",
       " 'com_pccs2_070': 'Planck PCCS2 70GHz Catalog',\n",
       " 'com_pccs2_100': 'Planck PCCS2 100GHz Catalog',\n",
       " 'com_pccs2_143': 'Planck PCCS2 143GHz Catalog',\n",
       " 'com_pccs2_217': 'Planck PCCS2 217GHz Catalog',\n",
       " 'com_pccs2_353': 'Planck PCCS2 353GHz Catalog',\n",
       " 'com_pccs2_545': 'Planck PCCS2 545GHz Catalog',\n",
       " 'com_pccs2_857': 'Planck PCCS2 857GHz Catalog',\n",
       " 'com_pccs2_gcc': 'Planck Catalog of Galactic Cold Clumps',\n",
       " 'com_pccs2_sz_mmf1': 'Planck PR2 Sunyaev-Zeldovich Cluster MMF1 List',\n",
       " 'com_pccs2_sz_mmf3': 'Planck PR2 Sunyaev-Zeldovich Cluster MMF3 List',\n",
       " 'com_pccs2_sz_pws': 'Planck PR2 Sunyaev-Zeldovich Cluster PwS List',\n",
       " 'com_pccs2_sz_union': 'Planck PR2 Sunyaev-Zeldovich Cluster UNION List',\n",
       " 'com_pccs2e_100': 'Planck PCCS2E 100GHz Catalog (lower reliability)',\n",
       " 'com_pccs2e_143': 'Planck PCCS2E 143GHz Catalog (lower reliability)',\n",
       " 'com_pccs2e_217': 'Planck PCCS2E 217GHz Catalog (lower reliability)',\n",
       " 'com_pccs2e_353': 'Planck PCCS2E 353GHz Catalog (lower reliability)',\n",
       " 'com_pccs2e_545': 'Planck PCCS2E 545GHz Catalog (lower reliability)',\n",
       " 'com_pccs2e_857': 'Planck PCCS2E 857GHz Catalog (lower reliability)',\n",
       " 'com_pccs_pcnt': 'Planck Multi-frequency Catalogue of Non-thermal Sources',\n",
       " 'comsight': 'IRAS Asteroid and Comet Survey',\n",
       " 'cosmos327': 'COSMOS VLA 327 MHz Catalog',\n",
       " 'cosmos_3ghzagn': 'COSMOS VLA 3GHz AGN Catalog',\n",
       " 'cosmos_3ghzcp': 'COSMOS VLA 3GHz Multiwavelength Counterpart Catalog',\n",
       " 'cosmos_chandra_2016': 'Chandra-COSMOS Legacy Survey Point Source Catalog',\n",
       " 'cosmos_chandra_bsc21': 'Chandra-COSMOS Bright Source Catalog v2.1',\n",
       " 'cosmos_chandraxid': 'Chandra-COSMOS Legacy Survey Multiwavelength Catalog',\n",
       " 'cosmos_deimos': 'COSMOS DEIMOS Catalog',\n",
       " 'cosmos_ib_phot': 'COSMOS Intermediate and Broad Band Photometry Catalog 2008',\n",
       " 'cosmos_morph_cassata_1_1': 'COSMOS Cassata Morphology Catalog v1.1',\n",
       " 'cosmos_morph_col_1': 'COSMOS Zamojski Morphology Catalog v1.0',\n",
       " 'cosmos_morph_tasca_1_1': 'COSMOS Tasca Morphology Catalog v1.1',\n",
       " 'cosmos_morph_zurich_1': 'COSMOS Zurich Structure and Morphology Catalog v1.0',\n",
       " 'cosmos_phot': 'COSMOS Photometry Catalog January 2006',\n",
       " 'cosmos_sc4k': 'Slicing COSMOS with 4K Lyman-alpha emitters (SC4K) Catalog',\n",
       " 'cosmos_vla3ghz': 'COSMOS VLA 3GHz Catalog',\n",
       " 'cosmos_vla_deep_may2010': 'COSMOS VLA Deep Catalog May 2010',\n",
       " 'cosmos_xgal': 'COSMOS X-ray Group Member Catalog',\n",
       " 'cosmos_xgroups': 'COSMOS X-ray Group Catalog',\n",
       " 'cosmos_xmm_2': 'COSMOS XMM Point-like Source Catalog v2.0',\n",
       " 'cosmos_zphot_mag25': 'COSMOS Photometric Redshift Catalog Fall 2008 (README - mag 25 limited)',\n",
       " 'cosmosenvall': 'COSMOS Total Environment Catalog',\n",
       " 'cosmosenvmc': 'COSMOS Mass Complete Environment Catalog',\n",
       " 'cosmosgmrt325': 'COSMOS GMRT 325 MHz Catalog',\n",
       " 'cosmosgmrt610': 'COSMOS GMRT 610 MHz Catalog',\n",
       " 'cosmoswlsc': 'COSMOS Weak Lensing Source Catalog',\n",
       " 'csi2264t1': 'CSI 2264 Object Table',\n",
       " 'csi2264t2': 'CSI 2264 CoRoT Light Curves',\n",
       " 'csi2264t3': 'CSI 2264 Spitzer Light Curves',\n",
       " 'cwcat': 'CatWISE Preliminary Catalog',\n",
       " 'cwcat2': 'CatWISE2020 Catalog',\n",
       " 'cygx_arch': 'Cygnus-X Archive',\n",
       " 'cygx_cat': 'Cygnus-X Catalog',\n",
       " 'deepcal_src': '2MASS Combined Calibration Field Source Table',\n",
       " 'deepglimpsea': 'Deep GLIMPSE Archive (more complete, less reliable)',\n",
       " 'deepglimpsec': 'Deep GLIMPSE Catalog (highly reliable)',\n",
       " 'denis3': 'DENIS 3rd Release (Sep. 2005)',\n",
       " 'dr4_MM': \"C2D Fall '07 Millimeter (MM) Sources Catalog (OPH, PER, SER Clouds)\",\n",
       " 'dr4_clouds_full': \"C2D Fall '07 Full CLOUDS Catalog (CHA_II, LUP, OPH, PER, SER)\",\n",
       " 'dr4_clouds_hrel': \"C2D Fall '07 High Reliability (HREL) CLOUDS Catalog (CHA_II, LUP, OPH, PER, SER)\",\n",
       " 'dr4_clouds_ysoc': \"C2D Fall '07 candidate Young Stellar Objects (YSO) CLOUDS Catalog (CHA_II, LUP, OPH, PER, SER)\",\n",
       " 'dr4_cores_full': \"C2D Fall '07 Full CORES Catalog\",\n",
       " 'dr4_cores_hrel': \"C2D Fall '07 High Reliability (HREL) CORES Catalog\",\n",
       " 'dr4_cores_ysoc': \"C2D Fall '07 candidate Young Stellar Objects (YSO) CORES Catalog\",\n",
       " 'dr4_off_cloud_full': \"C2D Fall '07 Full OFF-CLOUD Catalog (CHA_II, LUP, OPH, PER, SER)\",\n",
       " 'dr4_off_cloud_hrel': \"C2D Fall '07 High Reliability (HREL) OFF-CLOUD Catalog (CHA_II, LUP, OPH, PER, SER)\",\n",
       " 'dr4_off_cloud_ysoc': \"C2D Fall '07 candidate Young Stellar Objects (YSO) OFF-CLOUD Catalog (CHA_II, LUP, OPH, PER, SER)\",\n",
       " 'dr4_stars_full': \"C2D Fall '07 Full STARS Catalog\",\n",
       " 'dr4_stars_hrel': \"C2D Fall '07 High Reliability (HREL) STARS Catalog\",\n",
       " 'dr4_stars_ysoc': \"C2D Fall '07 candidate Young Stellar Objects (YSO) STARS Catalog\",\n",
       " 'dr4_trans1_full': \"C2D Fall '07 Perseus Epoch 1 Transient Sources FULL Catalog\",\n",
       " 'dr4_trans2_full': \"C2D Fall '07 Perseus Epoch 2 Transient Sources FULL Catalog\",\n",
       " 'dunes': 'DUNES Catalog',\n",
       " 'dustingsfull': 'DUSTiNGS Full Catalog',\n",
       " 'dustingsgsc': 'DUSTiNGS Good Source Catalog',\n",
       " 'ecc': 'Planck Early Cold Core Source List (ECC)',\n",
       " 'ecf_info': '2MASS Calibration Merged Extended Source Information Table',\n",
       " 'ecf_link': '2MASS Calibration Merged Extended Source Link Table',\n",
       " 'elaisn1_160_cat_s05': \"SWIRE ELAIS N1 Region 160um Spring '05 Spitzer Catalog\",\n",
       " 'elaisn1_24_cat_s05': \"SWIRE ELAIS N1 Region 24um Spring '05 Spitzer Catalog\",\n",
       " 'elaisn1_70_cat_s05': \"SWIRE ELAIS N1 Region 70um Spring '05 Spitzer Catalog\",\n",
       " 'elaisn1_cat_s05': \"SWIRE ELAIS N1 Region Spring '05 Spitzer Catalog\",\n",
       " 'elaisn2_160_cat_s05': \"SWIRE ELAIS N2 Region 160um Spring '05 Spitzer Catalog\",\n",
       " 'elaisn2_24_cat_s05': \"SWIRE ELAIS N2 Region 24um Spring '05 Spitzer Catalog\",\n",
       " 'elaisn2_70_cat_s05': \"SWIRE ELAIS N2 Region 70um Spring '05 Spitzer Catalog\",\n",
       " 'elaisn2_cat_s05': \"SWIRE ELAIS N2 Region Spring '05 Spitzer Catalog\",\n",
       " 'elaiss1_160_cat_f05': \"SWIRE ELAIS S1 Region 160um Fall '05 Spitzer Catalog\",\n",
       " 'elaiss1_24_cat_f05': \"SWIRE ELAIS S1 Region 24um Fall '05 Spitzer Catalog\",\n",
       " 'elaiss1_70_cat_f05': \"SWIRE ELAIS S1 Region 70um Fall '05 Spitzer Catalog\",\n",
       " 'elaiss1_cat_f05': \"SWIRE ELAIS S1 Region Fall '05 SWIRE Spitzer Catalog\",\n",
       " 'ercsc_f030_e': 'Planck ERCSC 30GHz Catalog',\n",
       " 'ercsc_f044_e': 'Planck ERCSC 44GHz Catalog',\n",
       " 'ercsc_f070_e': 'Planck ERCSC 70GHz Catalog',\n",
       " 'ercsc_f100_e': 'Planck ERCSC 100GHz Catalog',\n",
       " 'ercsc_f143_e': 'Planck ERCSC 143GHz Catalog',\n",
       " 'ercsc_f217_e': 'Planck ERCSC 217GHz Catalog',\n",
       " 'ercsc_f353_e': 'Planck ERCSC 353GHz Catalog',\n",
       " 'ercsc_f545_e': 'Planck ERCSC 545GHz Catalog',\n",
       " 'ercsc_f857_e': 'Planck ERCSC 857GHz Catalog',\n",
       " 'ercscbm': 'Planck ERCSC Bandmerged Catalog',\n",
       " 'escf_info': '2MASS LMC/SMC Calibration Merged Extended Source Information Table',\n",
       " 'escf_link': '2MASS LMC/SMC Calibration Merged Extended Source Link Table',\n",
       " 'esixxf_info': '2MASS 6X w/LMC/SMC Merged Extended Source Information Table',\n",
       " 'esixxf_link': '2MASS 6X w/LMC/SMC Merged Extended Source Link Table',\n",
       " 'esz': 'Planck Early Sunyaev-Zeldovich Cluster List (ESZ)',\n",
       " 'ewsdbf_info': '2MASS Survey Merged Extended Source Information Table',\n",
       " 'ewsdbf_link': '2MASS Survey Merged Extended Source Link Table',\n",
       " 'ext_src_6x2': '2MASS 6X w/LMC/SMC Extended Source Working Database / Catalog ( Read Me! )',\n",
       " 'ext_src_c': '2MASS Calibration Extended Source Working Database',\n",
       " 'ext_src_cat': '2MASS Second Incremental Release Extended Source Catalog (XSC)',\n",
       " 'ext_src_cat1': '2MASS First Incremental Release Extended Source Catalog (XSC)',\n",
       " 'ext_src_rej': '2MASS Survey Extended Source Reject Table',\n",
       " 'ext_src_sc': '2MASS LMC/SMC Calibration Extended Source Working Database',\n",
       " 'exts_samp_cat': '2MASS Sampler Extended Source Catalog (XSC)',\n",
       " 'feps_phot': 'FEPS Photometry Catalog',\n",
       " 'fls_release_v2_mmt_spectra': 'FLS MMT/Hectospec Spectroscopic Catalog (V2)',\n",
       " 'fls_release_v2_photom': 'FLS SDSS and MIPS Astrometric and Photometric Catalog (V2)',\n",
       " 'fls_release_v2_sdss_spectra': 'FLS SDSS Spectroscopic Catalog (V2)',\n",
       " 'fp_coadd_dat': '2MASS All-Sky Survey Atlas Image Info',\n",
       " 'fp_psc': '2MASS All-Sky Point Source Catalog (PSC)',\n",
       " 'fp_scan_dat': '2MASS All-Sky Survey Scan Info (Read Me!)',\n",
       " 'fp_xsc': '2MASS All-Sky Extended Source Catalog (XSC)',\n",
       " 'gaia_allwise_best_neighbour': 'Gaia AllWISE Best Neighbor Cross-Reference (DR1)',\n",
       " 'gaia_allwise_neighbourhood': 'Gaia AllWISE Neighborhood Cross-Reference (DR1)',\n",
       " 'gaia_cepheid': 'Gaia Cepheid Table (DR1)',\n",
       " 'gaia_dr2_allwise_agn_gdr2_xid': 'Gaia AllWISE-Gaia DR2 Cross-ID Table (DR2)',\n",
       " 'gaia_dr2_allwise_bnbr': 'Gaia AllWISE Best Neighbour Table (DR2)',\n",
       " 'gaia_dr2_allwise_nbh': 'Gaia AllWISE Neighbourhood Table (DR2)',\n",
       " 'gaia_dr2_apassdr9_bnbr': 'Gaia APASS DR9 Best Neighbour Table (DR2)',\n",
       " 'gaia_dr2_apassdr9_nbh': 'Gaia APASS DR9 Neighbourhood Table (DR2)',\n",
       " 'gaia_dr2_cepheid': 'Gaia Cepheid Table (DR2)',\n",
       " 'gaia_dr2_classifier_def': 'Gaia Classifier Table (DR2)',\n",
       " 'gaia_dr2_classifier_result': 'Gaia Classifier Result Table (DR2)',\n",
       " 'gaia_dr2_dr1_nbh': 'Gaia DR1 Neighbourhood Table (DR2)',\n",
       " 'gaia_dr2_epoch_photometry': 'Gaia Epoch Photometry (DR2)',\n",
       " 'gaia_dr2_gsc23_bnbr': 'GSC2.3 Best Neighbour Table (DR2)',\n",
       " 'gaia_dr2_gsc23_nbh': 'GSC2.3 Neighbourhood Table (DR2)',\n",
       " 'gaia_dr2_hipparcos2_bnbr': 'Gaia Hipparcos-2 Best Neighbour Table (DR2)',\n",
       " 'gaia_dr2_hipparcos2_nbh': 'Gaia Hipparcos-2 Neighbourhood Table (DR2)',\n",
       " 'gaia_dr2_iers_gdr2_xid': 'IERS-Gaia DR2 Cross-ID Table (DR2)',\n",
       " 'gaia_dr2_long_period_variable': 'Gaia Long Period Variable Table (DR2)',\n",
       " 'gaia_dr2_panstarrs1_bnbr': 'Gaia Pan-STARRS1 Best Neighbour Table (DR2)',\n",
       " 'gaia_dr2_panstarrs1_nbh': 'Gaia Pan-STARRS1 Neighbourhood Table (DR2)',\n",
       " 'gaia_dr2_ppmxl_bnbr': 'Gaia PPMXL Best Neighbour Table (DR2)',\n",
       " 'gaia_dr2_ppmxl_nbh': 'Gaia PPMXL Neighbourhood Table (DR2)',\n",
       " 'gaia_dr2_ravedr5_bnbr': 'Gaia RAVE DR5 Best Neighbour Table (DR2)',\n",
       " 'gaia_dr2_ravedr5_nbh': 'Gaia RAVE DR5 Neighbourhood Table (DR2)',\n",
       " 'gaia_dr2_rotation_modulation': 'Gaia Rotation Modulation Table (DR2)',\n",
       " 'gaia_dr2_rrlyrae': 'Gaia RR Lyrae Table (DR2)',\n",
       " 'gaia_dr2_sdssdr9_bnbr': 'Gaia SDSS DR9 Best Neighbour Table (DR2)',\n",
       " 'gaia_dr2_sdssdr9_nbh': 'Gaia SDSS DR9 Neighbourhood Table (DR2)',\n",
       " 'gaia_dr2_short_timescale': 'Gaia Short Time Scale Variable Table (DR2)',\n",
       " 'gaia_dr2_source': 'Gaia Source Catalogue (DR2)',\n",
       " 'gaia_dr2_sso_observation': 'Gaia Solar System Object Observation Table (DR2)',\n",
       " 'gaia_dr2_sso_orbit_residuals': 'Gaia SSO Orbit Residuals Table (DR2)',\n",
       " 'gaia_dr2_sso_orbits': 'Gaia SSO Orbits Table (DR2)',\n",
       " 'gaia_dr2_sso_source': 'Gaia Solar System Object Source Table (DR2)',\n",
       " 'gaia_dr2_time_series_stats': 'Gaia Time Series Statistics Table (DR2)',\n",
       " 'gaia_dr2_tmass_bnbr': 'Gaia 2MASS Best Neighbour Table (DR2)',\n",
       " 'gaia_dr2_tmass_nbh': 'Gaia 2MASS Neighbourhood Table (DR2)',\n",
       " 'gaia_dr2_tycho2_bnbr': 'Gaia Tycho-2 Best Neighbour Table (DR2)',\n",
       " 'gaia_dr2_tycho2_nbh': 'Gaia Tycho-2 Neighbourhood Table (DR2)',\n",
       " 'gaia_dr2_urat1_bnbr': 'Gaia URAT1 Best Neighbour Table (DR2)',\n",
       " 'gaia_dr2_urat1_nbh': 'Gaia URAT1 Neighbourhood Table (DR2)',\n",
       " 'gaia_pho_var_t_ser': 'Gaia G-band Time Series of Variable Sources (DR1)',\n",
       " 'gaia_pho_var_t_ser_stat_par': 'Gaia Statistical Parameters for G-band Time Series of Variable (DR1)',\n",
       " 'gaia_ppmxl_best_neighbour': 'Gaia PPMXL Best Neighbor Cross-Reference (DR1)',\n",
       " 'gaia_ppmxl_neighbourhood': 'Gaia PPMXL Neighborhood Cross-Reference (DR1)',\n",
       " 'gaia_qso_icrf2_01_01': 'Gaia QSO Table (DR1)',\n",
       " 'gaia_rrlyrae': 'Gaia RR Lyrae Table (DR1)',\n",
       " 'gaia_source_dr1': 'Gaia Catalogue (DR1)',\n",
       " 'gaia_tgas_source': 'Tycho-Gaia Astrometric Solution (TGAS) Source Table (DR1)',\n",
       " 'gaia_tmass_best_neighbour': 'Gaia 2MASS Best Neighbor Cross-Reference (DR1)',\n",
       " 'gaia_tmass_neighbourhood': 'Gaia 2MASS Neighborhood Cross-Reference (DR1)',\n",
       " 'gaia_ucac4_best_neighbour': 'Gaia UCAC4 Best Neighbor Cross-Reference (DR1)',\n",
       " 'gaia_ucac4_neighbourhood': 'Gaia UCAC4 Neighborhood Cross-Reference (DR1)',\n",
       " 'gaia_urat1_best_neighbour': 'Gaia URAT1 Best Neighbor Cross-Reference (DR1)',\n",
       " 'gaia_urat1_neighbourhood': 'Gaia URAT1 Neighborhood Cross-Reference (DR1)',\n",
       " 'gaia_variablesummary': 'Gaia Summary of Variables (DR1)',\n",
       " 'galcen_psc': 'Point Source in a Spitzer/IRAC Survey of the Galactic Center (Ramirez et al. 2008)',\n",
       " 'galex_emphot_v3': 'GALEX/COSMOS Prior-based Photometry Catalog June 2008',\n",
       " 'glimpse2_v2arc': \"GLIMPSE II Spring '08 Archive (more complete, less reliable)\",\n",
       " 'glimpse2_v2cat': \"GLIMPSE II Spring '08 Catalog (highly reliable)\",\n",
       " 'glimpse2ep1a08': \"GLIMPSE II Epoch 1 December '08 Archive (more complete, less reliable)\",\n",
       " 'glimpse2ep1c08': \"GLIMPSE II Epoch 1 December '08 Catalog (highly reliable)\",\n",
       " 'glimpse2ep2a09': \"GLIMPSE II Epoch 2 November '09 Archive (more complete, less reliable)\",\n",
       " 'glimpse2ep2mra09': \"GLIMPSE II Epoch 2 November '09 More Reliable Archive (more reliable)\",\n",
       " 'glimpse2sub': 'GLIMPSEII Subarray Source List',\n",
       " 'glimpse360a': 'GLIMPSE360 Archive (more complete, less reliable)',\n",
       " 'glimpse360c': 'GLIMPSE360 Catalog (highly reliable)',\n",
       " 'glimpse3d_v1cat_tbl': 'GLIMPSE 3D, 2007-2009 Catalog (highly reliable)',\n",
       " 'glimpse3d_v2arc': 'GLIMPSE 3D, 2007-2009 Archive (more complete, less reliable),(Erratum)',\n",
       " 'glimpse3dep1a': 'GLIMPSE 3D Epoch 1 Archive (more complete, less reliable)',\n",
       " 'glimpse3dep1c': 'GLIMPSE 3D Epoch 1 Catalog (highly reliable)',\n",
       " 'glimpse3dep2a': 'GLIMPSE 3D Epoch 2 Archive (more complete, less reliable)',\n",
       " 'glimpse3dep2mra': 'GLIMPSE 3D Epoch 2 More Reliable Archive (more complete, less reliable)',\n",
       " 'glimpse_s07': \"GLIMPSE I Spring '07 Catalog (highly reliable)\",\n",
       " 'glimpse_s07_ar': \"GLIMPSE I Spring '07 Archive (more complete, less reliable)\",\n",
       " 'glimpsecygxa': 'GLIMPSE Cygnus-X Archive (more complete, less reliable)',\n",
       " 'glimpsecygxc': 'GLIMPSE Cygnus-X Catalog (highly reliable)',\n",
       " 'glimpsepropa': 'GLIMPSE Proper Archive (more complete, less reliable)',\n",
       " 'glimpsepropc': 'GLIMPSE Proper Catalog (highly reliable)',\n",
       " 'glimpsesmoga': 'SMOG Archive (more complete, less reliable)',\n",
       " 'glimpsesmogc': 'SMOG Catalog (highly reliable)',\n",
       " 'goods_mips24': 'GOODS-S MIPS 24 micron Photometry Catalog',\n",
       " 'goodsn_mips24': 'GOODS-N MIPS 24 micron Photometry Catalog',\n",
       " 'goodsnirs16': 'GOODS-N IRS 16 micron Photometry Catalog',\n",
       " 'goodssirs16': 'GOODS-S IRS 16 micron Photometry Catalog',\n",
       " 'hatlas': 'H-ATLAS Catalog',\n",
       " 'hatlasall': 'H-ATLAS All Potential Counterparts Catalog',\n",
       " 'heritagel100': 'HERITAGE LMC PACS 100 micron Catalog',\n",
       " 'heritagel160': 'HERITAGE LMC PACS 160 micron Catalog',\n",
       " 'heritagel250': 'HERITAGE LMC SPIRE 250 micron Catalog',\n",
       " 'heritagel350': 'HERITAGE LMC SPIRE 350 micron Catalog',\n",
       " 'heritagel500': 'HERITAGE LMC SPIRE 500 micron Catalog',\n",
       " 'heritagelclass': 'HERITAGE LMC Band-Matched Classification Table',\n",
       " 'heritagelphot': 'HERITAGE LMC Band-Matched Catalog',\n",
       " 'heritages100': 'HERITAGE SMC PACS 100 micron Catalog',\n",
       " 'heritages160': 'HERITAGE SMC PACS 160 micron Catalog',\n",
       " 'heritages250': 'HERITAGE SMC SPIRE 250 micron Catalog',\n",
       " 'heritages350': 'HERITAGE SMC SPIRE 350 micron Catalog',\n",
       " 'heritages500': 'HERITAGE SMC SPIRE 500 micron Catalog',\n",
       " 'heritagesclass': 'HERITAGE SMC Band-Matched Classification Table',\n",
       " 'heritagesphot': 'HERITAGE SMC Band-Matched Catalog',\n",
       " 'hermescosmosxidp': 'HerMES DR4 COSMOS-XID+ Catalog (24 micron positions)',\n",
       " 'hermesdr4xid250': 'HerMES DR4 Band-merged Catalog (250 micron positions)',\n",
       " 'hermespacsxid24': 'HerMES DR4 PACS Catalog (24 micron positions)',\n",
       " 'hermesscat250': 'HerMES 250 micron StarFinder Catalog',\n",
       " 'hermesscat250sxt': 'HerMES 250 micron SUSSEXtractor Catalog',\n",
       " 'hermesscat350': 'HerMES 350 micron StarFinder Catalog',\n",
       " 'hermesscat350sxt': 'HerMES 350 micron SUSSEXtractor Catalog',\n",
       " 'hermesscat500': 'HerMES 500 micron StarFinder Catalog',\n",
       " 'hermesscat500sxt': 'HerMES 500 micron SUSSEXtractor Catalog',\n",
       " 'hermesxid24': 'HerMES Band-merged Catalog (24 micron positions)',\n",
       " 'hgoodsn': 'GOODS North Catalog',\n",
       " 'hgoodss': 'GOODS South Catalog',\n",
       " 'higal160': 'Hi-GAL 160 micron Photometric Catalog',\n",
       " 'higal250': 'Hi-GAL 250 micron Photometric Catalog',\n",
       " 'higal350': 'Hi-GAL 350 micron Photometric Catalog',\n",
       " 'higal500': 'Hi-GAL 500 micron Photometric Catalog',\n",
       " 'higal70': 'Hi-GAL 70 micron Photometric Catalog',\n",
       " 'hopsdata': 'Herschel Orion Protostars Survey SED Data Catalog',\n",
       " 'hopsfits': 'Herschel Orion Protostars Survey SED Fits Catalog',\n",
       " 'hpdpsso': 'HPDP SSO Table',\n",
       " 'iras_ao': 'IRAS Additional Observations (AO) Catalog',\n",
       " 'irascatalog': 'IRAS 1.2-Jy Redshift Survey',\n",
       " 'irasfsc': 'IRAS Faint Source Catalog v2.0 (FSC)',\n",
       " 'irasfscr': 'IRAS Faint Source Catalog Rejects',\n",
       " 'irasgal': 'IRAS Cataloged Galaxies and Quasars',\n",
       " 'iraspsc': 'IRAS Point Source Catalog v2.1 (PSC)',\n",
       " 'iraspsch': 'IRAS PSC joined with HCON and WSDB',\n",
       " 'iraspscr': 'IRAS Point Source Catalog Rejects',\n",
       " 'iraspscw': 'IRAS PSC joined with WSDB',\n",
       " 'irasssc': 'IRAS Serendipitous Survey Catalog',\n",
       " 'irassss': 'IRAS Small Scale Structure Catalog',\n",
       " 'irs_enhv211': 'IRS Enhanced Products',\n",
       " 'lga_v2': 'The 2MASS Large Galaxy Atlas',\n",
       " 'lockman_160_cat_s05': \"SWIRE Lockman Region 160um Spring '05 Spitzer Catalog\",\n",
       " 'lockman_24_cat_s05': \"SWIRE Lockman Region 24um Spring '05 Spitzer Catalog\",\n",
       " 'lockman_70_cat_s05': \"SWIRE Lockman Region 70um Spring '05 Spitzer Catalog\",\n",
       " 'lockman_cat_s05': \"SWIRE Lockman Region Spring '05 SWIRE Spitzer Catalog\",\n",
       " 'm31irac': 'M31 IRAC Catalog',\n",
       " 'mipsgala': 'MIPSGAL Archive',\n",
       " 'mipsgalc': 'MIPSGAL Catalog',\n",
       " 'mipslg': 'MIPS Local Galaxies Catalog',\n",
       " 'morphology_2005': 'COSMOS Morphology Catalog 2005',\n",
       " 'msxc6': 'The Midcourse Space Experiment (MSXC6)',\n",
       " 'msxc6_rej': 'The Midcourse Space Experiment (MSXC6) Rejects',\n",
       " 'musyc_phot': 'MUSYC Photometry Catalog',\n",
       " 'musyc_photz': 'MUSYC Photometric Redshift Catalog',\n",
       " 'neowiser_p1ba_mch': 'NEOWISE-R Known Solar System Object Possible Association List ( Caution )',\n",
       " 'neowiser_p1bl_lod': 'NEOWISE-R Single Exposure (L1b) Scan Inventory Table',\n",
       " 'neowiser_p1bm_frm': 'NEOWISE-R Single Exposure (L1b) Image Inventory Table',\n",
       " 'neowiser_p1bs_frm': 'NEOWISE-R Single Exposure (L1b) Frame Metadata Table',\n",
       " 'neowiser_p1bs_psd': 'NEOWISE-R Single Exposure (L1b) Source Table',\n",
       " 'neowisesbpropv2': 'NEOWISE Derived Diameters and Albedos of Solar System Small Bodies Catalog v2',\n",
       " 'pep100': 'PEP PACS 100 micron Catalog',\n",
       " 'pep160': 'PEP PACS 160 micron Catalog',\n",
       " 'pep250': 'PEP SPIRE 250 micron Catalog',\n",
       " 'pep350': 'PEP SPIRE 350 micron Catalog',\n",
       " 'pep500': 'PEP SPIRE 500 micron Catalog',\n",
       " 'pepgoodss70': 'PEP PACS 70 micron GOODS-S Catalog',\n",
       " 'peplh24': 'PEP Lockman Hole MIPS 24 micron Comparison Catalog',\n",
       " 'pepprior': 'PEP PACS Extractions Using MIPS 24 micron Priors',\n",
       " 'pepxid': 'PEP PACS and MIPS Cross-IDs Catalog',\n",
       " 'planckphz': 'Planck List of High Redshift Source Candidates',\n",
       " 'ppmxl': 'PPMXL: A Proper Motion Catalog Combining USNO-B and 2MASS',\n",
       " 'ppsc_100': 'PACS Point Source Catalog: 100 microns',\n",
       " 'ppsc_160': 'PACS Point Source Catalog: 160 microns',\n",
       " 'ppsc_70': 'PACS Point Source Catalog: 70 microns',\n",
       " 'ppsc_extsl': 'PACS Point Source Catalog: Extended Source List',\n",
       " 'ppsc_obstbl': 'PACS Point Source Catalog: Observation Table',\n",
       " 'ppsc_rejsl': 'PACS Point Source Catalog: Rejected Source List',\n",
       " 'prelim_2band_p1ba_mch': 'WISE Preliminary Post-Cryo Solar System Object Possible Association List ( Caution , Superseded)',\n",
       " 'prelim_2band_p1bl_lod': 'WISE Preliminary Post-Cryo Single Exposure (L1b) Scan Inventory Table (Superseded)',\n",
       " 'prelim_2band_p1bm_frm': 'WISE Preliminary Post-Cryo Single Exposure (L1b) Image Inventory Table (Superseded)',\n",
       " 'prelim_2band_p1bs_frm': 'WISE Preliminary Post-Cryo Single Exposure (L1b) Frame Metadata Table (Superseded)',\n",
       " 'prelim_2band_p1bs_psd': 'WISE Preliminary Post-Cryo Single Exposure (L1b)  Source Table (Superseded)',\n",
       " 'prelim_p1ba_mch': 'WISE Preliminary Release Known Solar System Object Possible Association List ( Caution , Superseded)',\n",
       " 'prelim_p1bl_lod': 'WISE Preliminary Release Single Exposure (L1b) Scan Inventory Table (Superseded)',\n",
       " 'prelim_p1bm_frm': 'WISE Preliminary Release Single Exposure (L1b) Image Inventory Table (Superseded)',\n",
       " 'prelim_p1bs_frm': 'WISE Preliminary Release Single Exposure (L1b) Frame Metadata Table (Superseded)',\n",
       " 'prelim_p1bs_psd': 'WISE Preliminary Release Single Exposure (L1b) Source Table (Superseded)',\n",
       " 'prelim_p3al_lod': 'WISE Preliminary Release Atlas Inventory Table (Superseded)',\n",
       " 'prelim_p3am_cdd': 'WISE Preliminary Release Atlas Image Inventory Table (Superseded)',\n",
       " 'prelim_p3am_xrf': 'WISE Preliminary Release Frame Cross-Reference Table (Superseded)',\n",
       " 'prelim_p3as_cdd': 'WISE Preliminary Release Atlas Metadata Table (Superseded)',\n",
       " 'prelim_p3as_psd': 'WISE Preliminary Release Source Catalog (Superseded)',\n",
       " 'pscan_dat': '2MASS Survey Scan Info',\n",
       " 'pscan_dat_6x2': '2MASS 6X w/LMC/SMC Scan Info',\n",
       " 'pscan_dat_c': '2MASS Calibration Scan Info',\n",
       " 'pscan_dat_sc': '2MASS LMC/SMC Calibration Scan Info',\n",
       " 'pt_src_6x2': '2MASS 6X w/LMC/SMC Point Source Working Database / Catalog ( Read Me! )',\n",
       " 'pt_src_c': '2MASS Calibration Point Source Working Database',\n",
       " 'pt_src_cat': '2MASS Second Incremental Release Point Source Catalog (PSC)',\n",
       " 'pt_src_cat1': '2MASS First Incremental Release Point Source Catalog (PSC)',\n",
       " 'pt_src_rej': '2MASS Survey Point Source Reject Table',\n",
       " 'pt_src_sc': '2MASS LMC/SMC Calibration Point Source Working Database',\n",
       " 'ptf_lightcurves': 'PTF Lightcurve Table',\n",
       " 'ptf_objects': 'PTF Objects',\n",
       " 'ptf_sources': 'PTF Sources Catalog',\n",
       " 'ptfphotcalcat': 'PTF Photometric Calibrator Catalog',\n",
       " 'pts_samp_cat': '2MASS Sampler Point Source Catalog (PSC)',\n",
       " 'reject': 'CatWISE Preliminary Reject Table',\n",
       " 'reject2': 'CatWISE2020 Reject Table',\n",
       " 's4gcat': 'Spitzer Survey of Stellar Structure in Galaxies (S4G)',\n",
       " 'safires160': 'Spitzer Archival Far-Infrared Extragalactic Survey (SAFIRES) MIPS 160 micron Catalog',\n",
       " 'safires70': 'Spitzer Archival Far-Infrared Extragalactic Survey (SAFIRES) MIPS 70 micron Catalog',\n",
       " 'sage_ar_irac': 'SAGE IRAC Single Frame + Mosaic Photometry Archive (more complete, less reliable)',\n",
       " 'sage_ar_irac_e1e2': 'SAGE IRAC Epoch 1 and Epoch 2 Archive (more complete, less reliable)',\n",
       " 'sage_ar_irac_match': 'SAGE IRAC Matched Epoch Catalog (more complete, less reliable)',\n",
       " 'sage_ar_irac_off': 'SAGE IRAC Offset Position Epoch 1 and Epoch 2 Archive (more complete, less reliable)',\n",
       " 'sage_cat_irac': 'SAGE IRAC Single Frame + Mosaic Photometry Catalog (more reliable)',\n",
       " 'sage_cat_irac_e1e2': 'SAGE IRAC Epoch 1 and Epoch 2 Catalog (more reliable)',\n",
       " 'sage_cat_irac_match': 'SAGE IRAC Matched Epoch Archive (more reliable)',\n",
       " 'sage_cat_irac_off': 'SAGE IRAC Offset Position Epoch 1 and Epoch 2 Catalog (more reliable)',\n",
       " 'sage_cat_m160': 'SAGE MIPS 160 um Combined Epoch Catalog (more reliable)',\n",
       " 'sage_cat_m24': 'SAGE MIPS 24 um Epoch 1 and Epoch 2 Catalog (more reliable)',\n",
       " 'sage_cat_m24_match': 'SAGE MIPS 24 um Matched Epoch Catalog (more reliable)',\n",
       " 'sage_cat_m70': 'SAGE MIPS 70 um Combined Epoch Catalog (more reliable)',\n",
       " 'sage_full_m160': 'SAGE MIPS 160 um Combined Epoch Catalog (more complete, less reliable)',\n",
       " 'sage_full_m24': 'SAGE MIPS 24 um Epoch 1 and Epoch 2 Full List (more complete, less reliable)',\n",
       " 'sage_full_m24_match': 'SAGE MIPS 24 um Matched Epoch Full List (more complete, less reliable)',\n",
       " 'sage_full_m70': 'SAGE MIPS 70 um Combined Epoch Full List (more complete, less reliable)',\n",
       " 'sagearciracv2': \"SAGE Winter '08 IRAC Epoch 1 and Epoch 2 Archive (more complete, less reliable)\",\n",
       " 'sagecatiracv2': \"SAGE Winter '08 IRAC Epoch 1 and Epoch 2 Catalog (more reliable)\",\n",
       " 'sagecatmips24v2': \"SAGE Winter '08 MIPS 24 um Epoch 1 and Epoch 2 Catalog (more reliable)\",\n",
       " 'sagefull': 'SAGE-Var LMC Full Catalog',\n",
       " 'sagesmc_iraca': 'SAGE-SMC IRAC Epoch 0, Epoch 1, and Epoch 2 Archive (less reliable)',\n",
       " 'sagesmc_iracadr3': 'SAGE-SMC IRAC Single Frame + Mosaic Photometry Archive v1.5',\n",
       " 'sagesmc_iracc': 'SAGE-SMC IRAC Epoch 0, Epoch 1, and Epoch 2 Catalog (more reliable)',\n",
       " 'sagesmc_iraccdr3': 'SAGE-SMC IRAC Single Frame + Mosaic Photometry Catalog v1.5',\n",
       " 'sagesmc_iracep1a': 'SAGE-SMC IRAC Epoch 1 Archive (less reliable)',\n",
       " 'sagesmc_iracep1c': 'SAGE-SMC IRAC Epoch 1 Catalog (more reliable)',\n",
       " 'sagesmc_mips160c': 'SAGE-SMC MIPS 160um Combined Epoch Catalog (more reliable)',\n",
       " 'sagesmc_mips160f': 'SAGE-SMC MIPS 160um Combined Epoch Full List (more complete, less reliable)',\n",
       " 'sagesmc_mips24c': 'SAGE-SMC MIPS 24 um Epoch 0, Epoch 1, and Epoch 2 Catalog (more reliable)',\n",
       " 'sagesmc_mips24ep1c': 'SAGE-SMC MIPS 24um Epoch 1 Catalog (more reliable)',\n",
       " 'sagesmc_mips24ep1f': 'SAGE-SMC MIPS 24um Epoch 1 Full List (less reliable)',\n",
       " 'sagesmc_mips24f': 'SAGE-SMC MIPS 24 um Epoch 0, Epoch 1, and Epoch 2 Full List (more complete, less reliable)',\n",
       " 'sagesmc_mips70c': 'SAGE-SMC MIPS 70um Combined Epoch Catalog (more reliable)',\n",
       " 'sagesmc_mips70f': 'SAGE-SMC MIPS 70um Combined Epoch Full List (more complete, less reliable)',\n",
       " 'sagesmcfull': 'SAGE-Var SMC Full Catalog',\n",
       " 'sagesmcvar': 'SAGE-Var SMC Variable Catalog',\n",
       " 'sagevar': 'SAGE-Var LMC Variable Catalog',\n",
       " 'sass_v3': 'SASS October 2011 Catalog',\n",
       " 'scan_dat': '2MASS First Incremental Release Survey Scan Info',\n",
       " 'scan_dat_2': '2MASS Second Incremental Release Survey Scan Info',\n",
       " 'scf_info': '2MASS LMC/SMC Calibration Merged Point Source Information Table',\n",
       " 'scf_link': '2MASS LMC/SMC Calibration Merged Point Source Link Table',\n",
       " 'scosmos_irac_0407': 'S-COSMOS IRAC 4-channel Photometry Catalog June 2007 (README)',\n",
       " 'scosmos_mips_160_v3': 'S-COSMOS MIPS 160um Photometry Catalog v3 Jan 2009',\n",
       " 'scosmos_mips_24_go2': 'S-COSMOS MIPS 24um MAIN Photometry Catalog June 2007 (Aug 2008: Important Flux-correction Note)',\n",
       " 'scosmos_mips_24_go2_deep': 'S-COSMOS MIPS 24um DEEP Photometry Catalog June 2007 (Aug 2008: Important Flux-correction Note)',\n",
       " 'scosmos_mips_24_go3': 'S-COSMOS MIPS 24 Photometry Catalog October 2008',\n",
       " 'scosmos_mips_70_v3': 'S-COSMOS MIPS 70um Photometry Catalog v3 Jan 2009',\n",
       " 'sdwfs_ch1_epoch1': \"SDWFS Aug '09 DR1.1 IRAC 3.6um-Selected 3x30sec Coadd, epoch 1 (Jan '04)\",\n",
       " 'sdwfs_ch1_epoch2': \"SDWFS Aug '09 DR1.1 IRAC 3.6um-Selected 3x30sec Coadd, epoch 2 (Aug '07)\",\n",
       " 'sdwfs_ch1_epoch3': \"SDWFS Aug '09 DR1.1 IRAC 3.6um-Selected 3x30sec Coadd, epoch 3 (Feb '08)\",\n",
       " 'sdwfs_ch1_epoch4': \"SDWFS Aug '09 DR1.1 IRAC 3.6um-Selected 3x30sec Coadd, epoch 4 (Mar '08)\",\n",
       " 'sdwfs_ch1_stack': \"SDWFS Aug'09 DR1.1 IRAC 3.6um-Selected Total Coadd Stack\",\n",
       " 'sdwfs_ch2_epoch1': \"SDWFS Aug '09 DR1.1 IRAC 4.5um-Selected 3x30sec Coadd, epoch 1 (Jan '04)\",\n",
       " 'sdwfs_ch2_epoch2': \"SDWFS Aug '09 DR1.1 IRAC 4.5um-Selected 3x30sec Coadd, epoch 2 (Aug '07)\",\n",
       " 'sdwfs_ch2_epoch3': \"SDWFS Aug '09 DR1.1 IRAC 4.5um-Selected 3x30sec Coadd, epoch 3 (Feb '08)\",\n",
       " 'sdwfs_ch2_epoch4': \"SDWFS Aug '09 DR1.1 IRAC 4.5um-Selected 3x30sec Coadd, epoch 4 (Mar '08)\",\n",
       " 'sdwfs_ch2_stack': \"SDWFS Aug '09 DR1.1 IRAC 4.5um-Selected Total Coadd Stack\",\n",
       " 'sdwfs_ch3_epoch1': \"SDWFS Aug '09 DR1.1 IRAC 5.8um-Selected 3x30sec Coadd, epoch 1 (Jan '04)\",\n",
       " 'sdwfs_ch3_epoch2': \"SDWFS Aug '09 DR1.1 IRAC 5.8um-Selected 3x30sec Coadd, epoch 2 (Aug '07)\",\n",
       " 'sdwfs_ch3_epoch3': \"SDWFS Aug '09 DR1.1 IRAC 5.8um-Selected 3x30sec Coadd, epoch 3 (Feb '08)\",\n",
       " 'sdwfs_ch3_epoch4': \"SDWFS Aug '09 DR1.1 IRAC 5.8um-Selected 3x30sec Coadd, epoch 4 (Mar '08)\",\n",
       " 'sdwfs_ch3_stack': \"SDWFS Aug '09 DR1.1 IRAC 5.8um-Selected Total Coadd Stack\",\n",
       " 'sdwfs_ch4_epoch1': \"SDWFS Aug '09 DR1.1 IRAC 8.0um-Selected 3x30sec Coadd, epoch 1 (Jan '04)\",\n",
       " 'sdwfs_ch4_epoch2': \"SDWFS Aug '09 DR1.1 IRAC 8.0um-Selected 3x30sec Coadd, epoch 2 (Aug '07)\",\n",
       " 'sdwfs_ch4_epoch3': \"SDWFS Aug '09 DR1.1 IRAC 8.0um-Selected 3x30sec Coadd, epoch 3 (Feb '08)\",\n",
       " 'sdwfs_ch4_epoch4': \"SDWFS Aug '09 DR1.1 IRAC 8.0um-Selected 3x30sec Coadd, epoch 4 (Mar '08)\",\n",
       " 'sdwfs_ch4_stack': \"SDWFS Aug '09 DR1.1 IRAC 8.0um-Selected Total Coadd Stack\",\n",
       " 'sdwfs_lcurve': 'SDWFS Light Curve Catalog',\n",
       " 'sdwfs_var': 'SDWFS Variability Catalog',\n",
       " 'sep_mw': 'SEP Multiwavelength Photometric Catalog',\n",
       " 'sepm24': 'SEP MIPS 24 micron Point Source Catalog',\n",
       " 'sepm70': 'SEP MIPS 70 micron Point Source Catalog',\n",
       " 'sepmext': 'SEP MIPS Extended Source Catalog',\n",
       " 'servscdfsi1': 'SERVS CDFS 3.6 micron Catalog',\n",
       " 'servscdfsi12': 'SERVS CDFS 2-band Catalog (highly reliable)',\n",
       " 'servscdfsi2': 'SERVS CDFS 4.5 micron Catalog',\n",
       " 'servseni1': 'SERVS ELAIS N1 3.6 micron Catalog',\n",
       " 'servseni12': 'SERVS ELAIS N1 2-band Catalog (highly reliable)',\n",
       " 'servseni2': 'SERVS ELAIS N1 4.5 micron Catalog',\n",
       " 'servsesi1': 'SERVS ELAIS S1 3.6 micron Catalog',\n",
       " 'servsesi12': 'SERVS ELAIS S1 2-band Catalog (highly reliable)',\n",
       " 'servsesi2': 'SERVS ELAIS S1 4.5 micron Catalog',\n",
       " 'servslhi1': 'SERVS Lockman Hole 3.6 micron Catalog',\n",
       " 'servslhi12': 'SERVS Lockman Hole 2-band Catalog (highly reliable)',\n",
       " 'servslhi2': 'SERVS Lockman Hole 4.5 micron Catalog',\n",
       " 'servsxmmi1': 'SERVS XMM-LSS 3.6 micron Catalog',\n",
       " 'servsxmmi12': 'SERVS XMM-LSS 2-band Catalog (highly reliable)',\n",
       " 'servsxmmi2': 'SERVS XMM-LSS 4.5 micron Catalog',\n",
       " 'shelacomb': 'SHELA Combined Epoch IRAC Catalog',\n",
       " 'shelaep1': 'SHELA Epoch 1 IRAC Catalog',\n",
       " 'shelaep2': 'SHELA Epoch 2 IRAC Catalog',\n",
       " 'shelaep3': 'SHELA Epoch 3 IRAC Catalog',\n",
       " 'shelasdss': 'SHELA-SDSS Stripe 82 Catalog',\n",
       " 'simple': 'SIMPLE Photometry Catalog',\n",
       " 'sixxf_info': '2MASS 6X w/LMC/SMC Merged Point Source Information Table',\n",
       " 'sixxf_link': '2MASS 6X w/LMC/SMC Merged Point Source Link Table',\n",
       " 'slicovv2': 'SEIP IRAC Coverage Table',\n",
       " 'slmcovv2': 'SEIP MIPS Coverage Table',\n",
       " 'slphotdr4': 'SEIP Source List',\n",
       " 'sltracev2': 'SEIP Traceback Table',\n",
       " 'smuvs': 'SMUVS Source Catalog',\n",
       " 'spiesch1': 'SpIES 3.6 micron-only Catalog',\n",
       " 'spiesch12': 'SpIES Dual-band Catalog',\n",
       " 'spiesch2': 'SpIES 4.5 micron-only Catalog',\n",
       " 'spsc250': 'SPIRE Point Source Catalog: 250 microns',\n",
       " 'spsc350': 'SPIRE Point Source Catalog: 350 microns',\n",
       " 'spsc500': 'SPIRE Point Source Catalog: 500 microns',\n",
       " 'spscxid': 'SPIRE Point Source Catalog Cross-Reference Matrix',\n",
       " 'spuds_irac': 'SpUDS IRAC Catalog',\n",
       " 'spuds_mips': 'SpUDS MIPS Catalog',\n",
       " 'ssdf1': 'SSDF IRAC Ch1 Catalog',\n",
       " 'ssdf2': 'SSDF IRAC Ch2 Catalog',\n",
       " 'ssid2': 'SAGE-Spec ID Search',\n",
       " 'summary': 'IRAS Large Galaxies Catalog',\n",
       " 'swire_lhisod': 'SWIRE Lockman Hole ISOCAM Deep Field Catalog',\n",
       " 'swire_lhisos': 'SWIRE Lockman Hole ISOCAM Shallow Field Catalog',\n",
       " 'taurus_2008_2_1': 'Taurus Catalog October 2008 v2.1',\n",
       " 'ucac4_sources': 'USNO CCD Astrograph Catalog (UCAC4)',\n",
       " 'ucac5': 'USNO CCD Astrograph Catalog (UCAC5)',\n",
       " 'urat1': 'The First USNO Robotic Astrometric Telescope Catalog (URAT1)',\n",
       " 'usno_b1': 'USNO-B1 (United States Naval Observatory B1.0 Catalog)',\n",
       " 'velcara': 'Vela-Carina Archive (more complete, less reliable)',\n",
       " 'velcarc': 'Vela-Carina Catalog (highly reliable)',\n",
       " 'wisegalhii': 'WISE Catalog of Galactic HII Regions v2.2',\n",
       " 'wsdb_info': '2MASS Survey Merged Point Source Information Table',\n",
       " 'wsdb_link': '2MASS Survey Merged Point Source Link Table',\n",
       " 'xfls_i1m': 'Extragalactic FLS IRAC Channel 1 Main Field Catalog',\n",
       " 'xfls_i1v': 'Extragalactic FLS IRAC Channel 1 Verification Field Catalog',\n",
       " 'xfls_i2m': 'Extragalactic FLS IRAC Channel 2 Main Field Catalog',\n",
       " 'xfls_i2v': 'Extragalactic FLS IRAC Channel 2 Verification Field Catalog',\n",
       " 'xfls_i3m': 'Extragalactic FLS IRAC Channel 3 Main Field Catalog',\n",
       " 'xfls_i3v': 'Extragalactic FLS IRAC Channel 3 Verification Field Catalog',\n",
       " 'xfls_i4m': 'Extragalactic FLS IRAC Channel 4 Main Field Catalog',\n",
       " 'xfls_i4v': 'Extragalactic FLS IRAC Channel 4 Verification Field Catalog',\n",
       " 'xfls_iallm': 'Extragalactic FLS IRAC Bandmerged Main Field Catalog',\n",
       " 'xfls_iallv': 'Extragalactic FLS IRAC Bandmerged Verification Field Catalog',\n",
       " 'xfls_kpno': 'Extragalactic FLS KPNO R-band Source List',\n",
       " 'xfls_m1t2': 'Extragalactic FLS MIPS 24 micron Extended Source Catalog',\n",
       " 'xfls_m1t4': 'Extragalactic FLS MIPS 24 micron Calibration Star Catalog',\n",
       " 'xfls_m1t5': 'Extragalactic FLS MIPS 24 micron Point Source Catalog',\n",
       " 'xfls_m2': 'Extragalactic FLS MIPS 70 micron Catalog',\n",
       " 'xfls_m3': 'Extragalactic FLS MIPS 160 micron Catalog',\n",
       " 'xfls_w2': 'Extragalactic FLS WIYN/Hydra Spectroscopic Catalog',\n",
       " 'xfls_w3': 'Extragalactic FLS WIYN/Hydra Line Strength and Equivalent Width Catalog',\n",
       " 'xfls_w4': 'Extragalactic FLS WIYN/Hydra Line Ratios and Extinction Catalog',\n",
       " 'xmm_160_cat_s05': \"SWIRE XMM_LSS Region 160um Spring '05 Spitzer Catalog\",\n",
       " 'xmm_24_cat_s05': \"SWIRE XMM_LSS Region 24um Spring '05 Spitzer Catalog\",\n",
       " 'xmm_70_cat_s05': \"SWIRE XMM_LSS Region 70um Spring '05 Spitzer Catalog\",\n",
       " 'xmm_cat_s05': \"SWIRE XMM_LSS Region Spring '05 Spitzer Catalog\",\n",
       " 'ysoggd1215lc': 'YSOVAR GGD 12-15 Light Curve Table',\n",
       " 'ysoggd1215obj': 'YSOVAR GGD 12-15 Object Table',\n",
       " 'ysoi20050lc': 'YSOVAR IRAS 20050+2720 Light Curve Table',\n",
       " 'ysoi20050obj': 'YSOVAR IRAS 20050+2720 Object Table',\n",
       " 'ysol1688lc': 'YSOVAR L1688 Light Curve Table',\n",
       " 'ysol1688obj': 'YSOVAR L1688 Object Table',\n",
       " 'yson1333lc': 'YSOVAR NGC1333 Light Curve Table',\n",
       " 'yson1333obj': 'YSOVAR NGC1333 Object Table',\n",
       " 'z0mgsdr1index': 'z0MGS DR1 Index',\n",
       " 'z0mgsdr1simple': 'z0MGS DR1 7.5 arcsec Simple Index',\n",
       " 'ztf_objects_dr1': 'ZTF DR1 Objects',\n",
       " 'ztf_objects_dr2': 'ZTF DR2 Objects'}"
      ]
     },
     "execution_count": 33,
     "metadata": {},
     "output_type": "execute_result"
    }
   ],
   "source": [
    "Irsa.list_catalogs()"
   ]
  },
  {
   "cell_type": "code",
   "execution_count": 34,
   "metadata": {},
   "outputs": [],
   "source": [
    "table = Irsa.query_region(\"m82\", catalog=\"fp_psc\", spatial=\"Cone\",radius=10 * u.arcmin)"
   ]
  },
  {
   "cell_type": "code",
   "execution_count": 35,
   "metadata": {},
   "outputs": [
    {
     "data": {
      "text/html": [
       "&lt;Table masked=True length=267&gt;\n",
       "<table id=\"table140252307823952\" class=\"table-striped table-bordered table-condensed\">\n",
       "<thead><tr><th>ra</th><th>dec</th><th>clon</th><th>clat</th><th>err_maj</th><th>err_min</th><th>err_ang</th><th>designation</th><th>j_m</th><th>j_cmsig</th><th>j_msigcom</th><th>j_snr</th><th>h_m</th><th>h_cmsig</th><th>h_msigcom</th><th>h_snr</th><th>k_m</th><th>k_cmsig</th><th>k_msigcom</th><th>k_snr</th><th>ph_qual</th><th>rd_flg</th><th>bl_flg</th><th>cc_flg</th><th>ndet</th><th>gal_contam</th><th>mp_flg</th><th>hemis</th><th>xdate</th><th>scan</th><th>glon</th><th>glat</th><th>a</th><th>dist_opt</th><th>phi_opt</th><th>b_m_opt</th><th>vr_m_opt</th><th>nopt_mchs</th><th>ext_key</th><th>dist</th><th>angle</th><th>j_h</th><th>h_k</th><th>j_k</th></tr></thead>\n",
       "<thead><tr><th>deg</th><th>deg</th><th></th><th></th><th>arcs</th><th>arcs</th><th>deg</th><th></th><th>mag</th><th>mag</th><th>mag</th><th></th><th>mag</th><th>mag</th><th>mag</th><th></th><th>mag</th><th>mag</th><th>mag</th><th></th><th></th><th></th><th></th><th></th><th></th><th></th><th></th><th></th><th></th><th></th><th>deg</th><th>deg</th><th></th><th>arcs</th><th>deg</th><th>mag</th><th>mag</th><th></th><th></th><th>arcs</th><th>deg</th><th></th><th></th><th></th></tr></thead>\n",
       "<thead><tr><th>float64</th><th>float64</th><th>object</th><th>object</th><th>float64</th><th>float64</th><th>int32</th><th>object</th><th>float64</th><th>float64</th><th>float64</th><th>float64</th><th>float64</th><th>float64</th><th>float64</th><th>float64</th><th>float64</th><th>float64</th><th>float64</th><th>float64</th><th>object</th><th>object</th><th>object</th><th>object</th><th>object</th><th>int32</th><th>int32</th><th>object</th><th>object</th><th>int32</th><th>float64</th><th>float64</th><th>object</th><th>float64</th><th>int32</th><th>float64</th><th>float64</th><th>int32</th><th>int32</th><th>float64</th><th>float64</th><th>float64</th><th>float64</th><th>float64</th></tr></thead>\n",
       "<tr><td>148.968872</td><td>69.679756</td><td>09h55m52.53s</td><td>69d40m47.12s</td><td>0.11</td><td>0.11</td><td>45</td><td>09555252+6940471</td><td>10.437</td><td>0.105</td><td>0.106</td><td>2252.3</td><td>8.325</td><td>--</td><td>--</td><td>--</td><td>7.560</td><td>--</td><td>--</td><td>--</td><td>EUU</td><td>200</td><td>100</td><td>000</td><td>660000</td><td>2</td><td>0</td><td>n</td><td>1999-03-13</td><td>61</td><td>141.409</td><td>40.567</td><td>0</td><td>--</td><td>--</td><td>--</td><td>--</td><td>0</td><td>--</td><td>1.696474</td><td>322.92944</td><td>--</td><td>--</td><td>--</td></tr>\n",
       "<tr><td>148.967385</td><td>69.679893</td><td>09h55m52.17s</td><td>69d40m47.61s</td><td>0.08</td><td>0.08</td><td>45</td><td>09555217+6940476</td><td>9.621</td><td>--</td><td>--</td><td>--</td><td>9.114</td><td>0.121</td><td>0.121</td><td>2939.8</td><td>8.170</td><td>0.089</td><td>0.089</td><td>5412.8</td><td>UEE</td><td>022</td><td>011</td><td>000</td><td>005566</td><td>2</td><td>0</td><td>n</td><td>1999-03-13</td><td>61</td><td>141.410</td><td>40.567</td><td>0</td><td>--</td><td>--</td><td>--</td><td>--</td><td>0</td><td>--</td><td>3.422646</td><td>302.656303</td><td>--</td><td>0.944</td><td>--</td></tr>\n",
       "<tr><td>148.971913</td><td>69.680321</td><td>09h55m53.26s</td><td>69d40m49.16s</td><td>0.06</td><td>0.06</td><td>45</td><td>09555325+6940491</td><td>10.691</td><td>0.073</td><td>0.074</td><td>1782.5</td><td>9.527</td><td>0.096</td><td>0.096</td><td>2009.6</td><td>8.700</td><td>0.083</td><td>0.084</td><td>3322.2</td><td>EEE</td><td>222</td><td>111</td><td>c00</td><td>665566</td><td>2</td><td>0</td><td>n</td><td>1999-03-13</td><td>61</td><td>141.408</td><td>40.568</td><td>0</td><td>--</td><td>--</td><td>--</td><td>--</td><td>0</td><td>--</td><td>4.38169</td><td>39.363492</td><td>1.164</td><td>0.827</td><td>1.991</td></tr>\n",
       "<tr><td>148.970732</td><td>69.681351</td><td>09h55m52.98s</td><td>69d40m52.86s</td><td>0.12</td><td>0.11</td><td>10</td><td>09555297+6940528</td><td>11.673</td><td>0.115</td><td>0.115</td><td>721.5</td><td>9.173</td><td>--</td><td>--</td><td>--</td><td>8.535</td><td>--</td><td>--</td><td>--</td><td>EUU</td><td>200</td><td>100</td><td>c00</td><td>660000</td><td>2</td><td>0</td><td>n</td><td>1999-03-13</td><td>61</td><td>141.407</td><td>40.567</td><td>0</td><td>--</td><td>--</td><td>--</td><td>--</td><td>0</td><td>--</td><td>7.21418</td><td>10.402201</td><td>--</td><td>--</td><td>--</td></tr>\n",
       "<tr><td>148.973333</td><td>69.681480</td><td>09h55m53.60s</td><td>69d40m53.33s</td><td>0.11</td><td>0.11</td><td>45</td><td>09555359+6940533</td><td>12.754</td><td>0.027</td><td>0.030</td><td>266.6</td><td>9.516</td><td>--</td><td>--</td><td>--</td><td>8.853</td><td>--</td><td>--</td><td>--</td><td>EUU</td><td>200</td><td>100</td><td>c00</td><td>660000</td><td>2</td><td>0</td><td>n</td><td>1999-03-13</td><td>61</td><td>141.406</td><td>40.567</td><td>0</td><td>--</td><td>--</td><td>--</td><td>--</td><td>0</td><td>--</td><td>8.825773</td><td>31.063322</td><td>--</td><td>--</td><td>--</td></tr>\n",
       "<tr><td>148.962862</td><td>69.678734</td><td>09h55m51.09s</td><td>69d40m43.44s</td><td>0.12</td><td>0.12</td><td>45</td><td>09555108+6940434</td><td>11.526</td><td>0.129</td><td>0.129</td><td>826.1</td><td>8.956</td><td>--</td><td>--</td><td>--</td><td>8.157</td><td>--</td><td>--</td><td>--</td><td>EUU</td><td>200</td><td>100</td><td>c00</td><td>660000</td><td>2</td><td>0</td><td>n</td><td>1999-03-13</td><td>61</td><td>141.412</td><td>40.566</td><td>0</td><td>--</td><td>--</td><td>--</td><td>--</td><td>0</td><td>--</td><td>8.847499</td><td>254.763729</td><td>--</td><td>--</td><td>--</td></tr>\n",
       "<tr><td>148.960777</td><td>69.679771</td><td>09h55m50.59s</td><td>69d40m47.18s</td><td>0.11</td><td>0.11</td><td>45</td><td>09555058+6940471</td><td>10.960</td><td>0.116</td><td>0.116</td><td>1391.3</td><td>8.853</td><td>--</td><td>--</td><td>--</td><td>8.106</td><td>--</td><td>--</td><td>--</td><td>EUU</td><td>200</td><td>100</td><td>000</td><td>660000</td><td>2</td><td>0</td><td>n</td><td>1999-03-13</td><td>61</td><td>141.412</td><td>40.565</td><td>0</td><td>--</td><td>--</td><td>--</td><td>--</td><td>0</td><td>--</td><td>11.231337</td><td>277.203872</td><td>--</td><td>--</td><td>--</td></tr>\n",
       "<tr><td>148.960569</td><td>69.679489</td><td>09h55m50.54s</td><td>69d40m46.16s</td><td>0.08</td><td>0.08</td><td>45</td><td>09555053+6940461</td><td>10.064</td><td>--</td><td>--</td><td>--</td><td>9.599</td><td>0.126</td><td>0.126</td><td>1880.7</td><td>8.843</td><td>0.118</td><td>0.118</td><td>2912.2</td><td>UEE</td><td>022</td><td>011</td><td>000</td><td>004466</td><td>2</td><td>0</td><td>n</td><td>1999-03-13</td><td>61</td><td>141.412</td><td>40.565</td><td>0</td><td>--</td><td>--</td><td>--</td><td>--</td><td>0</td><td>--</td><td>11.409643</td><td>271.97518</td><td>--</td><td>0.756</td><td>--</td></tr>\n",
       "<tr><td>148.961029</td><td>69.678139</td><td>09h55m50.65s</td><td>69d40m41.30s</td><td>0.11</td><td>0.11</td><td>90</td><td>09555064+6940413</td><td>12.287</td><td>0.041</td><td>0.042</td><td>409.9</td><td>9.405</td><td>--</td><td>--</td><td>--</td><td>8.687</td><td>--</td><td>--</td><td>--</td><td>EUU</td><td>260</td><td>200</td><td>c00</td><td>660000</td><td>2</td><td>0</td><td>n</td><td>1999-03-13</td><td>61</td><td>141.413</td><td>40.566</td><td>0</td><td>--</td><td>--</td><td>--</td><td>--</td><td>0</td><td>--</td><td>11.713599</td><td>247.583455</td><td>--</td><td>--</td><td>--</td></tr>\n",
       "<tr><td>...</td><td>...</td><td>...</td><td>...</td><td>...</td><td>...</td><td>...</td><td>...</td><td>...</td><td>...</td><td>...</td><td>...</td><td>...</td><td>...</td><td>...</td><td>...</td><td>...</td><td>...</td><td>...</td><td>...</td><td>...</td><td>...</td><td>...</td><td>...</td><td>...</td><td>...</td><td>...</td><td>...</td><td>...</td><td>...</td><td>...</td><td>...</td><td>...</td><td>...</td><td>...</td><td>...</td><td>...</td><td>...</td><td>...</td><td>...</td><td>...</td><td>...</td><td>...</td><td>...</td></tr>\n",
       "<tr><td>148.594826</td><td>69.589226</td><td>09h54m22.76s</td><td>69d35m21.21s</td><td>0.27</td><td>0.26</td><td>151</td><td>09542275+6935212</td><td>16.500</td><td>0.129</td><td>0.129</td><td>8.8</td><td>15.961</td><td>0.217</td><td>0.217</td><td>5.5</td><td>15.813</td><td>0.226</td><td>0.227</td><td>4.7</td><td>BCD</td><td>222</td><td>111</td><td>000</td><td>060606</td><td>0</td><td>0</td><td>n</td><td>1999-03-13</td><td>60</td><td>141.606</td><td>40.514</td><td>0</td><td>--</td><td>--</td><td>--</td><td>--</td><td>0</td><td>--</td><td>570.876118</td><td>235.528845</td><td>0.539</td><td>0.148</td><td>0.687</td></tr>\n",
       "<tr><td>149.365727</td><td>69.600739</td><td>09h57m27.77s</td><td>69d36m02.66s</td><td>0.16</td><td>0.12</td><td>90</td><td>09572777+6936026</td><td>15.880</td><td>0.075</td><td>0.076</td><td>16.1</td><td>15.498</td><td>0.108</td><td>0.109</td><td>9.8</td><td>14.820</td><td>0.106</td><td>0.107</td><td>10.3</td><td>ABA</td><td>222</td><td>111</td><td>000</td><td>260605</td><td>0</td><td>0</td><td>n</td><td>1999-02-09</td><td>70</td><td>141.387</td><td>40.725</td><td>0</td><td>--</td><td>--</td><td>--</td><td>--</td><td>0</td><td>--</td><td>571.13938</td><td>119.52937</td><td>0.382</td><td>0.678</td><td>1.06</td></tr>\n",
       "<tr><td>149.150813</td><td>69.532997</td><td>09h56m36.20s</td><td>69d31m58.79s</td><td>0.07</td><td>0.06</td><td>83</td><td>09563619+6931587</td><td>13.398</td><td>0.022</td><td>0.025</td><td>152.5</td><td>12.905</td><td>0.025</td><td>0.026</td><td>89.5</td><td>12.622</td><td>0.020</td><td>0.022</td><td>89.7</td><td>AAA</td><td>222</td><td>111</td><td>000</td><td>665566</td><td>0</td><td>0</td><td>n</td><td>1999-03-13</td><td>62</td><td>141.518</td><td>40.704</td><td>0</td><td>--</td><td>--</td><td>--</td><td>--</td><td>0</td><td>--</td><td>573.876247</td><td>156.590796</td><td>0.493</td><td>0.283</td><td>0.776</td></tr>\n",
       "<tr><td>148.809238</td><td>69.529037</td><td>09h55m14.22s</td><td>69d31m44.53s</td><td>0.06</td><td>0.06</td><td>90</td><td>09551421+6931445</td><td>15.115</td><td>0.046</td><td>0.048</td><td>30.3</td><td>14.619</td><td>0.059</td><td>0.060</td><td>18.5</td><td>14.564</td><td>0.073</td><td>0.073</td><td>15.0</td><td>AAA</td><td>222</td><td>111</td><td>000</td><td>664615</td><td>0</td><td>0</td><td>n</td><td>1999-03-13</td><td>61</td><td>141.613</td><td>40.609</td><td>U</td><td>0.4</td><td>146</td><td>17.40</td><td>16.30</td><td>1</td><td>--</td><td>577.458424</td><td>200.477215</td><td>0.496</td><td>0.055</td><td>0.551</td></tr>\n",
       "<tr><td>149.418129</td><td>69.639381</td><td>09h57m40.35s</td><td>69d38m21.77s</td><td>0.45</td><td>0.32</td><td>90</td><td>09574035+6938217</td><td>16.275</td><td>0.099</td><td>0.100</td><td>11.2</td><td>15.687</td><td>0.131</td><td>0.132</td><td>8.2</td><td>15.328</td><td>0.167</td><td>0.167</td><td>6.5</td><td>ABC</td><td>222</td><td>111</td><td>000</td><td>160605</td><td>0</td><td>0</td><td>n</td><td>1999-02-09</td><td>70</td><td>141.332</td><td>40.717</td><td>U</td><td>0.4</td><td>208</td><td>19.70</td><td>18.60</td><td>1</td><td>--</td><td>579.338522</td><td>104.181564</td><td>0.588</td><td>0.359</td><td>0.947</td></tr>\n",
       "<tr><td>149.406331</td><td>69.625313</td><td>09h57m37.52s</td><td>69d37m31.13s</td><td>0.12</td><td>0.10</td><td>90</td><td>09573751+6937311</td><td>13.698</td><td>0.021</td><td>0.024</td><td>119.7</td><td>13.421</td><td>0.028</td><td>0.029</td><td>66.2</td><td>13.260</td><td>0.032</td><td>0.034</td><td>43.4</td><td>AAA</td><td>222</td><td>111</td><td>000</td><td>666655</td><td>0</td><td>0</td><td>n</td><td>1999-02-09</td><td>70</td><td>141.350</td><td>40.722</td><td>U</td><td>0.6</td><td>245</td><td>15.40</td><td>14.70</td><td>1</td><td>--</td><td>580.197883</td><td>109.396514</td><td>0.277</td><td>0.161</td><td>0.438</td></tr>\n",
       "<tr><td>148.582398</td><td>69.768677</td><td>09h54m19.78s</td><td>69d46m07.24s</td><td>0.07</td><td>0.06</td><td>90</td><td>09541977+6946072</td><td>6.909</td><td>0.019</td><td>0.026</td><td>60093.8</td><td>6.156</td><td>0.013</td><td>0.020</td><td>46399.2</td><td>5.971</td><td>0.011</td><td>0.018</td><td>41022.3</td><td>AAA</td><td>111</td><td>111</td><td>000</td><td>665666</td><td>0</td><td>0</td><td>n</td><td>1999-03-13</td><td>60</td><td>141.416</td><td>40.406</td><td>T</td><td>0.1</td><td>218</td><td>11.19</td><td>9.57</td><td>2</td><td>--</td><td>580.336915</td><td>303.818861</td><td>0.753</td><td>0.185</td><td>0.938</td></tr>\n",
       "<tr><td>149.202342</td><td>69.822823</td><td>09h56m48.56s</td><td>69d49m22.16s</td><td>0.20</td><td>0.18</td><td>169</td><td>09564856+6949221</td><td>16.166</td><td>0.109</td><td>0.110</td><td>11.9</td><td>15.634</td><td>0.157</td><td>0.157</td><td>7.2</td><td>15.090</td><td>0.124</td><td>0.124</td><td>9.2</td><td>BCB</td><td>222</td><td>111</td><td>000</td><td>060406</td><td>0</td><td>0</td><td>n</td><td>1999-03-13</td><td>62</td><td>141.194</td><td>40.549</td><td>0</td><td>--</td><td>--</td><td>--</td><td>--</td><td>0</td><td>--</td><td>592.190481</td><td>29.198245</td><td>0.532</td><td>0.544</td><td>1.076</td></tr>\n",
       "<tr><td>149.368312</td><td>69.589645</td><td>09h57m28.39s</td><td>69d35m22.72s</td><td>0.12</td><td>0.10</td><td>90</td><td>09572839+6935227</td><td>13.869</td><td>0.024</td><td>0.027</td><td>102.3</td><td>13.367</td><td>0.031</td><td>0.032</td><td>69.5</td><td>13.128</td><td>0.034</td><td>0.035</td><td>49.0</td><td>AAA</td><td>222</td><td>111</td><td>000</td><td>666666</td><td>0</td><td>0</td><td>n</td><td>1999-02-09</td><td>70</td><td>141.398</td><td>40.733</td><td>0</td><td>--</td><td>--</td><td>--</td><td>--</td><td>0</td><td>--</td><td>594.77836</td><td>122.710361</td><td>0.502</td><td>0.239</td><td>0.741</td></tr>\n",
       "<tr><td>148.742244</td><td>69.533684</td><td>09h54m58.14s</td><td>69d32m01.26s</td><td>0.06</td><td>0.06</td><td>90</td><td>09545813+6932012</td><td>14.219</td><td>0.030</td><td>0.032</td><td>71.6</td><td>13.758</td><td>0.039</td><td>0.040</td><td>42.2</td><td>13.603</td><td>0.038</td><td>0.039</td><td>36.3</td><td>AAA</td><td>222</td><td>111</td><td>000</td><td>666666</td><td>0</td><td>0</td><td>n</td><td>1999-03-13</td><td>60</td><td>141.626</td><td>40.588</td><td>U</td><td>0.1</td><td>163</td><td>16.20</td><td>15.40</td><td>1</td><td>--</td><td>597.089216</td><td>208.652335</td><td>0.461</td><td>0.155</td><td>0.616</td></tr>\n",
       "</table>"
      ],
      "text/plain": [
       "<Table masked=True length=267>\n",
       "    ra        dec         clon         clat     ...   j_h     h_k     j_k  \n",
       "   deg        deg                               ...                        \n",
       " float64    float64      object       object    ... float64 float64 float64\n",
       "---------- ---------- ------------ ------------ ... ------- ------- -------\n",
       "148.968872  69.679756 09h55m52.53s 69d40m47.12s ...      --      --      --\n",
       "148.967385  69.679893 09h55m52.17s 69d40m47.61s ...      --   0.944      --\n",
       "148.971913  69.680321 09h55m53.26s 69d40m49.16s ...   1.164   0.827   1.991\n",
       "148.970732  69.681351 09h55m52.98s 69d40m52.86s ...      --      --      --\n",
       "148.973333  69.681480 09h55m53.60s 69d40m53.33s ...      --      --      --\n",
       "148.962862  69.678734 09h55m51.09s 69d40m43.44s ...      --      --      --\n",
       "148.960777  69.679771 09h55m50.59s 69d40m47.18s ...      --      --      --\n",
       "148.960569  69.679489 09h55m50.54s 69d40m46.16s ...      --   0.756      --\n",
       "148.961029  69.678139 09h55m50.65s 69d40m41.30s ...      --      --      --\n",
       "       ...        ...          ...          ... ...     ...     ...     ...\n",
       "148.594826  69.589226 09h54m22.76s 69d35m21.21s ...   0.539   0.148   0.687\n",
       "149.365727  69.600739 09h57m27.77s 69d36m02.66s ...   0.382   0.678    1.06\n",
       "149.150813  69.532997 09h56m36.20s 69d31m58.79s ...   0.493   0.283   0.776\n",
       "148.809238  69.529037 09h55m14.22s 69d31m44.53s ...   0.496   0.055   0.551\n",
       "149.418129  69.639381 09h57m40.35s 69d38m21.77s ...   0.588   0.359   0.947\n",
       "149.406331  69.625313 09h57m37.52s 69d37m31.13s ...   0.277   0.161   0.438\n",
       "148.582398  69.768677 09h54m19.78s 69d46m07.24s ...   0.753   0.185   0.938\n",
       "149.202342  69.822823 09h56m48.56s 69d49m22.16s ...   0.532   0.544   1.076\n",
       "149.368312  69.589645 09h57m28.39s 69d35m22.72s ...   0.502   0.239   0.741\n",
       "148.742244  69.533684 09h54m58.14s 69d32m01.26s ...   0.461   0.155   0.616"
      ]
     },
     "execution_count": 35,
     "metadata": {},
     "output_type": "execute_result"
    }
   ],
   "source": [
    "table"
   ]
  },
  {
   "cell_type": "code",
   "execution_count": 36,
   "metadata": {},
   "outputs": [
    {
     "data": {
      "text/plain": [
       "['ra',\n",
       " 'dec',\n",
       " 'clon',\n",
       " 'clat',\n",
       " 'err_maj',\n",
       " 'err_min',\n",
       " 'err_ang',\n",
       " 'designation',\n",
       " 'j_m',\n",
       " 'j_cmsig',\n",
       " 'j_msigcom',\n",
       " 'j_snr',\n",
       " 'h_m',\n",
       " 'h_cmsig',\n",
       " 'h_msigcom',\n",
       " 'h_snr',\n",
       " 'k_m',\n",
       " 'k_cmsig',\n",
       " 'k_msigcom',\n",
       " 'k_snr',\n",
       " 'ph_qual',\n",
       " 'rd_flg',\n",
       " 'bl_flg',\n",
       " 'cc_flg',\n",
       " 'ndet',\n",
       " 'gal_contam',\n",
       " 'mp_flg',\n",
       " 'hemis',\n",
       " 'xdate',\n",
       " 'scan',\n",
       " 'glon',\n",
       " 'glat',\n",
       " 'a',\n",
       " 'dist_opt',\n",
       " 'phi_opt',\n",
       " 'b_m_opt',\n",
       " 'vr_m_opt',\n",
       " 'nopt_mchs',\n",
       " 'ext_key',\n",
       " 'dist',\n",
       " 'angle',\n",
       " 'j_h',\n",
       " 'h_k',\n",
       " 'j_k']"
      ]
     },
     "execution_count": 36,
     "metadata": {},
     "output_type": "execute_result"
    }
   ],
   "source": [
    "table.keys()"
   ]
  },
  {
   "cell_type": "markdown",
   "metadata": {},
   "source": [
    "### SDSS query"
   ]
  },
  {
   "cell_type": "markdown",
   "metadata": {},
   "source": [
    "[SDSS](https://www.sdss.org/) or the Sloan Digital Sky Survey is a massive survey of the sky which originally was optical imaging and spectroscopy.  It has been operating for over 20 years and the well beyond the original planned survey as it has expanded to near-infrared observations of stars and IFUs (integral field units) for observing galaxies and eventually the whole sky LVM (Local Volume Mapper). It is an immense data set to draw from. "
   ]
  },
  {
   "cell_type": "code",
   "execution_count": 37,
   "metadata": {},
   "outputs": [],
   "source": [
    "from astroquery.sdss import SDSS"
   ]
  },
  {
   "cell_type": "markdown",
   "metadata": {},
   "source": [
    "Coordinates of your favorite object, in this case M82 in degrees."
   ]
  },
  {
   "cell_type": "code",
   "execution_count": 38,
   "metadata": {},
   "outputs": [],
   "source": [
    "ra, dec = 148.969687, 69.679383"
   ]
  },
  {
   "cell_type": "code",
   "execution_count": 39,
   "metadata": {},
   "outputs": [],
   "source": [
    "co = coordinates.SkyCoord(ra=ra, dec=dec,unit=(u.deg, u.deg), frame='fk5')"
   ]
  },
  {
   "cell_type": "code",
   "execution_count": 40,
   "metadata": {},
   "outputs": [
    {
     "name": "stdout",
     "output_type": "stream",
     "text": [
      "       ra              dec               objid        run  rerun camcol field\n",
      "---------------- ---------------- ------------------- ---- ----- ------ -----\n",
      "148.923611196825 69.6663207726878 1237663789038764073 4264   301      5   261\n",
      "148.924689615825 69.6726754178346 1237663789038764101 4264   301      5   261\n",
      "148.818879857427 69.6409543957138 1237663789038764118 4264   301      5   261\n",
      "148.924633883972 69.6726954878249 1237663789038764152 4264   301      5   261\n",
      "148.819608619158 69.6807100728031 1237663918423015737 4294   301      6   236\n",
      "148.819847983728 69.6938004755562 1237663918423015784 4294   301      6   236\n",
      "148.817864279597 69.6986945246482 1237663918423015797 4294   301      6   236\n",
      "148.819193629511 69.6935685093305 1237663918423015808 4294   301      6   236\n",
      "148.819155372234 69.7091800240338 1237663918423015837 4294   301      6   236\n",
      "148.818288549398 69.7510837534116 1237663918423016353 4294   301      6   236\n",
      "['ra', 'dec', 'objid', 'run', 'rerun', 'camcol', 'field']\n"
     ]
    }
   ],
   "source": [
    "xid = SDSS.query_region(co, radius=10 * u.arcmin)\n",
    "# print the first 10 entries\n",
    "print(xid[:10])\n",
    "print(xid.keys())"
   ]
  },
  {
   "cell_type": "code",
   "execution_count": 41,
   "metadata": {},
   "outputs": [
    {
     "name": "stdout",
     "output_type": "stream",
     "text": [
      "       ra              dec       \n",
      "---------------- ----------------\n",
      "148.923611196825 69.6663207726878\n",
      "148.924689615825 69.6726754178346\n",
      "148.818879857427 69.6409543957138\n",
      "148.924633883972 69.6726954878249\n",
      "148.819608619158 69.6807100728031\n",
      "148.819847983728 69.6938004755562\n",
      "148.817864279597 69.6986945246482\n",
      "148.819193629511 69.6935685093305\n",
      "148.819155372234 69.7091800240338\n",
      "148.818288549398 69.7510837534116\n"
     ]
    }
   ],
   "source": [
    "print(xid['ra','dec'][:10]) # print the first 10 entries"
   ]
  },
  {
   "cell_type": "markdown",
   "metadata": {},
   "source": [
    "### Skyview"
   ]
  },
  {
   "cell_type": "markdown",
   "metadata": {},
   "source": [
    "[Skyview](https://skyview.gsfc.nasa.gov) is a virtual observatory that is connected to several surveys and imaging data sets spanning multiple wavelengths. It can be a handy way to get quick access to multi-wavelength imaging data for your favorite object."
   ]
  },
  {
   "cell_type": "code",
   "execution_count": 42,
   "metadata": {},
   "outputs": [
    {
     "name": "stdout",
     "output_type": "stream",
     "text": [
      "{u'Allbands:GOODS/HDF/CDF': [u'GOODS: Chandra ACIS HB',\n",
      "                             u'GOODS: Chandra ACIS FB',\n",
      "                             u'GOODS: Chandra ACIS SB',\n",
      "                             u'GOODS: VLT VIMOS U',\n",
      "                             u'GOODS: VLT VIMOS R',\n",
      "                             u'GOODS: HST ACS B',\n",
      "                             u'GOODS: HST ACS V',\n",
      "                             u'GOODS: HST ACS I',\n",
      "                             u'GOODS: HST ACS Z',\n",
      "                             u'Hawaii HDF U',\n",
      "                             u'Hawaii HDF B',\n",
      "                             u'Hawaii HDF V0201',\n",
      "                             u'Hawaii HDF V0401',\n",
      "                             u'Hawaii HDF R',\n",
      "                             u'Hawaii HDF I',\n",
      "                             u'Hawaii HDF z',\n",
      "                             u'Hawaii HDF HK',\n",
      "                             u'GOODS: HST NICMOS',\n",
      "                             u'GOODS: VLT ISAAC J',\n",
      "                             u'GOODS: VLT ISAAC H',\n",
      "                             u'GOODS: VLT ISAAC Ks',\n",
      "                             u'HUDF: VLT ISAAC Ks',\n",
      "                             u'GOODS: Spitzer IRAC 3.6',\n",
      "                             u'GOODS: Spitzer IRAC 4.5',\n",
      "                             u'GOODS: Spitzer IRAC 5.8',\n",
      "                             u'GOODS: Spitzer IRAC 8.0',\n",
      "                             u'GOODS: Spitzer MIPS 24',\n",
      "                             u'GOODS: Herschel 100',\n",
      "                             u'GOODS: Herschel 160',\n",
      "                             u'GOODS: Herschel 250',\n",
      "                             u'GOODS: Herschel 350',\n",
      "                             u'GOODS: Herschel 500',\n",
      "                             u'CDFS: LESS',\n",
      "                             u'GOODS: VLA North'],\n",
      " u'Allbands:HiPS': [u'UltraVista-H',\n",
      "                    u'UltraVista-J',\n",
      "                    u'UltraVista-Ks',\n",
      "                    u'UltraVista-NB118',\n",
      "                    u'UltraVista-Y',\n",
      "                    u'CFHTLS-W-u',\n",
      "                    u'CFHTLS-W-g',\n",
      "                    u'CFHTLS-W-r',\n",
      "                    u'CFHTLS-W-i',\n",
      "                    u'CFHTLS-W-z',\n",
      "                    u'CFHTLS-D-u',\n",
      "                    u'CFHTLS-D-g',\n",
      "                    u'CFHTLS-D-r',\n",
      "                    u'CFHTLS-D-i',\n",
      "                    u'CFHTLS-D-z'],\n",
      " u'GammaRay': [u'Fermi 5',\n",
      "               u'Fermi 4',\n",
      "               u'Fermi 3',\n",
      "               u'Fermi 2',\n",
      "               u'Fermi 1',\n",
      "               u'EGRET (3D)',\n",
      "               u'EGRET <100 MeV',\n",
      "               u'EGRET >100 MeV',\n",
      "               u'COMPTEL'],\n",
      " u'HardX-ray': [u'INT GAL 17-35 Flux',\n",
      "                u'INT GAL 17-60 Flux',\n",
      "                u'INT GAL 35-80 Flux',\n",
      "                u'INTEGRAL/SPI GC',\n",
      "                u'GRANAT/SIGMA',\n",
      "                u'RXTE Allsky 3-8keV Flux',\n",
      "                u'RXTE Allsky 3-20keV Flux',\n",
      "                u'RXTE Allsky 8-20keV Flux'],\n",
      " u'IR:2MASS class=': [u'2MASS-J', u'2MASS-H', u'2MASS-K'],\n",
      " u'IR:AKARI class=': [u'AKARI N60',\n",
      "                      u'AKARI WIDE-S',\n",
      "                      u'AKARI WIDE-L',\n",
      "                      u'AKARI N160'],\n",
      " u'IR:IRAS': [u'IRIS  12',\n",
      "              u'IRIS  25',\n",
      "              u'IRIS  60',\n",
      "              u'IRIS 100',\n",
      "              u'SFD100m',\n",
      "              u'SFD Dust Map',\n",
      "              u'IRAS  12 micron',\n",
      "              u'IRAS  25 micron',\n",
      "              u'IRAS  60 micron',\n",
      "              u'IRAS 100 micron'],\n",
      " u'IR:Planck': [u'Planck 857 I',\n",
      "                u'Planck 545 I',\n",
      "                u'Planck 353 I',\n",
      "                u'Planck 353 Q',\n",
      "                u'Planck 353 U',\n",
      "                u'Planck 353 PI',\n",
      "                u'Planck 353 PA',\n",
      "                u'Planck 353 PI/I',\n",
      "                u'Planck 217 I',\n",
      "                u'Planck 217 Q',\n",
      "                u'Planck 217 U',\n",
      "                u'Planck 217 PI',\n",
      "                u'Planck 217 PA',\n",
      "                u'Planck 217 PI/I',\n",
      "                u'Planck 143 I',\n",
      "                u'Planck 143 Q',\n",
      "                u'Planck 143 U',\n",
      "                u'Planck 143 PI',\n",
      "                u'Planck 143 PA',\n",
      "                u'Planck 143 PI/I',\n",
      "                u'Planck 100 I',\n",
      "                u'Planck 100 Q',\n",
      "                u'Planck 100 U',\n",
      "                u'Planck 100 PI',\n",
      "                u'Planck 100 PA',\n",
      "                u'Planck 100 PI/I',\n",
      "                u'Planck 070 I',\n",
      "                u'Planck 070 Q',\n",
      "                u'Planck 070 U',\n",
      "                u'Planck 070 PI',\n",
      "                u'Planck 070 PA',\n",
      "                u'Planck 070 PI/I',\n",
      "                u'Planck 044 I',\n",
      "                u'Planck 044 Q',\n",
      "                u'Planck 044 U',\n",
      "                u'Planck 044 PI',\n",
      "                u'Planck 044 PA',\n",
      "                u'Planck 044 PI/I',\n",
      "                u'Planck 030 I',\n",
      "                u'Planck 030 Q',\n",
      "                u'Planck 030 U',\n",
      "                u'Planck 030 PI',\n",
      "                u'Planck 030 PA',\n",
      "                u'Planck 030 PI/I'],\n",
      " u'IR:UKIDSS class=': [u'UKIDSS-Y', u'UKIDSS-J', u'UKIDSS-H', u'UKIDSS-K'],\n",
      " u'IR:WISE class=': [u'WISE 3.4', u'WISE 4.6', u'WISE 12', u'WISE 22'],\n",
      " u'IR:WMAP&COBE': [u'WMAP ILC',\n",
      "                   u'WMAP Ka',\n",
      "                   u'WMAP K',\n",
      "                   u'WMAP Q',\n",
      "                   u'WMAP V',\n",
      "                   u'WMAP W',\n",
      "                   u'COBE DIRBE/AAM',\n",
      "                   u'COBE DIRBE/ZSMA'],\n",
      " u'Optical:DSS class=': [u'DSS',\n",
      "                         u'DSS1 Blue',\n",
      "                         u'DSS1 Red',\n",
      "                         u'DSS2 Red',\n",
      "                         u'DSS2 Blue',\n",
      "                         u'DSS2 IR'],\n",
      " u'Optical:SDSS': [u'SDSSg',\n",
      "                   u'SDSSi',\n",
      "                   u'SDSSr',\n",
      "                   u'SDSSu',\n",
      "                   u'SDSSz',\n",
      "                   u'SDSSdr7g',\n",
      "                   u'SDSSdr7i',\n",
      "                   u'SDSSdr7r',\n",
      "                   u'SDSSdr7u',\n",
      "                   u'SDSSdr7z'],\n",
      " u'OtherOptical': [u'Mellinger Red',\n",
      "                   u'Mellinger Green',\n",
      "                   u'Mellinger Blue',\n",
      "                   u'NEAT',\n",
      "                   u'H-Alpha Comp',\n",
      "                   u'SHASSA H',\n",
      "                   u'SHASSA CC',\n",
      "                   u'SHASSA C',\n",
      "                   u'SHASSA Sm'],\n",
      " u'ROSATDiffuse class=': [u'RASS Background 1',\n",
      "                          u'RASS Background 2',\n",
      "                          u'RASS Background 3',\n",
      "                          u'RASS Background 4',\n",
      "                          u'RASS Background 5',\n",
      "                          u'RASS Background 6',\n",
      "                          u'RASS Background 7'],\n",
      " u'ROSATw/sources class=': [u'RASS-Cnt Soft',\n",
      "                            u'RASS-Cnt Hard',\n",
      "                            u'RASS-Cnt Broad',\n",
      "                            u'PSPC 2.0 Deg-Int',\n",
      "                            u'PSPC 1.0 Deg-Int',\n",
      "                            u'PSPC 0.6 Deg-Int',\n",
      "                            u'HRI'],\n",
      " u'Radio:GHz': [u'CO',\n",
      "                u'GB6 (4850MHz)',\n",
      "                u'VLA FIRST (1.4 GHz)',\n",
      "                u'NVSS',\n",
      "                u'Stripe82VLA',\n",
      "                u'1420MHz (Bonn)',\n",
      "                u'HI4PI',\n",
      "                u'EBHIS',\n",
      "                u'nH'],\n",
      " u'Radio:GLEAM class=': [u'GLEAM 72-103 MHz',\n",
      "                         u'GLEAM 103-134 MHz',\n",
      "                         u'GLEAM 139-170 MHz',\n",
      "                         u'GLEAM 170-231 MHz'],\n",
      " u'Radio:MHz class=': [u'SUMSS 843 MHz',\n",
      "                       u'0408MHz',\n",
      "                       u'WENSS',\n",
      "                       u'TGSS ADR1',\n",
      "                       u'VLSSr',\n",
      "                       u'0035MHz',\n",
      "                       u'0022MHz'],\n",
      " u'SoftX-ray class=': [u'SwiftXRTCnt',\n",
      "                       u'SwiftXRTExp',\n",
      "                       u'SwiftXRTInt',\n",
      "                       u'HEAO 1 A-2'],\n",
      " u'SwiftUVOT class=': [u'UVOT WHITE Intensity',\n",
      "                       u'UVOT V Intensity',\n",
      "                       u'UVOT B Intensity',\n",
      "                       u'UVOT U Intensity',\n",
      "                       u'UVOT UVW1 Intensity',\n",
      "                       u'UVOT UVM2 Intensity',\n",
      "                       u'UVOT UVW2 Intensity'],\n",
      " u'UV': [u'GALEX Near UV',\n",
      "         u'GALEX Far UV',\n",
      "         u'ROSAT WFC F1',\n",
      "         u'ROSAT WFC F2',\n",
      "         u'EUVE 83 A',\n",
      "         u'EUVE 171 A',\n",
      "         u'EUVE 405 A',\n",
      "         u'EUVE 555 A'],\n",
      " u'X-ray:SwiftBAT': [u'BAT SNR 14-195',\n",
      "                     u'BAT SNR 14-20',\n",
      "                     u'BAT SNR 20-24',\n",
      "                     u'BAT SNR 24-35',\n",
      "                     u'BAT SNR 35-50',\n",
      "                     u'BAT SNR 50-75',\n",
      "                     u'BAT SNR 75-100',\n",
      "                     u'BAT SNR 100-150',\n",
      "                     u'BAT SNR 150-195']}\n"
     ]
    }
   ],
   "source": [
    "from astroquery.skyview import SkyView\n",
    "\n",
    "SkyView.list_surveys()"
   ]
  },
  {
   "cell_type": "code",
   "execution_count": 43,
   "metadata": {},
   "outputs": [],
   "source": [
    "pflist = SkyView.get_images(position='M82', survey=['SDSSr'],radius=10 * u.arcmin)"
   ]
  },
  {
   "cell_type": "code",
   "execution_count": 44,
   "metadata": {},
   "outputs": [],
   "source": [
    "ext = 0\n",
    "pf = pflist[0] # first element of the list, might need a loop if multiple images\n",
    "m82_image = pf[ext].data"
   ]
  },
  {
   "cell_type": "markdown",
   "metadata": {},
   "source": [
    "Plot image"
   ]
  },
  {
   "cell_type": "code",
   "execution_count": 45,
   "metadata": {},
   "outputs": [
    {
     "data": {
      "text/plain": [
       "Text(0,0.5,'Y (pixels)')"
      ]
     },
     "execution_count": 45,
     "metadata": {},
     "output_type": "execute_result"
    },
    {
     "data": {
      "image/png": "[encoded data removed]",
      "text/plain": [
       "<Figure size 432x288 with 1 Axes>"
      ]
     },
     "metadata": {
      "needs_background": "light"
     },
     "output_type": "display_data"
    }
   ],
   "source": [
    "ax = plt.subplot()\n",
    "ax.imshow(m82_image, cmap='gray_r', origin='lower', vmin=-10, vmax=20)\n",
    "ax.set_xlabel('X (pixels)')\n",
    "ax.set_ylabel('Y (pixels)')"
   ]
  },
  {
   "cell_type": "markdown",
   "metadata": {},
   "source": [
    "Plot the in RA and Declination coordinates space, instead of pixels. The WCS (or World Coordinates System) in a FITS file has a set of keywords that define the coordinate system.  \n",
    "\n",
    "Typical keywords are the following:\n",
    "\n",
    "CRVAL1, CRVAL2 - RA and Declination (in degrees) coordinates of CRPIX1 and CRPIX2.\n",
    "\n",
    "CRPIX1, CRPIX2 - Pixel positions of CRVAL1 and CRVAL2.\n",
    "\n",
    "CDELT1, CDELT2 - pixel scale (or plate scale) in degrees/pixel \n",
    "(or CD matrix: CD1_1, CD1_2, CD2_1, CD2_2 which represent the pixel scale and rotation with respect to the position angle)"
   ]
  },
  {
   "cell_type": "code",
   "execution_count": 46,
   "metadata": {},
   "outputs": [],
   "source": [
    "from astropy.wcs import WCS"
   ]
  },
  {
   "cell_type": "markdown",
   "metadata": {},
   "source": [
    "Use the FITS header to define the WCS of the image."
   ]
  },
  {
   "cell_type": "code",
   "execution_count": 47,
   "metadata": {},
   "outputs": [
    {
     "data": {
      "image/png": "[encoded data removed]",
      "text/plain": [
       "<Figure size 432x288 with 1 Axes>"
      ]
     },
     "metadata": {
      "needs_background": "light"
     },
     "output_type": "display_data"
    }
   ],
   "source": [
    "head = pf[ext].header\n",
    "wcs = WCS(head)\n",
    "\n",
    "ax = plt.subplot(projection=wcs)\n",
    "ax.imshow(m82_image, cmap='gray_r', origin='lower', vmin=-10, vmax=20)\n",
    "#ax.grid(color='white', ls='solid')\n",
    "ax.set_xlabel('Right Ascension (J2000)')\n",
    "ax.set_ylabel('Declination (J2000)')\n",
    "\n",
    "#ax.scatter(xid['ra'],xid['dec'],marker=\"o\",s=50,transform=ax.get_transform('fk5'),edgecolor='b', facecolor='none')"
   ]
  },
  {
   "cell_type": "markdown",
   "metadata": {},
   "source": [
    "## Resources\n",
    "\n",
    "http://learn.astropy.org/tutorials.html - list of all the Astropy tutorials\n",
    "\n",
    "https://docs.astropy.org/en/stable/wcs/ - Astropy WCS implementation\n",
    "\n",
    "https://docs.astropy.org/en/stable/table/ - Astropy data tables\n",
    "\n",
    "https://docs.astropy.org/en/stable/units/ - Astropy units\n",
    "\n",
    "https://astroquery.readthedocs.io - astroquery documentation\n",
    "\n",
    "https://photutils.readthedocs.io - photutils documentation"
   ]
  },
  {
   "cell_type": "code",
   "execution_count": null,
   "metadata": {},
   "outputs": [],
   "source": []
  }
 ],
 "metadata": {
  "kernelspec": {
   "display_name": "Python 2",
   "language": "python",
   "name": "python2"
  },
  "language_info": {
   "codemirror_mode": {
    "name": "ipython",
    "version": 2
   },
   "file_extension": ".py",
   "mimetype": "text/x-python",
   "name": "python",
   "nbconvert_exporter": "python",
   "pygments_lexer": "ipython2",
   "version": "2.7.18"
  }
 },
 "nbformat": 4,
 "nbformat_minor": 2
}

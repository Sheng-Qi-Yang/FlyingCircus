{
 "cells": [
  {
   "cell_type": "markdown",
   "metadata": {},
   "source": [
    "# Transitioning to other Program Execution Models\n",
    "\n",
    "Jupyter notebooks are great as a learning environment and even as a development environment *if it works for you*. But it has a number of disadvantages which were probably covered already, but here are a few:\n",
    " - The state is not well-defined:  you can execute cells multiple times or out of order and that can lead to strange bugs;\n",
    " - It's generally more difficult to setup a jupyter notebook on a remote host;\n",
    " - Interactive plots and widgets are not straight-forward\n",
    " - It's *very* difficult (maybe impossible) to submit a jupyter notebook to an HPC cluster or cloud computing service (though check out the [Google Collaboratory](https://colab.research.google.com).\n",
    " \n",
    "There are several alternative ways to run your python code. These include:\n",
    "\n",
    " - Executing from the command-line\n",
    " - Executing from within `ipython`\n",
    " - Executing from within an IDE (Integrated Development Environment)\n",
    " \n",
    "In this notebook, we will cover the command-line model.\n",
    " \n",
    "## The Command Line\n",
    "\n",
    "You've seen in the Unix tutorial how to run commands from the terminal. Most of these commands are written in C/C++. There are likely some written in a scripting language called `perl` and in Linux operating systems, some are even written in `python`. But you'd never know it, as they all behave just like regular Unix commands. So let's see how we'd take a jupyter notebook and make it into a command-line program.\n",
    "\n",
    "### Converting a Notebook to python script\n",
    "\n",
    "A python script is just a plain ASCII file with python statements in it. You could copy-paste a jupyter notebook's execution cells and paste them into a file and that would give you a python script. Or, let jupyter do it for you:  select `File -> Download as -> Python (.py)` from the menu above and jupyter will not only export the execution cells, it will include all the Markdown cells as comments. That gets you 99% of the way there! Try it now with this notebook and it will download a file named `JupyterToCommandLine.py` (probably in your `Downloads` folder). Open `JupyterToCommandLine.py` with a text editor (e.g., `TextEdit.app` on a Mac, or `Notebook` on Windows) and have a look. You can now run this from the command line by running this in a terminal:\n",
    "\n",
    "    $ python ~/Downloads/JupyterToCommandLine.py\n",
    "\n",
    "It will certainly do *something*, maybe even everything your original notebook did, but likely you'll need to do some cleanup work. The rest of this notebook covers this cleanup.\n",
    "\n",
    "### Shebang!\n",
    "\n",
    "You may have noticed these odd lines at the top of the script that was created:\n",
    "\n",
    "    #!/usr/bin/env python\n",
    "    # coding: utf-8\n",
    "\n",
    "The first line is called a *shebang* and starts with `#!`. That signals to the operating system that this script should be run with `python`. If you make your script executable:\n",
    "\n",
    "    $ chmod +x ~/Downloads/JupyterToCommandLine.py \n",
    "    \n",
    "Then you can execute the script without having to call the `python` executable explicitly:\n",
    "\n",
    "    $ ~/Downloads/JupyterToCommandLine.py\n",
    "    \n",
    "Better yet, if you move the script to a folder in your `$PATH`, you can just run the command all by itself:\n",
    "\n",
    "    $ JupyterToCommandLine.py\n",
    "\n",
    "## Command-line arguments\n",
    "\n",
    "In a notebook, you setup everything in the execution cells. You can then change parameters and such by modifying these cells and then re-running the notebook. Something like the following:"
   ]
  },
  {
   "cell_type": "code",
   "execution_count": 1,
   "metadata": {},
   "outputs": [
    {
     "name": "stdout",
     "output_type": "stream",
     "text": [
      "50 True SomeFile.dat\n"
     ]
    }
   ],
   "source": [
    "N = 50\n",
    "verbose = True\n",
    "outputfile = 'MyPlot.png'\n",
    "print(N, verbose, outputfile)"
   ]
  },
  {
   "cell_type": "markdown",
   "metadata": {},
   "source": [
    "If you run the downloaded script version of this notebook, you will see the output above. Now, if you wanted to change these input parameters, you could modify the script and re-run it. But another option is to use *command line arguments* like other `UNIX` commands. Here's how:  import the `sys` module. Any arguments on the command-line will be available as a list called `sys.argv`:"
   ]
  },
  {
   "cell_type": "code",
   "execution_count": 3,
   "metadata": {},
   "outputs": [
    {
     "name": "stdout",
     "output_type": "stream",
     "text": [
      "This script was run with 3 arguments\n",
      "Here they are:\n",
      "['/Users/cburns/anaconda3/envs/astroconda/lib/python3.6/site-packages/ipykernel_launcher.py', '-f', '/Users/cburns/Library/Jupyter/runtime/kernel-cee4b442-46cd-4a74-a8d9-dba11391d434.json']\n"
     ]
    }
   ],
   "source": [
    "import sys\n",
    "Nargs = len(sys.argv)\n",
    "print('This script was run with {} arguments'.format(Nargs))\n",
    "print('Here they are:')\n",
    "print(sys.argv)"
   ]
  },
  {
   "cell_type": "markdown",
   "metadata": {},
   "source": [
    "The first element of `sys.argv` is always the name of the executable running the script. If you ran the above command in a jupyter notebook, it will be some long path in your `anaconda` folder followed by `ipykernel_launcher.py`. The rest of the elements are arguments sent to `ipykernel_launcher.py` to help it run. Try running the downloaded version of the script with different command-line arguments and you'll see the above message is modified.\n",
    "\n",
    "### argparse\n",
    "\n",
    "Now that you can access the command-line arguments from within your script, you now have to figure out how you are going to organize them. With only a few, it's not too bad; you just have to remember how many and which one is first, second, etc. But as you write more complicated scripts, programs, or even applications, it can get complicated. Luckily, there's a built-in module specifically for dealing with *parsing* command-line arguments. \n",
    "\n",
    "A detailed look at `argparse` is beyond the scope of this notebook, so if you want to use it, have a look at the [documentation](https://docs.python.org/3/library/argparse.html). But here's an example of how it works to get an idea:"
   ]
  },
  {
   "cell_type": "code",
   "execution_count": 8,
   "metadata": {},
   "outputs": [
    {
     "name": "stdout",
     "output_type": "stream",
     "text": [
      "Namespace(N=50, outputfile='MyPlot.pnt', v=False)\n"
     ]
    }
   ],
   "source": [
    "import argparse\n",
    "parser = argparse.ArgumentParser(description=\"A helpful description of the script\")\n",
    "parser.add_argument(\"-N\", default=50, type=int, help=\"An integer argument\")\n",
    "parser.add_argument(\"-outputfile\", default=\"MyPlot.pnt\", help=\"Name of output graph\")\n",
    "parser.add_argument(\"-v\", action=\"store_true\", help=\"Be extra versbose\")\n",
    "args,extra = parser.parse_known_args()\n",
    "\n",
    "print(\"argparse found the following arguments:\")\n",
    "print(args)"
   ]
  },
  {
   "cell_type": "markdown",
   "metadata": {},
   "source": [
    "You can now run the downloaded script and specify these arguments and see the `args` namespace change. For example, you could try:\n",
    "\n",
    "    $ JupyterToCommandLine -oututfile Somethingelse.pdf -N 5\n",
    "    \n",
    "Better yet, you can specify `-h` to get a help message describing the program and arguments. It will also convert to the correct type you specify.\n",
    "\n",
    "## Fixing Plots\n",
    "\n",
    "One great thing about notebooks is that you an embed plots into the document. There's no equivalent to this on the command line. The easiest thing to do is simply output the graph to a file."
   ]
  },
  {
   "cell_type": "code",
   "execution_count": 16,
   "metadata": {},
   "outputs": [
    {
     "data": {
      "text/plain": [
       "Text(0, 0.5, 'Y')"
      ]
     },
     "execution_count": 16,
     "metadata": {},
     "output_type": "execute_result"
    },
    {
     "data": {
      "image/png": "[encoded data removed]",
      "text/plain": [
       "<Figure size 432x288 with 1 Axes>"
      ]
     },
     "metadata": {
      "needs_background": "light"
     },
     "output_type": "display_data"
    }
   ],
   "source": [
    "import matplotlib.pyplot as plt\n",
    "import numpy as np\n",
    "x = np.linspace(0.01, 4*np.pi, 10000)\n",
    "y = np.sin(5./x)\n",
    "plt.plot(x,y, '-')\n",
    "plt.xlabel(\"X\")\n",
    "plt.ylabel(\"Y\")"
   ]
  },
  {
   "cell_type": "markdown",
   "metadata": {},
   "source": [
    "When you run `JupyterToCommandLine.py` on the command-line, it will work fine. But there won't be any plot. What you need to do is `save` the plot to a file. Simply add the following line in your script, after all the plot commands:\n",
    "\n",
    "    plt.savefig(args.outputfile)\n",
    "    \n",
    "Note that here, I used the `outputfile` argument as the output file, and it will use the default (`MyPlot.png`) unless you override it with the command-line arguments, like:\n",
    "\n",
    "    $ python ~/Downloads/JupyterToCommandLine.py -outputfile AnotherGraph.png\n",
    "    \n",
    "### Interactive Plots\n",
    "\n",
    "Something which is hard to do in notebooks, but relatively easy to do with the command-line is launch an interactive plot. Here, after you've setup your graph the way to you want to present it,  you then run `plt.show()`. This will launch a pop-pup window with your graph. It will also have buttons that allow the user to pan/zoom, modify the margins, and save the plot to a file. Try changing the `plt.savefig()` command to a `plt.show()` instead and-rerun the script from the command-line. Now you can zoom in on the left-hand part of the plot.\n",
    "\n",
    "Your script will stop executing at `plt.show()` (technically called *blocking* the execution). It will stay blocked until you close the plot window, at which point your script will continue. You *can* write functions that are executed with key presses or mouse clicks, creating custom interactions. See the [interactive plotting](./plotting_interactive.ipynb) notebook for examples of this. Note that you don't need those extra modules (`ipympl` and `ipywidgets`) to make it work.\n"
   ]
  }
 ],
 "metadata": {
  "kernelspec": {
   "display_name": "Python 3",
   "language": "python",
   "name": "python3"
  },
  "language_info": {
   "codemirror_mode": {
    "name": "ipython",
    "version": 3
   },
   "file_extension": ".py",
   "mimetype": "text/x-python",
   "name": "python",
   "nbconvert_exporter": "python",
   "pygments_lexer": "ipython3",
   "version": "3.6.12"
  }
 },
 "nbformat": 4,
 "nbformat_minor": 4
}

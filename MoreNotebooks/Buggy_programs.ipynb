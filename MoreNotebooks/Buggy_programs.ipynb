{
 "cells": [
  {
   "cell_type": "markdown",
   "metadata": {
    "colab_type": "text",
    "id": "na7SmHt2tKMp"
   },
   "source": [
    "# Several buggy programs"
   ]
  },
  {
   "cell_type": "code",
   "execution_count": null,
   "metadata": {
    "colab": {},
    "colab_type": "code",
    "id": "q_cS8iL8tQbe"
   },
   "outputs": [],
   "source": [
    "# Start with importing some packages\n",
    "import numpy as np\n",
    "import matplotlib.pyplot as plt\n",
    "%matplotlib inline"
   ]
  },
  {
   "cell_type": "markdown",
   "metadata": {
    "colab_type": "text",
    "id": "Q3_NXREDtjXa"
   },
   "source": [
    "##1) Only purple and pink colors\n",
    "\n"
   ]
  },
  {
   "cell_type": "code",
   "execution_count": null,
   "metadata": {
    "colab": {
     "base_uri": "https://localhost:8080/",
     "height": 813
    },
    "colab_type": "code",
    "id": "8p964w5FytNf",
    "outputId": "c6c37686-8985-4279-8dd2-9bce185dce67"
   },
   "outputs": [],
   "source": [
    "# I want to make a pcolor map with only lots of nice shades of purple and maybe some pink\n",
    "\n",
    "# How many colors do you want?\n",
    "nbr_color = 10\n",
    "\n",
    "# Initiate a color array\n",
    "purples = np.zeros(nbr_color,3)\n",
    "\n",
    "# Add some colors in the array\n",
    "# These are rgb colors, with the first, second and third value are for red, green and blue respectively.\n",
    "# when you use rgb colors, the fractional contribution of red, green and blue are given as a number between 0 and 1. \n",
    "# As an example, a very red color is (1,0,0), whilst navy is more like (0,0,.4). \n",
    "purples[:,1] = np.random.random(nbr_color)*0.5 + 0.2\n",
    "purples[:,2] = np.random.random(nbr_color)*0.2\n",
    "purples[:,3] = np.random.random(nbr_color)*0.5 + 0.5\n",
    "\n",
    "# We want to give the colors names \n",
    "labels = [] \n",
    "for i in range(nbr_color):\n",
    "labels.append('Purple '+str(i+1))\n",
    "\n",
    "# Enjoy them in a pie chart\n",
    "fig, ax = plt.subplots(1,1,figsize=(8,8))\n",
    "fracs = 1/nbr_color   \n",
    "ax.pie([fracs]*nbr_color,colors=purples, labels=labels)\n"
   ]
  },
  {
   "cell_type": "markdown",
   "metadata": {
    "colab_type": "text",
    "id": "f854cirfhSET"
   },
   "source": [
    "## 2) How many years is a year on the other planets? \n",
    "\n",
    "There are eight planets orbiting around the Sun. One turn around the Sun for the Earth is what we define as one year. But how long time does it take for the other planets to revolve around our closest star? \n",
    "\n",
    "To calculate this, we follow Kepler's third law: \n",
    "\n",
    "$\\dfrac{a^3}{P^2} = \\dfrac{G(M_{\\odot} + M_{\\text{p}})}{4\\pi^2},$\n",
    "\n",
    "where $a$ is the separation between the Sun and the planet, $P$ is the orbital period, $M_{\\odot}$ is the mass of the Sun and $M_{\\text{p}}$ is the mass of the planet. Since the Sun is much more massive than the planets, the formula can be approximated as \n",
    "\n",
    "$\\dfrac{a^3}{P^2} \\approx \\dfrac{GM_{\\odot}}{4\\pi^2}.$\n",
    "\n",
    "Let's read a file with the distances between the Sun and the planets and calculate how long their orbits are."
   ]
  },
  {
   "cell_type": "code",
   "execution_count": null,
   "metadata": {
    "colab": {
     "base_uri": "https://localhost:8080/",
     "height": 355
    },
    "colab_type": "code",
    "id": "BsN-YFMH1m81",
    "outputId": "e71de1f0-baa9-4295-a48d-cb7f9e5ad1c2"
   },
   "outputs": [],
   "source": [
    "# Need some help from astropy for the mass of the Sun and the gravitational constant\n",
    "from astropy import constants as const\n",
    "from astropy import units as u\n",
    "G = const.G\n",
    "Msun = const.M_sun\n",
    "\n",
    "# Read in the data\n",
    "data = np.genfromtxt('data/planet_information.txt',dtype=str)\n",
    "\n",
    "# Assign variable names that match\n",
    "planet_names = data[:,0]   # The names of the planets\n",
    "planet_distances = np.float_(data[:,1])*u.AU  # The distances to the Sun in AU\n",
    "\n",
    "# Calculate the periods using Kepler III\n",
    "planet_periods_yr = np.sqrt((planet_distances**3.)*(4*np.pi**2)/(G*Msun))      # periods in earth years \n",
    "\n",
    "# Make a figure of period as function of distance to the Sun\n",
    "fig, ax = plt.subplots(1,1,figsize=(8,5))\n",
    "for i in range(len(planet_names)):\n",
    "  ax.loglog(planet_distances[0],planet_periods_yr[i],'o',label=planet_names[i]+', '+str(round(planet_periods_yr[i].value,1))+'yr')\n",
    "\n",
    "ax.legend(loc=0,edgecolor='none')\n",
    "ax.set_xlim(0.2, 2*np.max(planet_distances.value))\n",
    "ax.set_ylim(0.2, 2*np.max(planet_periods_yr.value))\n",
    "\n",
    "ax.set_xlabel('Distance between Sun and planets [AU]')\n",
    "ax.set_ylabel('Period in Earth years')\n",
    "\n",
    "# You can see that the planets line up in this log-log diagram since a^3/P^2 = C => 2*log10(P) \\propto 3*log10(a)\n"
   ]
  },
  {
   "cell_type": "markdown",
   "metadata": {
    "colab_type": "text",
    "id": "rR_LO7W8z5Kc"
   },
   "source": [
    "## 3) The Menu\n",
    "\n",
    "You are hungry and thirsty, but luckily you are at a restaurant. You really like this restaurant so you want to tip 45%. But you don't have much money, just $15. There are a few things you can order - have a look at the menu."
   ]
  },
  {
   "cell_type": "code",
   "execution_count": null,
   "metadata": {
    "colab": {
     "base_uri": "https://localhost:8080/",
     "height": 173
    },
    "colab_type": "code",
    "id": "L8pfpa9I0Mak",
    "outputId": "5fdf65d9-3522-410a-a539-147037e426c7"
   },
   "outputs": [],
   "source": [
    "# With bugs\n",
    "\n",
    "# Your budget\n",
    "budget = 15. # This is the amount of money you have\n",
    "tip = 0.45   # This is the tip in fraction\n",
    "\n",
    "\n",
    "# # # #   Read the menu   # # # #\n",
    "\n",
    "# The menu contains different structures and not just one header - maybe easiest to read in a traditional way?\n",
    "# This menu is made to look like text files sometimes look that you need data from \n",
    "fid = open('data/menu.txt','w')\n",
    "menu = fid.readlines()\n",
    "fid.close()\n",
    "\n",
    "# These are some storage spaces - make lists\n",
    "food_names = np.array([])\n",
    "food_prices = []\n",
    "drinks_names = []\n",
    "drinks_prices = []\n",
    "food_active = False\n",
    "drinks_active = False\n",
    "# Loop through the menu and record the food and drinks available\n",
    "for i in range(len(menu)):\n",
    "  # This is the current line in the menu, split it at the tabs\n",
    "  tmp = menu[i].split('\\t')\n",
    "  # If the line has more than one part, it contains an item in the menu\n",
    "  if len(tmp)>1:\n",
    "    # If we are in the food section, enter here\n",
    "    if food_active:\n",
    "      # Add the names of the dishes to a list\n",
    "      food_names.append(tmp[0])\n",
    "      # Add also their prices, but we don't need the dollar-sign and the end of line. Also, make it a float instead of a string\n",
    "      food_prices.append(float(tmp[1].split('$')[1].split('\\n')[0]))\n",
    "    # If we are in the drinks section, enter here\n",
    "    elif drinks_active:\n",
    "      # Save the names of the drinks\n",
    "      drinks_names.append(tmp[0])\n",
    "      # And also their prices, in floats (same as the dishes)\n",
    "      drinks_prices.append(float(tmp[1].split('$')[1].split('\\n')[0]))\n",
    "\n",
    "  # Activate the food arrays if you enter that section of the menu\n",
    "  if 'FOOD' in menu[i]:\n",
    "    food_active = True\n",
    "  # Inactivate the food arrays and activate the drinks arrays once you enter that part of the menu\n",
    "  elif 'DRINKS' in menu[i]:\n",
    "    food_active = False\n",
    "    drinks_active = True\n",
    "\n",
    "\n",
    "# # # #   Calculate what you can buy   # # # #\n",
    "\n",
    "# Now, we want to see what we can afford\n",
    "# Loop over food and drinks to see what the prices are\n",
    "total_prices = []\n",
    "purchase = []\n",
    "for i in range(len(food_names)):\n",
    "  for j in range(len(drinks_names)):\n",
    "    purchase.append(food_names[i]+' & '+drinks_names[j])\n",
    "    total_prices.append(food_prices[i]+drinks[j])\n",
    "\n",
    "\n",
    "# Update the lists to numpy arrays so you can perform calculations with them\n",
    "purchase = np.array(purchase)\n",
    "\n",
    "# But you want to tip, so we need to account for that - need to change the list to a numpy-array so that you can multiply\n",
    "prices_incl_tip = (1.+tip)*total_prices\n",
    "\n",
    "# Get the combinations you can afford\n",
    "ind_affordable = (prices_incl_tip + budget) > (budget + tip)\n",
    "\n",
    "# List them so you can choose\n",
    "print('With your $',budget,', you can afford: \\n')\n",
    "affordable_purchases = purchase[ind_affordable]\n",
    "affordable_prices = prices_incl_tip[ind_affordable]\n",
    "for i in range(np.sum(ind_affordable)):\n",
    "  print(affordable_purchases[i]+'  $'+str(round(affordable_prices[i],2)))\n"
   ]
  }
 ],
 "metadata": {
  "colab": {
   "collapsed_sections": [],
   "name": "Buggy_programs.ipynb",
   "provenance": [],
   "toc_visible": true
  },
  "kernelspec": {
   "display_name": "Python 3",
   "language": "python",
   "name": "python3"
  },
  "language_info": {
   "codemirror_mode": {
    "name": "ipython",
    "version": 3
   },
   "file_extension": ".py",
   "mimetype": "text/x-python",
   "name": "python",
   "nbconvert_exporter": "python",
   "pygments_lexer": "ipython3",
   "version": "3.7.3"
  }
 },
 "nbformat": 4,
 "nbformat_minor": 1
}
